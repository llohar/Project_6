{
  "nbformat": 4,
  "nbformat_minor": 0,
  "metadata": {
    "colab": {
      "name": "Project6_soln.ipynb",
      "provenance": [],
      "authorship_tag": "ABX9TyMtyM48ykx58wOk8KmBd7Fc",
      "include_colab_link": true
    },
    "kernelspec": {
      "name": "python3",
      "display_name": "Python 3"
    },
    "language_info": {
      "name": "python"
    }
  },
  "cells": [
    {
      "cell_type": "markdown",
      "metadata": {
        "id": "view-in-github",
        "colab_type": "text"
      },
      "source": [
        "<a href=\"https://colab.research.google.com/github/llohar/Project_6/blob/main/Project6_soln.ipynb\" target=\"_parent\"><img src=\"https://colab.research.google.com/assets/colab-badge.svg\" alt=\"Open In Colab\"/></a>"
      ]
    },
    {
      "cell_type": "code",
      "metadata": {
        "id": "BFv_RqAdKO0-"
      },
      "source": [
        "import numpy as np\n",
        "import pandas as pd\n",
        "import matplotlib.pyplot as plt\n",
        "import seaborn as sns"
      ],
      "execution_count": 2,
      "outputs": []
    },
    {
      "cell_type": "code",
      "metadata": {
        "id": "vGKWsXOmKup6"
      },
      "source": [
        "data=pd.read_csv(\"https://raw.githubusercontent.com/llohar/Project_6/main/Project6_data.csv\")"
      ],
      "execution_count": 3,
      "outputs": []
    },
    {
      "cell_type": "code",
      "metadata": {
        "colab": {
          "base_uri": "https://localhost:8080/",
          "height": 464
        },
        "id": "56Wch_1jKuj4",
        "outputId": "84c11ed5-5616-4a13-8266-a0684d91b791"
      },
      "source": [
        "data.head(10)"
      ],
      "execution_count": 41,
      "outputs": [
        {
          "output_type": "execute_result",
          "data": {
            "text/html": [
              "<div>\n",
              "<style scoped>\n",
              "    .dataframe tbody tr th:only-of-type {\n",
              "        vertical-align: middle;\n",
              "    }\n",
              "\n",
              "    .dataframe tbody tr th {\n",
              "        vertical-align: top;\n",
              "    }\n",
              "\n",
              "    .dataframe thead th {\n",
              "        text-align: right;\n",
              "    }\n",
              "</style>\n",
              "<table border=\"1\" class=\"dataframe\">\n",
              "  <thead>\n",
              "    <tr style=\"text-align: right;\">\n",
              "      <th></th>\n",
              "      <th>Unnamed: 0</th>\n",
              "      <th>Operator</th>\n",
              "      <th>In Out Travelling</th>\n",
              "      <th>Network Type</th>\n",
              "      <th>Rating</th>\n",
              "      <th>Call Drop Category</th>\n",
              "      <th>Latitude</th>\n",
              "      <th>Longitude</th>\n",
              "      <th>State Name</th>\n",
              "      <th>Average Data Speed Download</th>\n",
              "      <th>Average Signal Strength Download</th>\n",
              "      <th>Average Data Speed Upload</th>\n",
              "      <th>Average Signal Strength Upload</th>\n",
              "      <th>Population</th>\n",
              "      <th>Literacy Rate</th>\n",
              "      <th>Rainfall</th>\n",
              "      <th>Area of the state</th>\n",
              "    </tr>\n",
              "  </thead>\n",
              "  <tbody>\n",
              "    <tr>\n",
              "      <th>0</th>\n",
              "      <td>0</td>\n",
              "      <td>Airtel</td>\n",
              "      <td>Indoor</td>\n",
              "      <td>4G</td>\n",
              "      <td>3</td>\n",
              "      <td>Satisfactory</td>\n",
              "      <td>12.998502</td>\n",
              "      <td>77.672437</td>\n",
              "      <td>Karnataka</td>\n",
              "      <td>8807.910</td>\n",
              "      <td>-94.860</td>\n",
              "      <td>2591.08</td>\n",
              "      <td>-94.840</td>\n",
              "      <td>61130704.0</td>\n",
              "      <td>75.36</td>\n",
              "      <td>1248.0</td>\n",
              "      <td>191791.0</td>\n",
              "    </tr>\n",
              "    <tr>\n",
              "      <th>1</th>\n",
              "      <td>1</td>\n",
              "      <td>Vodafone</td>\n",
              "      <td>Indoor</td>\n",
              "      <td>4G</td>\n",
              "      <td>1</td>\n",
              "      <td>Call Dropped</td>\n",
              "      <td>23.554190</td>\n",
              "      <td>72.620110</td>\n",
              "      <td>Gujarat</td>\n",
              "      <td>6862.552</td>\n",
              "      <td>-91.960</td>\n",
              "      <td>4671.48</td>\n",
              "      <td>-91.920</td>\n",
              "      <td>60439692.0</td>\n",
              "      <td>78.03</td>\n",
              "      <td>842.5</td>\n",
              "      <td>196024.0</td>\n",
              "    </tr>\n",
              "    <tr>\n",
              "      <th>2</th>\n",
              "      <td>2</td>\n",
              "      <td>Airtel</td>\n",
              "      <td>Indoor</td>\n",
              "      <td>3G</td>\n",
              "      <td>1</td>\n",
              "      <td>Call Dropped</td>\n",
              "      <td>11.327329</td>\n",
              "      <td>76.749743</td>\n",
              "      <td>Tamil Nadu</td>\n",
              "      <td>1178.410</td>\n",
              "      <td>-85.030</td>\n",
              "      <td>968.58</td>\n",
              "      <td>-85.470</td>\n",
              "      <td>72147030.0</td>\n",
              "      <td>80.33</td>\n",
              "      <td>998.0</td>\n",
              "      <td>130060.0</td>\n",
              "    </tr>\n",
              "    <tr>\n",
              "      <th>3</th>\n",
              "      <td>3</td>\n",
              "      <td>Airtel</td>\n",
              "      <td>Indoor</td>\n",
              "      <td>4G</td>\n",
              "      <td>3</td>\n",
              "      <td>Satisfactory</td>\n",
              "      <td>22.279660</td>\n",
              "      <td>73.149369</td>\n",
              "      <td>Gujarat</td>\n",
              "      <td>5694.480</td>\n",
              "      <td>-89.390</td>\n",
              "      <td>2515.34</td>\n",
              "      <td>-89.515</td>\n",
              "      <td>60439692.0</td>\n",
              "      <td>78.03</td>\n",
              "      <td>842.5</td>\n",
              "      <td>196024.0</td>\n",
              "    </tr>\n",
              "    <tr>\n",
              "      <th>4</th>\n",
              "      <td>4</td>\n",
              "      <td>Airtel</td>\n",
              "      <td>Travelling</td>\n",
              "      <td>4G</td>\n",
              "      <td>3</td>\n",
              "      <td>Satisfactory</td>\n",
              "      <td>18.546344</td>\n",
              "      <td>73.819090</td>\n",
              "      <td>Maharashtra</td>\n",
              "      <td>10804.560</td>\n",
              "      <td>-94.050</td>\n",
              "      <td>4968.27</td>\n",
              "      <td>-94.110</td>\n",
              "      <td>112374333.0</td>\n",
              "      <td>82.34</td>\n",
              "      <td>1455.5</td>\n",
              "      <td>307713.0</td>\n",
              "    </tr>\n",
              "    <tr>\n",
              "      <th>5</th>\n",
              "      <td>5</td>\n",
              "      <td>Airtel</td>\n",
              "      <td>Travelling</td>\n",
              "      <td>4G</td>\n",
              "      <td>3</td>\n",
              "      <td>Satisfactory</td>\n",
              "      <td>18.546627</td>\n",
              "      <td>73.819532</td>\n",
              "      <td>Maharashtra</td>\n",
              "      <td>10804.560</td>\n",
              "      <td>-94.050</td>\n",
              "      <td>4968.27</td>\n",
              "      <td>-94.110</td>\n",
              "      <td>112374333.0</td>\n",
              "      <td>82.34</td>\n",
              "      <td>1455.5</td>\n",
              "      <td>307713.0</td>\n",
              "    </tr>\n",
              "    <tr>\n",
              "      <th>6</th>\n",
              "      <td>6</td>\n",
              "      <td>Airtel</td>\n",
              "      <td>Travelling</td>\n",
              "      <td>4G</td>\n",
              "      <td>5</td>\n",
              "      <td>Satisfactory</td>\n",
              "      <td>18.547528</td>\n",
              "      <td>73.819105</td>\n",
              "      <td>Maharashtra</td>\n",
              "      <td>10804.560</td>\n",
              "      <td>-94.050</td>\n",
              "      <td>4968.27</td>\n",
              "      <td>-94.110</td>\n",
              "      <td>112374333.0</td>\n",
              "      <td>82.34</td>\n",
              "      <td>1455.5</td>\n",
              "      <td>307713.0</td>\n",
              "    </tr>\n",
              "    <tr>\n",
              "      <th>7</th>\n",
              "      <td>7</td>\n",
              "      <td>Airtel</td>\n",
              "      <td>Travelling</td>\n",
              "      <td>4G</td>\n",
              "      <td>4</td>\n",
              "      <td>Satisfactory</td>\n",
              "      <td>18.547528</td>\n",
              "      <td>73.819105</td>\n",
              "      <td>Maharashtra</td>\n",
              "      <td>10804.560</td>\n",
              "      <td>-94.050</td>\n",
              "      <td>4968.27</td>\n",
              "      <td>-94.110</td>\n",
              "      <td>112374333.0</td>\n",
              "      <td>82.34</td>\n",
              "      <td>1455.5</td>\n",
              "      <td>307713.0</td>\n",
              "    </tr>\n",
              "    <tr>\n",
              "      <th>8</th>\n",
              "      <td>8</td>\n",
              "      <td>Airtel</td>\n",
              "      <td>Indoor</td>\n",
              "      <td>4G</td>\n",
              "      <td>5</td>\n",
              "      <td>Satisfactory</td>\n",
              "      <td>10.583104</td>\n",
              "      <td>77.263595</td>\n",
              "      <td>Tamil Nadu</td>\n",
              "      <td>7914.680</td>\n",
              "      <td>-95.011</td>\n",
              "      <td>2788.90</td>\n",
              "      <td>-95.093</td>\n",
              "      <td>72147030.0</td>\n",
              "      <td>80.33</td>\n",
              "      <td>998.0</td>\n",
              "      <td>130060.0</td>\n",
              "    </tr>\n",
              "    <tr>\n",
              "      <th>9</th>\n",
              "      <td>9</td>\n",
              "      <td>RJio</td>\n",
              "      <td>Indoor</td>\n",
              "      <td>4G</td>\n",
              "      <td>5</td>\n",
              "      <td>Satisfactory</td>\n",
              "      <td>29.672815</td>\n",
              "      <td>77.007663</td>\n",
              "      <td>Haryana</td>\n",
              "      <td>7170.630</td>\n",
              "      <td>-94.578</td>\n",
              "      <td>2680.02</td>\n",
              "      <td>-94.650</td>\n",
              "      <td>25351462.0</td>\n",
              "      <td>75.55</td>\n",
              "      <td>617.0</td>\n",
              "      <td>44212.0</td>\n",
              "    </tr>\n",
              "  </tbody>\n",
              "</table>\n",
              "</div>"
            ],
            "text/plain": [
              "   Unnamed: 0  Operator  ... Rainfall Area of the state\n",
              "0           0    Airtel  ...   1248.0          191791.0\n",
              "1           1  Vodafone  ...    842.5          196024.0\n",
              "2           2    Airtel  ...    998.0          130060.0\n",
              "3           3    Airtel  ...    842.5          196024.0\n",
              "4           4    Airtel  ...   1455.5          307713.0\n",
              "5           5    Airtel  ...   1455.5          307713.0\n",
              "6           6    Airtel  ...   1455.5          307713.0\n",
              "7           7    Airtel  ...   1455.5          307713.0\n",
              "8           8    Airtel  ...    998.0          130060.0\n",
              "9           9      RJio  ...    617.0           44212.0\n",
              "\n",
              "[10 rows x 17 columns]"
            ]
          },
          "metadata": {
            "tags": []
          },
          "execution_count": 41
        }
      ]
    },
    {
      "cell_type": "code",
      "metadata": {
        "colab": {
          "base_uri": "https://localhost:8080/"
        },
        "id": "l1bq7hxCKueS",
        "outputId": "b048d295-8d92-48e6-ace0-e24d059b7694"
      },
      "source": [
        "data.shape"
      ],
      "execution_count": 42,
      "outputs": [
        {
          "output_type": "execute_result",
          "data": {
            "text/plain": [
              "(30785, 17)"
            ]
          },
          "metadata": {
            "tags": []
          },
          "execution_count": 42
        }
      ]
    },
    {
      "cell_type": "code",
      "metadata": {
        "colab": {
          "base_uri": "https://localhost:8080/"
        },
        "id": "1VwrslqNKuZN",
        "outputId": "3c177f75-0bf5-4148-d07c-21320f6c2ceb"
      },
      "source": [
        "data.nunique()"
      ],
      "execution_count": 43,
      "outputs": [
        {
          "output_type": "execute_result",
          "data": {
            "text/plain": [
              "Unnamed: 0                          30785\n",
              "Operator                                5\n",
              "In Out Travelling                       3\n",
              "Network Type                            2\n",
              "Rating                                  5\n",
              "Call Drop Category                      3\n",
              "Latitude                            16261\n",
              "Longitude                           16054\n",
              "State Name                             15\n",
              "Average Data Speed Download            98\n",
              "Average Signal Strength Download       95\n",
              "Average Data Speed Upload              98\n",
              "Average Signal Strength Upload         95\n",
              "Population                             15\n",
              "Literacy Rate                          15\n",
              "Rainfall                               15\n",
              "Area of the state                      15\n",
              "dtype: int64"
            ]
          },
          "metadata": {
            "tags": []
          },
          "execution_count": 43
        }
      ]
    },
    {
      "cell_type": "code",
      "metadata": {
        "colab": {
          "base_uri": "https://localhost:8080/",
          "height": 541
        },
        "id": "ZwwhTBDhPiwU",
        "outputId": "8c96cd4f-370f-47b5-887a-ce73a7c5bab8"
      },
      "source": [
        "data.drop('Unnamed: 0',axis=1)"
      ],
      "execution_count": 46,
      "outputs": [
        {
          "output_type": "execute_result",
          "data": {
            "text/html": [
              "<div>\n",
              "<style scoped>\n",
              "    .dataframe tbody tr th:only-of-type {\n",
              "        vertical-align: middle;\n",
              "    }\n",
              "\n",
              "    .dataframe tbody tr th {\n",
              "        vertical-align: top;\n",
              "    }\n",
              "\n",
              "    .dataframe thead th {\n",
              "        text-align: right;\n",
              "    }\n",
              "</style>\n",
              "<table border=\"1\" class=\"dataframe\">\n",
              "  <thead>\n",
              "    <tr style=\"text-align: right;\">\n",
              "      <th></th>\n",
              "      <th>Operator</th>\n",
              "      <th>In Out Travelling</th>\n",
              "      <th>Network Type</th>\n",
              "      <th>Rating</th>\n",
              "      <th>Call Drop Category</th>\n",
              "      <th>Latitude</th>\n",
              "      <th>Longitude</th>\n",
              "      <th>State Name</th>\n",
              "      <th>Average Data Speed Download</th>\n",
              "      <th>Average Signal Strength Download</th>\n",
              "      <th>Average Data Speed Upload</th>\n",
              "      <th>Average Signal Strength Upload</th>\n",
              "      <th>Population</th>\n",
              "      <th>Literacy Rate</th>\n",
              "      <th>Rainfall</th>\n",
              "      <th>Area of the state</th>\n",
              "    </tr>\n",
              "  </thead>\n",
              "  <tbody>\n",
              "    <tr>\n",
              "      <th>0</th>\n",
              "      <td>Airtel</td>\n",
              "      <td>Indoor</td>\n",
              "      <td>4G</td>\n",
              "      <td>3</td>\n",
              "      <td>Satisfactory</td>\n",
              "      <td>12.998502</td>\n",
              "      <td>77.672437</td>\n",
              "      <td>Karnataka</td>\n",
              "      <td>8807.910</td>\n",
              "      <td>-94.860</td>\n",
              "      <td>2591.08</td>\n",
              "      <td>-94.840</td>\n",
              "      <td>61130704.0</td>\n",
              "      <td>75.36</td>\n",
              "      <td>1248.0</td>\n",
              "      <td>191791.0</td>\n",
              "    </tr>\n",
              "    <tr>\n",
              "      <th>1</th>\n",
              "      <td>Vodafone</td>\n",
              "      <td>Indoor</td>\n",
              "      <td>4G</td>\n",
              "      <td>1</td>\n",
              "      <td>Call Dropped</td>\n",
              "      <td>23.554190</td>\n",
              "      <td>72.620110</td>\n",
              "      <td>Gujarat</td>\n",
              "      <td>6862.552</td>\n",
              "      <td>-91.960</td>\n",
              "      <td>4671.48</td>\n",
              "      <td>-91.920</td>\n",
              "      <td>60439692.0</td>\n",
              "      <td>78.03</td>\n",
              "      <td>842.5</td>\n",
              "      <td>196024.0</td>\n",
              "    </tr>\n",
              "    <tr>\n",
              "      <th>2</th>\n",
              "      <td>Airtel</td>\n",
              "      <td>Indoor</td>\n",
              "      <td>3G</td>\n",
              "      <td>1</td>\n",
              "      <td>Call Dropped</td>\n",
              "      <td>11.327329</td>\n",
              "      <td>76.749743</td>\n",
              "      <td>Tamil Nadu</td>\n",
              "      <td>1178.410</td>\n",
              "      <td>-85.030</td>\n",
              "      <td>968.58</td>\n",
              "      <td>-85.470</td>\n",
              "      <td>72147030.0</td>\n",
              "      <td>80.33</td>\n",
              "      <td>998.0</td>\n",
              "      <td>130060.0</td>\n",
              "    </tr>\n",
              "    <tr>\n",
              "      <th>3</th>\n",
              "      <td>Airtel</td>\n",
              "      <td>Indoor</td>\n",
              "      <td>4G</td>\n",
              "      <td>3</td>\n",
              "      <td>Satisfactory</td>\n",
              "      <td>22.279660</td>\n",
              "      <td>73.149369</td>\n",
              "      <td>Gujarat</td>\n",
              "      <td>5694.480</td>\n",
              "      <td>-89.390</td>\n",
              "      <td>2515.34</td>\n",
              "      <td>-89.515</td>\n",
              "      <td>60439692.0</td>\n",
              "      <td>78.03</td>\n",
              "      <td>842.5</td>\n",
              "      <td>196024.0</td>\n",
              "    </tr>\n",
              "    <tr>\n",
              "      <th>4</th>\n",
              "      <td>Airtel</td>\n",
              "      <td>Travelling</td>\n",
              "      <td>4G</td>\n",
              "      <td>3</td>\n",
              "      <td>Satisfactory</td>\n",
              "      <td>18.546344</td>\n",
              "      <td>73.819090</td>\n",
              "      <td>Maharashtra</td>\n",
              "      <td>10804.560</td>\n",
              "      <td>-94.050</td>\n",
              "      <td>4968.27</td>\n",
              "      <td>-94.110</td>\n",
              "      <td>112374333.0</td>\n",
              "      <td>82.34</td>\n",
              "      <td>1455.5</td>\n",
              "      <td>307713.0</td>\n",
              "    </tr>\n",
              "    <tr>\n",
              "      <th>...</th>\n",
              "      <td>...</td>\n",
              "      <td>...</td>\n",
              "      <td>...</td>\n",
              "      <td>...</td>\n",
              "      <td>...</td>\n",
              "      <td>...</td>\n",
              "      <td>...</td>\n",
              "      <td>...</td>\n",
              "      <td>...</td>\n",
              "      <td>...</td>\n",
              "      <td>...</td>\n",
              "      <td>...</td>\n",
              "      <td>...</td>\n",
              "      <td>...</td>\n",
              "      <td>...</td>\n",
              "      <td>...</td>\n",
              "    </tr>\n",
              "    <tr>\n",
              "      <th>30780</th>\n",
              "      <td>RJio</td>\n",
              "      <td>Indoor</td>\n",
              "      <td>4G</td>\n",
              "      <td>5</td>\n",
              "      <td>Satisfactory</td>\n",
              "      <td>20.342392</td>\n",
              "      <td>85.822995</td>\n",
              "      <td>Odisha</td>\n",
              "      <td>31502.050</td>\n",
              "      <td>-72.990</td>\n",
              "      <td>6895.45</td>\n",
              "      <td>-73.030</td>\n",
              "      <td>45989707.0</td>\n",
              "      <td>73.45</td>\n",
              "      <td>1489.0</td>\n",
              "      <td>155707.0</td>\n",
              "    </tr>\n",
              "    <tr>\n",
              "      <th>30781</th>\n",
              "      <td>RJio</td>\n",
              "      <td>Indoor</td>\n",
              "      <td>4G</td>\n",
              "      <td>5</td>\n",
              "      <td>Satisfactory</td>\n",
              "      <td>20.342392</td>\n",
              "      <td>85.822995</td>\n",
              "      <td>Odisha</td>\n",
              "      <td>31502.050</td>\n",
              "      <td>-72.990</td>\n",
              "      <td>6895.45</td>\n",
              "      <td>-73.030</td>\n",
              "      <td>45989707.0</td>\n",
              "      <td>73.45</td>\n",
              "      <td>1489.0</td>\n",
              "      <td>155707.0</td>\n",
              "    </tr>\n",
              "    <tr>\n",
              "      <th>30782</th>\n",
              "      <td>Idea</td>\n",
              "      <td>Travelling</td>\n",
              "      <td>3G</td>\n",
              "      <td>5</td>\n",
              "      <td>Satisfactory</td>\n",
              "      <td>12.986593</td>\n",
              "      <td>77.581266</td>\n",
              "      <td>Karnataka</td>\n",
              "      <td>905.000</td>\n",
              "      <td>-101.000</td>\n",
              "      <td>561.00</td>\n",
              "      <td>-101.000</td>\n",
              "      <td>61130704.0</td>\n",
              "      <td>75.36</td>\n",
              "      <td>1248.0</td>\n",
              "      <td>191791.0</td>\n",
              "    </tr>\n",
              "    <tr>\n",
              "      <th>30783</th>\n",
              "      <td>Vodafone</td>\n",
              "      <td>Indoor</td>\n",
              "      <td>4G</td>\n",
              "      <td>1</td>\n",
              "      <td>Poor Voice Quality</td>\n",
              "      <td>18.637340</td>\n",
              "      <td>73.768159</td>\n",
              "      <td>Maharashtra</td>\n",
              "      <td>5191.980</td>\n",
              "      <td>-96.882</td>\n",
              "      <td>2981.59</td>\n",
              "      <td>-96.550</td>\n",
              "      <td>112374333.0</td>\n",
              "      <td>82.34</td>\n",
              "      <td>1455.5</td>\n",
              "      <td>307713.0</td>\n",
              "    </tr>\n",
              "    <tr>\n",
              "      <th>30784</th>\n",
              "      <td>Airtel</td>\n",
              "      <td>Indoor</td>\n",
              "      <td>4G</td>\n",
              "      <td>5</td>\n",
              "      <td>Satisfactory</td>\n",
              "      <td>10.813862</td>\n",
              "      <td>78.640406</td>\n",
              "      <td>Tamil Nadu</td>\n",
              "      <td>7914.680</td>\n",
              "      <td>-95.011</td>\n",
              "      <td>2788.90</td>\n",
              "      <td>-95.093</td>\n",
              "      <td>72147030.0</td>\n",
              "      <td>80.33</td>\n",
              "      <td>998.0</td>\n",
              "      <td>130060.0</td>\n",
              "    </tr>\n",
              "  </tbody>\n",
              "</table>\n",
              "<p>30785 rows × 16 columns</p>\n",
              "</div>"
            ],
            "text/plain": [
              "       Operator In Out Travelling  ... Rainfall  Area of the state\n",
              "0        Airtel            Indoor  ...   1248.0           191791.0\n",
              "1      Vodafone            Indoor  ...    842.5           196024.0\n",
              "2        Airtel            Indoor  ...    998.0           130060.0\n",
              "3        Airtel            Indoor  ...    842.5           196024.0\n",
              "4        Airtel        Travelling  ...   1455.5           307713.0\n",
              "...         ...               ...  ...      ...                ...\n",
              "30780      RJio            Indoor  ...   1489.0           155707.0\n",
              "30781      RJio            Indoor  ...   1489.0           155707.0\n",
              "30782      Idea        Travelling  ...   1248.0           191791.0\n",
              "30783  Vodafone            Indoor  ...   1455.5           307713.0\n",
              "30784    Airtel            Indoor  ...    998.0           130060.0\n",
              "\n",
              "[30785 rows x 16 columns]"
            ]
          },
          "metadata": {
            "tags": []
          },
          "execution_count": 46
        }
      ]
    },
    {
      "cell_type": "code",
      "metadata": {
        "colab": {
          "base_uri": "https://localhost:8080/",
          "height": 574
        },
        "id": "KWbdcVTEKuL1",
        "outputId": "931c93c9-0d1d-4288-e3b0-d1990ee5845e"
      },
      "source": [
        "data.corr()"
      ],
      "execution_count": 47,
      "outputs": [
        {
          "output_type": "execute_result",
          "data": {
            "text/html": [
              "<div>\n",
              "<style scoped>\n",
              "    .dataframe tbody tr th:only-of-type {\n",
              "        vertical-align: middle;\n",
              "    }\n",
              "\n",
              "    .dataframe tbody tr th {\n",
              "        vertical-align: top;\n",
              "    }\n",
              "\n",
              "    .dataframe thead th {\n",
              "        text-align: right;\n",
              "    }\n",
              "</style>\n",
              "<table border=\"1\" class=\"dataframe\">\n",
              "  <thead>\n",
              "    <tr style=\"text-align: right;\">\n",
              "      <th></th>\n",
              "      <th>Unnamed: 0</th>\n",
              "      <th>Rating</th>\n",
              "      <th>Latitude</th>\n",
              "      <th>Longitude</th>\n",
              "      <th>Average Data Speed Download</th>\n",
              "      <th>Average Signal Strength Download</th>\n",
              "      <th>Average Data Speed Upload</th>\n",
              "      <th>Average Signal Strength Upload</th>\n",
              "      <th>Population</th>\n",
              "      <th>Literacy Rate</th>\n",
              "      <th>Rainfall</th>\n",
              "      <th>Area of the state</th>\n",
              "    </tr>\n",
              "  </thead>\n",
              "  <tbody>\n",
              "    <tr>\n",
              "      <th>Unnamed: 0</th>\n",
              "      <td>1.000000</td>\n",
              "      <td>-0.003060</td>\n",
              "      <td>-0.008208</td>\n",
              "      <td>0.009389</td>\n",
              "      <td>0.016416</td>\n",
              "      <td>0.005725</td>\n",
              "      <td>0.005732</td>\n",
              "      <td>-0.014927</td>\n",
              "      <td>-0.021565</td>\n",
              "      <td>-0.001840</td>\n",
              "      <td>0.023967</td>\n",
              "      <td>0.021956</td>\n",
              "    </tr>\n",
              "    <tr>\n",
              "      <th>Rating</th>\n",
              "      <td>-0.003060</td>\n",
              "      <td>1.000000</td>\n",
              "      <td>-0.002281</td>\n",
              "      <td>0.128139</td>\n",
              "      <td>0.107355</td>\n",
              "      <td>-0.009265</td>\n",
              "      <td>0.123407</td>\n",
              "      <td>0.037167</td>\n",
              "      <td>-0.075174</td>\n",
              "      <td>-0.024435</td>\n",
              "      <td>0.017366</td>\n",
              "      <td>0.012885</td>\n",
              "    </tr>\n",
              "    <tr>\n",
              "      <th>Latitude</th>\n",
              "      <td>-0.008208</td>\n",
              "      <td>-0.002281</td>\n",
              "      <td>1.000000</td>\n",
              "      <td>0.124229</td>\n",
              "      <td>0.006230</td>\n",
              "      <td>-0.026600</td>\n",
              "      <td>-0.032982</td>\n",
              "      <td>0.027047</td>\n",
              "      <td>0.180954</td>\n",
              "      <td>-0.204830</td>\n",
              "      <td>-0.346943</td>\n",
              "      <td>-0.062440</td>\n",
              "    </tr>\n",
              "    <tr>\n",
              "      <th>Longitude</th>\n",
              "      <td>0.009389</td>\n",
              "      <td>0.128139</td>\n",
              "      <td>0.124229</td>\n",
              "      <td>1.000000</td>\n",
              "      <td>0.255810</td>\n",
              "      <td>0.013536</td>\n",
              "      <td>0.222827</td>\n",
              "      <td>0.086698</td>\n",
              "      <td>-0.081998</td>\n",
              "      <td>-0.337597</td>\n",
              "      <td>0.372490</td>\n",
              "      <td>-0.656431</td>\n",
              "    </tr>\n",
              "    <tr>\n",
              "      <th>Average Data Speed Download</th>\n",
              "      <td>0.016416</td>\n",
              "      <td>0.107355</td>\n",
              "      <td>0.006230</td>\n",
              "      <td>0.255810</td>\n",
              "      <td>1.000000</td>\n",
              "      <td>0.035435</td>\n",
              "      <td>0.698465</td>\n",
              "      <td>0.283802</td>\n",
              "      <td>0.039678</td>\n",
              "      <td>-0.287473</td>\n",
              "      <td>0.105436</td>\n",
              "      <td>-0.065393</td>\n",
              "    </tr>\n",
              "    <tr>\n",
              "      <th>Average Signal Strength Download</th>\n",
              "      <td>0.005725</td>\n",
              "      <td>-0.009265</td>\n",
              "      <td>-0.026600</td>\n",
              "      <td>0.013536</td>\n",
              "      <td>0.035435</td>\n",
              "      <td>1.000000</td>\n",
              "      <td>0.025573</td>\n",
              "      <td>0.014232</td>\n",
              "      <td>0.013990</td>\n",
              "      <td>0.011133</td>\n",
              "      <td>0.053324</td>\n",
              "      <td>-0.029486</td>\n",
              "    </tr>\n",
              "    <tr>\n",
              "      <th>Average Data Speed Upload</th>\n",
              "      <td>0.005732</td>\n",
              "      <td>0.123407</td>\n",
              "      <td>-0.032982</td>\n",
              "      <td>0.222827</td>\n",
              "      <td>0.698465</td>\n",
              "      <td>0.025573</td>\n",
              "      <td>1.000000</td>\n",
              "      <td>-0.038725</td>\n",
              "      <td>-0.016013</td>\n",
              "      <td>-0.217753</td>\n",
              "      <td>0.049883</td>\n",
              "      <td>-0.080940</td>\n",
              "    </tr>\n",
              "    <tr>\n",
              "      <th>Average Signal Strength Upload</th>\n",
              "      <td>-0.014927</td>\n",
              "      <td>0.037167</td>\n",
              "      <td>0.027047</td>\n",
              "      <td>0.086698</td>\n",
              "      <td>0.283802</td>\n",
              "      <td>0.014232</td>\n",
              "      <td>-0.038725</td>\n",
              "      <td>1.000000</td>\n",
              "      <td>-0.044444</td>\n",
              "      <td>-0.103904</td>\n",
              "      <td>-0.028081</td>\n",
              "      <td>-0.002642</td>\n",
              "    </tr>\n",
              "    <tr>\n",
              "      <th>Population</th>\n",
              "      <td>-0.021565</td>\n",
              "      <td>-0.075174</td>\n",
              "      <td>0.180954</td>\n",
              "      <td>-0.081998</td>\n",
              "      <td>0.039678</td>\n",
              "      <td>0.013990</td>\n",
              "      <td>-0.016013</td>\n",
              "      <td>-0.044444</td>\n",
              "      <td>1.000000</td>\n",
              "      <td>-0.002591</td>\n",
              "      <td>0.280014</td>\n",
              "      <td>0.399032</td>\n",
              "    </tr>\n",
              "    <tr>\n",
              "      <th>Literacy Rate</th>\n",
              "      <td>-0.001840</td>\n",
              "      <td>-0.024435</td>\n",
              "      <td>-0.204830</td>\n",
              "      <td>-0.337597</td>\n",
              "      <td>-0.287473</td>\n",
              "      <td>0.011133</td>\n",
              "      <td>-0.217753</td>\n",
              "      <td>-0.103904</td>\n",
              "      <td>-0.002591</td>\n",
              "      <td>1.000000</td>\n",
              "      <td>0.198137</td>\n",
              "      <td>0.210401</td>\n",
              "    </tr>\n",
              "    <tr>\n",
              "      <th>Rainfall</th>\n",
              "      <td>0.023967</td>\n",
              "      <td>0.017366</td>\n",
              "      <td>-0.346943</td>\n",
              "      <td>0.372490</td>\n",
              "      <td>0.105436</td>\n",
              "      <td>0.053324</td>\n",
              "      <td>0.049883</td>\n",
              "      <td>-0.028081</td>\n",
              "      <td>0.280014</td>\n",
              "      <td>0.198137</td>\n",
              "      <td>1.000000</td>\n",
              "      <td>-0.135894</td>\n",
              "    </tr>\n",
              "    <tr>\n",
              "      <th>Area of the state</th>\n",
              "      <td>0.021956</td>\n",
              "      <td>0.012885</td>\n",
              "      <td>-0.062440</td>\n",
              "      <td>-0.656431</td>\n",
              "      <td>-0.065393</td>\n",
              "      <td>-0.029486</td>\n",
              "      <td>-0.080940</td>\n",
              "      <td>-0.002642</td>\n",
              "      <td>0.399032</td>\n",
              "      <td>0.210401</td>\n",
              "      <td>-0.135894</td>\n",
              "      <td>1.000000</td>\n",
              "    </tr>\n",
              "  </tbody>\n",
              "</table>\n",
              "</div>"
            ],
            "text/plain": [
              "                                  Unnamed: 0  ...  Area of the state\n",
              "Unnamed: 0                          1.000000  ...           0.021956\n",
              "Rating                             -0.003060  ...           0.012885\n",
              "Latitude                           -0.008208  ...          -0.062440\n",
              "Longitude                           0.009389  ...          -0.656431\n",
              "Average Data Speed Download         0.016416  ...          -0.065393\n",
              "Average Signal Strength Download    0.005725  ...          -0.029486\n",
              "Average Data Speed Upload           0.005732  ...          -0.080940\n",
              "Average Signal Strength Upload     -0.014927  ...          -0.002642\n",
              "Population                         -0.021565  ...           0.399032\n",
              "Literacy Rate                      -0.001840  ...           0.210401\n",
              "Rainfall                            0.023967  ...          -0.135894\n",
              "Area of the state                   0.021956  ...           1.000000\n",
              "\n",
              "[12 rows x 12 columns]"
            ]
          },
          "metadata": {
            "tags": []
          },
          "execution_count": 47
        }
      ]
    },
    {
      "cell_type": "code",
      "metadata": {
        "colab": {
          "base_uri": "https://localhost:8080/",
          "height": 368
        },
        "id": "pGfxMNXLOiSW",
        "outputId": "a60548d2-dcdd-4123-a86d-2c06d1c5bcb0"
      },
      "source": [
        "data.describe()"
      ],
      "execution_count": 8,
      "outputs": [
        {
          "output_type": "execute_result",
          "data": {
            "text/html": [
              "<div>\n",
              "<style scoped>\n",
              "    .dataframe tbody tr th:only-of-type {\n",
              "        vertical-align: middle;\n",
              "    }\n",
              "\n",
              "    .dataframe tbody tr th {\n",
              "        vertical-align: top;\n",
              "    }\n",
              "\n",
              "    .dataframe thead th {\n",
              "        text-align: right;\n",
              "    }\n",
              "</style>\n",
              "<table border=\"1\" class=\"dataframe\">\n",
              "  <thead>\n",
              "    <tr style=\"text-align: right;\">\n",
              "      <th></th>\n",
              "      <th>Unnamed: 0</th>\n",
              "      <th>Rating</th>\n",
              "      <th>Latitude</th>\n",
              "      <th>Longitude</th>\n",
              "      <th>Average Data Speed Download</th>\n",
              "      <th>Average Signal Strength Download</th>\n",
              "      <th>Average Data Speed Upload</th>\n",
              "      <th>Average Signal Strength Upload</th>\n",
              "      <th>Population</th>\n",
              "      <th>Literacy Rate</th>\n",
              "      <th>Rainfall</th>\n",
              "      <th>Area of the state</th>\n",
              "    </tr>\n",
              "  </thead>\n",
              "  <tbody>\n",
              "    <tr>\n",
              "      <th>count</th>\n",
              "      <td>30785.000000</td>\n",
              "      <td>30785.000000</td>\n",
              "      <td>30785.000000</td>\n",
              "      <td>30785.000000</td>\n",
              "      <td>30785.000000</td>\n",
              "      <td>30785.000000</td>\n",
              "      <td>30785.000000</td>\n",
              "      <td>30785.000000</td>\n",
              "      <td>3.078500e+04</td>\n",
              "      <td>30785.000000</td>\n",
              "      <td>30785.000000</td>\n",
              "      <td>30785.000000</td>\n",
              "    </tr>\n",
              "    <tr>\n",
              "      <th>mean</th>\n",
              "      <td>15392.000000</td>\n",
              "      <td>3.527075</td>\n",
              "      <td>20.986716</td>\n",
              "      <td>77.624482</td>\n",
              "      <td>13383.178796</td>\n",
              "      <td>-91.940324</td>\n",
              "      <td>3937.800252</td>\n",
              "      <td>-87.654863</td>\n",
              "      <td>9.340490e+07</td>\n",
              "      <td>74.513815</td>\n",
              "      <td>1222.318883</td>\n",
              "      <td>221781.967549</td>\n",
              "    </tr>\n",
              "    <tr>\n",
              "      <th>std</th>\n",
              "      <td>8887.008355</td>\n",
              "      <td>1.480751</td>\n",
              "      <td>4.904788</td>\n",
              "      <td>4.897669</td>\n",
              "      <td>9652.418551</td>\n",
              "      <td>189.709705</td>\n",
              "      <td>2022.009990</td>\n",
              "      <td>7.696626</td>\n",
              "      <td>4.112688e+07</td>\n",
              "      <td>12.449141</td>\n",
              "      <td>463.221742</td>\n",
              "      <td>93044.821822</td>\n",
              "    </tr>\n",
              "    <tr>\n",
              "      <th>min</th>\n",
              "      <td>0.000000</td>\n",
              "      <td>1.000000</td>\n",
              "      <td>8.255166</td>\n",
              "      <td>69.017391</td>\n",
              "      <td>0.000000</td>\n",
              "      <td>-8407.000000</td>\n",
              "      <td>220.940000</td>\n",
              "      <td>-103.200000</td>\n",
              "      <td>2.535146e+07</td>\n",
              "      <td>10.980000</td>\n",
              "      <td>143.000000</td>\n",
              "      <td>38863.000000</td>\n",
              "    </tr>\n",
              "    <tr>\n",
              "      <th>25%</th>\n",
              "      <td>7696.000000</td>\n",
              "      <td>2.000000</td>\n",
              "      <td>18.547627</td>\n",
              "      <td>73.739626</td>\n",
              "      <td>5191.980000</td>\n",
              "      <td>-92.580000</td>\n",
              "      <td>2680.020000</td>\n",
              "      <td>-93.000000</td>\n",
              "      <td>6.113070e+07</td>\n",
              "      <td>70.600000</td>\n",
              "      <td>998.000000</td>\n",
              "      <td>130060.000000</td>\n",
              "    </tr>\n",
              "    <tr>\n",
              "      <th>50%</th>\n",
              "      <td>15392.000000</td>\n",
              "      <td>4.000000</td>\n",
              "      <td>20.303444</td>\n",
              "      <td>76.945477</td>\n",
              "      <td>10804.560000</td>\n",
              "      <td>-86.800000</td>\n",
              "      <td>4130.460000</td>\n",
              "      <td>-86.920000</td>\n",
              "      <td>9.127612e+07</td>\n",
              "      <td>76.680000</td>\n",
              "      <td>1248.000000</td>\n",
              "      <td>243286.000000</td>\n",
              "    </tr>\n",
              "    <tr>\n",
              "      <th>75%</th>\n",
              "      <td>23088.000000</td>\n",
              "      <td>5.000000</td>\n",
              "      <td>25.263877</td>\n",
              "      <td>80.197102</td>\n",
              "      <td>20707.870000</td>\n",
              "      <td>-84.740000</td>\n",
              "      <td>5107.230000</td>\n",
              "      <td>-84.949000</td>\n",
              "      <td>1.123743e+08</td>\n",
              "      <td>82.340000</td>\n",
              "      <td>1455.500000</td>\n",
              "      <td>307713.000000</td>\n",
              "    </tr>\n",
              "    <tr>\n",
              "      <th>max</th>\n",
              "      <td>30784.000000</td>\n",
              "      <td>5.000000</td>\n",
              "      <td>32.427797</td>\n",
              "      <td>95.619158</td>\n",
              "      <td>32444.069600</td>\n",
              "      <td>-63.000000</td>\n",
              "      <td>12220.910000</td>\n",
              "      <td>76.930000</td>\n",
              "      <td>1.998123e+08</td>\n",
              "      <td>94.000000</td>\n",
              "      <td>3055.000000</td>\n",
              "      <td>342239.000000</td>\n",
              "    </tr>\n",
              "  </tbody>\n",
              "</table>\n",
              "</div>"
            ],
            "text/plain": [
              "         Unnamed: 0        Rating  ...      Rainfall  Area of the state\n",
              "count  30785.000000  30785.000000  ...  30785.000000       30785.000000\n",
              "mean   15392.000000      3.527075  ...   1222.318883      221781.967549\n",
              "std     8887.008355      1.480751  ...    463.221742       93044.821822\n",
              "min        0.000000      1.000000  ...    143.000000       38863.000000\n",
              "25%     7696.000000      2.000000  ...    998.000000      130060.000000\n",
              "50%    15392.000000      4.000000  ...   1248.000000      243286.000000\n",
              "75%    23088.000000      5.000000  ...   1455.500000      307713.000000\n",
              "max    30784.000000      5.000000  ...   3055.000000      342239.000000\n",
              "\n",
              "[8 rows x 12 columns]"
            ]
          },
          "metadata": {
            "tags": []
          },
          "execution_count": 8
        }
      ]
    },
    {
      "cell_type": "code",
      "metadata": {
        "colab": {
          "base_uri": "https://localhost:8080/"
        },
        "id": "ugWJBwP9OiMA",
        "outputId": "7b32e56c-79bb-4a4e-f5cb-623aaf92241f"
      },
      "source": [
        "data.nunique()"
      ],
      "execution_count": 9,
      "outputs": [
        {
          "output_type": "execute_result",
          "data": {
            "text/plain": [
              "Unnamed: 0                          30785\n",
              "Operator                                5\n",
              "In Out Travelling                       3\n",
              "Network Type                            2\n",
              "Rating                                  5\n",
              "Call Drop Category                      3\n",
              "Latitude                            16261\n",
              "Longitude                           16054\n",
              "State Name                             15\n",
              "Average Data Speed Download            98\n",
              "Average Signal Strength Download       95\n",
              "Average Data Speed Upload              98\n",
              "Average Signal Strength Upload         95\n",
              "Population                             15\n",
              "Literacy Rate                          15\n",
              "Rainfall                               15\n",
              "Area of the state                      15\n",
              "dtype: int64"
            ]
          },
          "metadata": {
            "tags": []
          },
          "execution_count": 9
        }
      ]
    },
    {
      "cell_type": "code",
      "metadata": {
        "id": "rciZe6PBcJTh",
        "outputId": "fe369925-f8db-4d3c-ace4-98f25cb09b1f",
        "colab": {
          "base_uri": "https://localhost:8080/"
        }
      },
      "source": [
        "data.dtypes"
      ],
      "execution_count": 10,
      "outputs": [
        {
          "output_type": "execute_result",
          "data": {
            "text/plain": [
              "Unnamed: 0                            int64\n",
              "Operator                             object\n",
              "In Out Travelling                    object\n",
              "Network Type                         object\n",
              "Rating                                int64\n",
              "Call Drop Category                   object\n",
              "Latitude                            float64\n",
              "Longitude                           float64\n",
              "State Name                           object\n",
              "Average Data Speed Download         float64\n",
              "Average Signal Strength Download    float64\n",
              "Average Data Speed Upload           float64\n",
              "Average Signal Strength Upload      float64\n",
              "Population                          float64\n",
              "Literacy Rate                       float64\n",
              "Rainfall                            float64\n",
              "Area of the state                   float64\n",
              "dtype: object"
            ]
          },
          "metadata": {
            "tags": []
          },
          "execution_count": 10
        }
      ]
    },
    {
      "cell_type": "code",
      "metadata": {
        "colab": {
          "base_uri": "https://localhost:8080/",
          "height": 350
        },
        "id": "qpbHmfk4OiBr",
        "outputId": "25cc4207-714b-4190-ef46-9277515310de"
      },
      "source": [
        "sns.countplot('Operator',data=data)"
      ],
      "execution_count": null,
      "outputs": [
        {
          "output_type": "stream",
          "text": [
            "/usr/local/lib/python3.7/dist-packages/seaborn/_decorators.py:43: FutureWarning: Pass the following variable as a keyword arg: x. From version 0.12, the only valid positional argument will be `data`, and passing other arguments without an explicit keyword will result in an error or misinterpretation.\n",
            "  FutureWarning\n"
          ],
          "name": "stderr"
        },
        {
          "output_type": "execute_result",
          "data": {
            "text/plain": [
              "<matplotlib.axes._subplots.AxesSubplot at 0x7f513fa8af10>"
            ]
          },
          "metadata": {
            "tags": []
          },
          "execution_count": 35
        },
        {
          "output_type": "display_data",
          "data": {
            "image/png": "[encoded data removed]",
            "text/plain": [
              "<Figure size 432x288 with 1 Axes>"
            ]
          },
          "metadata": {
            "tags": [],
            "needs_background": "light"
          }
        }
      ]
    },
    {
      "cell_type": "code",
      "metadata": {
        "colab": {
          "base_uri": "https://localhost:8080/",
          "height": 350
        },
        "id": "7mHvdKSbOh4w",
        "outputId": "6745d6be-4ff0-42df-819e-9b84bc348b3a"
      },
      "source": [
        "sns.countplot('Call Drop Category',data=data)"
      ],
      "execution_count": null,
      "outputs": [
        {
          "output_type": "stream",
          "text": [
            "/usr/local/lib/python3.7/dist-packages/seaborn/_decorators.py:43: FutureWarning: Pass the following variable as a keyword arg: x. From version 0.12, the only valid positional argument will be `data`, and passing other arguments without an explicit keyword will result in an error or misinterpretation.\n",
            "  FutureWarning\n"
          ],
          "name": "stderr"
        },
        {
          "output_type": "execute_result",
          "data": {
            "text/plain": [
              "<matplotlib.axes._subplots.AxesSubplot at 0x7f513f95ec10>"
            ]
          },
          "metadata": {
            "tags": []
          },
          "execution_count": 36
        },
        {
          "output_type": "display_data",
          "data": {
            "image/png": "[encoded data removed]",
            "text/plain": [
              "<Figure size 432x288 with 1 Axes>"
            ]
          },
          "metadata": {
            "tags": [],
            "needs_background": "light"
          }
        }
      ]
    },
    {
      "cell_type": "code",
      "metadata": {
        "colab": {
          "base_uri": "https://localhost:8080/",
          "height": 352
        },
        "id": "TPi8GRiwOhxS",
        "outputId": "9043383b-3b8c-4c62-fcf2-2401bb672c98"
      },
      "source": [
        "sns.countplot('Network Type',data=data)"
      ],
      "execution_count": null,
      "outputs": [
        {
          "output_type": "stream",
          "text": [
            "/usr/local/lib/python3.7/dist-packages/seaborn/_decorators.py:43: FutureWarning: Pass the following variable as a keyword arg: x. From version 0.12, the only valid positional argument will be `data`, and passing other arguments without an explicit keyword will result in an error or misinterpretation.\n",
            "  FutureWarning\n"
          ],
          "name": "stderr"
        },
        {
          "output_type": "execute_result",
          "data": {
            "text/plain": [
              "<matplotlib.axes._subplots.AxesSubplot at 0x7f513f905890>"
            ]
          },
          "metadata": {
            "tags": []
          },
          "execution_count": 37
        },
        {
          "output_type": "display_data",
          "data": {
            "image/png": "[encoded data removed]",
            "text/plain": [
              "<Figure size 432x288 with 1 Axes>"
            ]
          },
          "metadata": {
            "tags": [],
            "needs_background": "light"
          }
        }
      ]
    },
    {
      "cell_type": "code",
      "metadata": {
        "colab": {
          "base_uri": "https://localhost:8080/",
          "height": 350
        },
        "id": "bk1z4pWfOho-",
        "outputId": "80a7cf1d-5998-40e8-fd91-04f47832ca70"
      },
      "source": [
        "sns.countplot('In Out Travelling',data=data)"
      ],
      "execution_count": null,
      "outputs": [
        {
          "output_type": "stream",
          "text": [
            "/usr/local/lib/python3.7/dist-packages/seaborn/_decorators.py:43: FutureWarning: Pass the following variable as a keyword arg: x. From version 0.12, the only valid positional argument will be `data`, and passing other arguments without an explicit keyword will result in an error or misinterpretation.\n",
            "  FutureWarning\n"
          ],
          "name": "stderr"
        },
        {
          "output_type": "execute_result",
          "data": {
            "text/plain": [
              "<matplotlib.axes._subplots.AxesSubplot at 0x7f32b044fcd0>"
            ]
          },
          "metadata": {
            "tags": []
          },
          "execution_count": 10
        },
        {
          "output_type": "display_data",
          "data": {
            "image/png": "[encoded data removed]",
            "text/plain": [
              "<Figure size 432x288 with 1 Axes>"
            ]
          },
          "metadata": {
            "tags": [],
            "needs_background": "light"
          }
        }
      ]
    },
    {
      "cell_type": "code",
      "metadata": {
        "id": "_eHtkkC8tIvT",
        "colab": {
          "base_uri": "https://localhost:8080/",
          "height": 350
        },
        "outputId": "479b124e-3444-42c6-d371-94899f23ea48"
      },
      "source": [
        "sns.countplot('Rating',data=data)"
      ],
      "execution_count": null,
      "outputs": [
        {
          "output_type": "stream",
          "text": [
            "/usr/local/lib/python3.7/dist-packages/seaborn/_decorators.py:43: FutureWarning: Pass the following variable as a keyword arg: x. From version 0.12, the only valid positional argument will be `data`, and passing other arguments without an explicit keyword will result in an error or misinterpretation.\n",
            "  FutureWarning\n"
          ],
          "name": "stderr"
        },
        {
          "output_type": "execute_result",
          "data": {
            "text/plain": [
              "<matplotlib.axes._subplots.AxesSubplot at 0x7f32afe780d0>"
            ]
          },
          "metadata": {
            "tags": []
          },
          "execution_count": 11
        },
        {
          "output_type": "display_data",
          "data": {
            "image/png": "[encoded data removed]",
            "text/plain": [
              "<Figure size 432x288 with 1 Axes>"
            ]
          },
          "metadata": {
            "tags": [],
            "needs_background": "light"
          }
        }
      ]
    },
    {
      "cell_type": "code",
      "metadata": {
        "id": "zNN5qogtOhgF",
        "colab": {
          "base_uri": "https://localhost:8080/",
          "height": 401
        },
        "outputId": "de383b07-774c-4796-f9ce-eeb0aea96d45"
      },
      "source": [
        "plt.boxplot(data['Average Data Speed Download'])"
      ],
      "execution_count": null,
      "outputs": [
        {
          "output_type": "execute_result",
          "data": {
            "text/plain": [
              "{'boxes': [<matplotlib.lines.Line2D at 0x7f32ab572610>],\n",
              " 'caps': [<matplotlib.lines.Line2D at 0x7f32ab5786d0>,\n",
              "  <matplotlib.lines.Line2D at 0x7f32ab578c10>],\n",
              " 'fliers': [<matplotlib.lines.Line2D at 0x7f32ab57f710>],\n",
              " 'means': [],\n",
              " 'medians': [<matplotlib.lines.Line2D at 0x7f32ab57f1d0>],\n",
              " 'whiskers': [<matplotlib.lines.Line2D at 0x7f32ab572c10>,\n",
              "  <matplotlib.lines.Line2D at 0x7f32ab578190>]}"
            ]
          },
          "metadata": {
            "tags": []
          },
          "execution_count": 12
        },
        {
          "output_type": "display_data",
          "data": {
            "image/png": "[encoded data removed]",
            "text/plain": [
              "<Figure size 432x288 with 1 Axes>"
            ]
          },
          "metadata": {
            "tags": [],
            "needs_background": "light"
          }
        }
      ]
    },
    {
      "cell_type": "code",
      "metadata": {
        "id": "4HHxZCaAOhZM",
        "colab": {
          "base_uri": "https://localhost:8080/",
          "height": 401
        },
        "outputId": "a3fa67dd-d6f0-4894-a8a9-495dc486de4e"
      },
      "source": [
        "plt.boxplot(data['Average Data Speed Upload'])"
      ],
      "execution_count": null,
      "outputs": [
        {
          "output_type": "execute_result",
          "data": {
            "text/plain": [
              "{'boxes': [<matplotlib.lines.Line2D at 0x7f32ab32e950>],\n",
              " 'caps': [<matplotlib.lines.Line2D at 0x7f32ab333990>,\n",
              "  <matplotlib.lines.Line2D at 0x7f32ab333ed0>],\n",
              " 'fliers': [<matplotlib.lines.Line2D at 0x7f32ab3399d0>],\n",
              " 'means': [],\n",
              " 'medians': [<matplotlib.lines.Line2D at 0x7f32ab339490>],\n",
              " 'whiskers': [<matplotlib.lines.Line2D at 0x7f32ab32eed0>,\n",
              "  <matplotlib.lines.Line2D at 0x7f32ab333450>]}"
            ]
          },
          "metadata": {
            "tags": []
          },
          "execution_count": 14
        },
        {
          "output_type": "display_data",
          "data": {
            "image/png": "[encoded data removed]",
            "text/plain": [
              "<Figure size 432x288 with 1 Axes>"
            ]
          },
          "metadata": {
            "tags": [],
            "needs_background": "light"
          }
        }
      ]
    },
    {
      "cell_type": "code",
      "metadata": {
        "id": "QNTZh2rLeEav",
        "outputId": "e3d0750e-0f65-411e-e224-9bd1bdd2151e",
        "colab": {
          "base_uri": "https://localhost:8080/",
          "height": 401
        }
      },
      "source": [
        "plt.boxplot(data['Average Signal Strength Upload'])"
      ],
      "execution_count": 21,
      "outputs": [
        {
          "output_type": "execute_result",
          "data": {
            "text/plain": [
              "{'boxes': [<matplotlib.lines.Line2D at 0x7f333c024dd0>],\n",
              " 'caps': [<matplotlib.lines.Line2D at 0x7f333c03de50>,\n",
              "  <matplotlib.lines.Line2D at 0x7f333c02b3d0>],\n",
              " 'fliers': [<matplotlib.lines.Line2D at 0x7f333c02be90>],\n",
              " 'means': [],\n",
              " 'medians': [<matplotlib.lines.Line2D at 0x7f333c02b950>],\n",
              " 'whiskers': [<matplotlib.lines.Line2D at 0x7f333c03d3d0>,\n",
              "  <matplotlib.lines.Line2D at 0x7f333c03d910>]}"
            ]
          },
          "metadata": {
            "tags": []
          },
          "execution_count": 21
        },
        {
          "output_type": "display_data",
          "data": {
            "image/png": "[encoded data removed]",
            "text/plain": [
              "<Figure size 432x288 with 1 Axes>"
            ]
          },
          "metadata": {
            "tags": [],
            "needs_background": "light"
          }
        }
      ]
    },
    {
      "cell_type": "code",
      "metadata": {
        "id": "wi7X90A1eEN6",
        "outputId": "c42538b9-1689-4ff9-f566-501566c5632c",
        "colab": {
          "base_uri": "https://localhost:8080/",
          "height": 401
        }
      },
      "source": [
        "plt.boxplot(data['Average Signal Strength Download'])"
      ],
      "execution_count": 22,
      "outputs": [
        {
          "output_type": "execute_result",
          "data": {
            "text/plain": [
              "{'boxes': [<matplotlib.lines.Line2D at 0x7f333c476c10>],\n",
              " 'caps': [<matplotlib.lines.Line2D at 0x7f333c486c10>,\n",
              "  <matplotlib.lines.Line2D at 0x7f333c460190>],\n",
              " 'fliers': [<matplotlib.lines.Line2D at 0x7f333c460c50>],\n",
              " 'means': [],\n",
              " 'medians': [<matplotlib.lines.Line2D at 0x7f333c460710>],\n",
              " 'whiskers': [<matplotlib.lines.Line2D at 0x7f333c486190>,\n",
              "  <matplotlib.lines.Line2D at 0x7f333c4866d0>]}"
            ]
          },
          "metadata": {
            "tags": []
          },
          "execution_count": 22
        },
        {
          "output_type": "display_data",
          "data": {
            "image/png": "[encoded data removed]",
            "text/plain": [
              "<Figure size 432x288 with 1 Axes>"
            ]
          },
          "metadata": {
            "tags": [],
            "needs_background": "light"
          }
        }
      ]
    },
    {
      "cell_type": "code",
      "metadata": {
        "id": "JT4TJmgGOhSR",
        "outputId": "178be779-f29c-4c56-e1e8-cf620e7bbbda",
        "colab": {
          "base_uri": "https://localhost:8080/",
          "height": 355
        }
      },
      "source": [
        "data['State Name'].value_counts().plot.bar()\n"
      ],
      "execution_count": 18,
      "outputs": [
        {
          "output_type": "execute_result",
          "data": {
            "text/plain": [
              "<matplotlib.axes._subplots.AxesSubplot at 0x7f333bf5b550>"
            ]
          },
          "metadata": {
            "tags": []
          },
          "execution_count": 18
        },
        {
          "output_type": "display_data",
          "data": {
            "image/png": "[encoded data removed]",
            "text/plain": [
              "<Figure size 432x288 with 1 Axes>"
            ]
          },
          "metadata": {
            "tags": [],
            "needs_background": "light"
          }
        }
      ]
    },
    {
      "cell_type": "code",
      "metadata": {
        "id": "PM2I73e6cGD1",
        "outputId": "ee4f6bcc-3ddf-4a03-996b-7efedab5670a",
        "colab": {
          "base_uri": "https://localhost:8080/",
          "height": 339
        }
      },
      "source": [
        "data['Population'].value_counts().plot.bar()"
      ],
      "execution_count": 11,
      "outputs": [
        {
          "output_type": "execute_result",
          "data": {
            "text/plain": [
              "<matplotlib.axes._subplots.AxesSubplot at 0x7f333becb6d0>"
            ]
          },
          "metadata": {
            "tags": []
          },
          "execution_count": 11
        },
        {
          "output_type": "display_data",
          "data": {
            "image/png": "[encoded data removed]",
            "text/plain": [
              "<Figure size 432x288 with 1 Axes>"
            ]
          },
          "metadata": {
            "tags": [],
            "needs_background": "light"
          }
        }
      ]
    },
    {
      "cell_type": "code",
      "metadata": {
        "id": "OQGEAJErcF18",
        "outputId": "f0131e88-a516-483c-deba-47f41a00390d",
        "colab": {
          "base_uri": "https://localhost:8080/",
          "height": 301
        }
      },
      "source": [
        "data['Literacy Rate'].value_counts().plot.bar()"
      ],
      "execution_count": 19,
      "outputs": [
        {
          "output_type": "execute_result",
          "data": {
            "text/plain": [
              "<matplotlib.axes._subplots.AxesSubplot at 0x7f333bf5d590>"
            ]
          },
          "metadata": {
            "tags": []
          },
          "execution_count": 19
        },
        {
          "output_type": "display_data",
          "data": {
            "image/png": "[encoded data removed]",
            "text/plain": [
              "<Figure size 432x288 with 1 Axes>"
            ]
          },
          "metadata": {
            "tags": [],
            "needs_background": "light"
          }
        }
      ]
    },
    {
      "cell_type": "code",
      "metadata": {
        "id": "NGZMbvencFlB",
        "outputId": "5c86d529-d24a-43de-f611-8d13b4be448f",
        "colab": {
          "base_uri": "https://localhost:8080/",
          "height": 307
        }
      },
      "source": [
        "data['Rainfall'].value_counts().plot.bar()"
      ],
      "execution_count": 20,
      "outputs": [
        {
          "output_type": "execute_result",
          "data": {
            "text/plain": [
              "<matplotlib.axes._subplots.AxesSubplot at 0x7f333be78150>"
            ]
          },
          "metadata": {
            "tags": []
          },
          "execution_count": 20
        },
        {
          "output_type": "display_data",
          "data": {
            "image/png": "[encoded data removed]",
            "text/plain": [
              "<Figure size 432x288 with 1 Axes>"
            ]
          },
          "metadata": {
            "tags": [],
            "needs_background": "light"
          }
        }
      ]
    },
    {
      "cell_type": "code",
      "metadata": {
        "id": "Ozx07TnSewV9",
        "outputId": "f186eb36-34d5-4d66-838d-ba82fd606ea8",
        "colab": {
          "base_uri": "https://localhost:8080/",
          "height": 296
        }
      },
      "source": [
        "sns.scatterplot(x=data['Longitude'],y=data['Latitude'],hue=data['Operator'])"
      ],
      "execution_count": 40,
      "outputs": [
        {
          "output_type": "execute_result",
          "data": {
            "text/plain": [
              "<matplotlib.axes._subplots.AxesSubplot at 0x7f332c5ee0d0>"
            ]
          },
          "metadata": {
            "tags": []
          },
          "execution_count": 40
        },
        {
          "output_type": "display_data",
          "data": {
            "image/png": "[encoded data removed]",
            "text/plain": [
              "<Figure size 432x288 with 1 Axes>"
            ]
          },
          "metadata": {
            "tags": [],
            "needs_background": "light"
          }
        }
      ]
    },
    {
      "cell_type": "code",
      "metadata": {
        "id": "75tWcD1_gGR_",
        "outputId": "c74c9bb4-b7cf-4096-f8b3-5b688357f32f",
        "colab": {
          "base_uri": "https://localhost:8080/"
        }
      },
      "source": [
        "data.nunique()"
      ],
      "execution_count": 34,
      "outputs": [
        {
          "output_type": "execute_result",
          "data": {
            "text/plain": [
              "Unnamed: 0                          30785\n",
              "Operator                                5\n",
              "In Out Travelling                       3\n",
              "Network Type                            2\n",
              "Rating                                  5\n",
              "Call Drop Category                      3\n",
              "Latitude                            16261\n",
              "Longitude                           16054\n",
              "State Name                             15\n",
              "Average Data Speed Download            98\n",
              "Average Signal Strength Download       95\n",
              "Average Data Speed Upload              98\n",
              "Average Signal Strength Upload         95\n",
              "Population                             15\n",
              "Literacy Rate                          15\n",
              "Rainfall                               15\n",
              "Area of the state                      15\n",
              "dtype: int64"
            ]
          },
          "metadata": {
            "tags": []
          },
          "execution_count": 34
        }
      ]
    },
    {
      "cell_type": "code",
      "metadata": {
        "id": "0m5H5d9jhTbx",
        "outputId": "60b3e9b4-a506-4ec9-af38-b519e060893f",
        "colab": {
          "base_uri": "https://localhost:8080/",
          "height": 296
        }
      },
      "source": [
        "sns.scatterplot(x=data['Average Data Speed Upload'],y=data['Average Data Speed Download'],hue=data['Operator'])"
      ],
      "execution_count": 35,
      "outputs": [
        {
          "output_type": "execute_result",
          "data": {
            "text/plain": [
              "<matplotlib.axes._subplots.AxesSubplot at 0x7f332c579b10>"
            ]
          },
          "metadata": {
            "tags": []
          },
          "execution_count": 35
        },
        {
          "output_type": "display_data",
          "data": {
            "image/png": "[encoded data removed]",
            "text/plain": [
              "<Figure size 432x288 with 1 Axes>"
            ]
          },
          "metadata": {
            "tags": [],
            "needs_background": "light"
          }
        }
      ]
    },
    {
      "cell_type": "code",
      "metadata": {
        "id": "c9fnMSd9hTPG",
        "outputId": "97b4cf22-da06-4e58-8feb-faddd76e2c39",
        "colab": {
          "base_uri": "https://localhost:8080/",
          "height": 296
        }
      },
      "source": [
        "sns.scatterplot(x=data['Average Signal Strength Upload'],y=data['Average Signal Strength Download'],hue=data['Operator'])"
      ],
      "execution_count": 36,
      "outputs": [
        {
          "output_type": "execute_result",
          "data": {
            "text/plain": [
              "<matplotlib.axes._subplots.AxesSubplot at 0x7f332c609490>"
            ]
          },
          "metadata": {
            "tags": []
          },
          "execution_count": 36
        },
        {
          "output_type": "display_data",
          "data": {
            "image/png": "[encoded data removed]",
            "text/plain": [
              "<Figure size 432x288 with 1 Axes>"
            ]
          },
          "metadata": {
            "tags": [],
            "needs_background": "light"
          }
        }
      ]
    },
    {
      "cell_type": "code",
      "metadata": {
        "id": "6x3kotQYOhKP",
        "outputId": "8f67d9d0-bd27-401b-eb27-a574d8037acd",
        "colab": {
          "base_uri": "https://localhost:8080/",
          "height": 1000
        }
      },
      "source": [
        "cols=['In Out Travelling', 'Network Type', 'Rating', 'Call Drop Category']\n",
        "n_rows=2\n",
        "n_cols=2\n",
        "\n",
        "# The subplot grid and figure size of each graph\n",
        "fig , axs =plt.subplots(n_rows, n_cols,figsize=(n_cols*6 , n_rows*6))\n",
        "\n",
        "for r in range(0,n_rows):\n",
        "  for c in range(0,n_cols):\n",
        "    i = r*n_cols + c # index to go through the columns\n",
        "    ax = axs[r][c] # Show where to position each subplot\n",
        "    sns.countplot(data[cols[i]], hue=data['Operator'], ax=ax)\n",
        "    ax.set_title(cols[i])\n",
        "    ax.legend(title='Operator', loc='upper right')\n",
        "\n",
        "plt.tight_layout()"
      ],
      "execution_count": 9,
      "outputs": [
        {
          "output_type": "stream",
          "text": [
            "/usr/local/lib/python3.7/dist-packages/seaborn/_decorators.py:43: FutureWarning: Pass the following variable as a keyword arg: x. From version 0.12, the only valid positional argument will be `data`, and passing other arguments without an explicit keyword will result in an error or misinterpretation.\n",
            "  FutureWarning\n",
            "/usr/local/lib/python3.7/dist-packages/seaborn/_decorators.py:43: FutureWarning: Pass the following variable as a keyword arg: x. From version 0.12, the only valid positional argument will be `data`, and passing other arguments without an explicit keyword will result in an error or misinterpretation.\n",
            "  FutureWarning\n",
            "/usr/local/lib/python3.7/dist-packages/seaborn/_decorators.py:43: FutureWarning: Pass the following variable as a keyword arg: x. From version 0.12, the only valid positional argument will be `data`, and passing other arguments without an explicit keyword will result in an error or misinterpretation.\n",
            "  FutureWarning\n",
            "/usr/local/lib/python3.7/dist-packages/seaborn/_decorators.py:43: FutureWarning: Pass the following variable as a keyword arg: x. From version 0.12, the only valid positional argument will be `data`, and passing other arguments without an explicit keyword will result in an error or misinterpretation.\n",
            "  FutureWarning\n"
          ],
          "name": "stderr"
        },
        {
          "output_type": "display_data",
          "data": {
            "image/png": "[encoded data removed]",
            "text/plain": [
              "<Figure size 864x864 with 4 Axes>"
            ]
          },
          "metadata": {
            "tags": [],
            "needs_background": "light"
          }
        }
      ]
    },
    {
      "cell_type": "code",
      "metadata": {
        "id": "vd6MJvTfOg_3"
      },
      "source": [
        ""
      ],
      "execution_count": null,
      "outputs": []
    }
  ]
}