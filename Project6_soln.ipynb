{
  "nbformat": 4,
  "nbformat_minor": 0,
  "metadata": {
    "colab": {
      "name": "Project6_soln.ipynb",
      "provenance": [],
      "authorship_tag": "ABX9TyOpzXSPKjmTfqDkKPKTAt8d",
      "include_colab_link": true
    },
    "kernelspec": {
      "name": "python3",
      "display_name": "Python 3"
    },
    "language_info": {
      "name": "python"
    }
  },
  "cells": [
    {
      "cell_type": "markdown",
      "metadata": {
        "id": "view-in-github",
        "colab_type": "text"
      },
      "source": [
        "<a href=\"https://colab.research.google.com/github/llohar/Project_6/blob/main/Project6_soln.ipynb\" target=\"_parent\"><img src=\"https://colab.research.google.com/assets/colab-badge.svg\" alt=\"Open In Colab\"/></a>"
      ]
    },
    {
      "cell_type": "code",
      "metadata": {
        "id": "BFv_RqAdKO0-"
      },
      "source": [
        "import numpy as np\n",
        "import pandas as pd\n",
        "import matplotlib.pyplot as plt\n",
        "import seaborn as sns"
      ],
      "execution_count": 53,
      "outputs": []
    },
    {
      "cell_type": "code",
      "metadata": {
        "id": "vGKWsXOmKup6"
      },
      "source": [
        "data=pd.read_csv(\"https://raw.githubusercontent.com/llohar/Project_6/main/Project6_data.csv\")"
      ],
      "execution_count": 54,
      "outputs": []
    },
    {
      "cell_type": "code",
      "metadata": {
        "id": "Yd9VTLYdezav",
        "outputId": "ed53834f-5f85-43a8-8e0e-b2efe9aff3b9",
        "colab": {
          "base_uri": "https://localhost:8080/"
        }
      },
      "source": [
        "data.shape"
      ],
      "execution_count": 55,
      "outputs": [
        {
          "output_type": "execute_result",
          "data": {
            "text/plain": [
              "(30785, 17)"
            ]
          },
          "metadata": {},
          "execution_count": 55
        }
      ]
    },
    {
      "cell_type": "code",
      "metadata": {
        "colab": {
          "base_uri": "https://localhost:8080/",
          "height": 619
        },
        "id": "56Wch_1jKuj4",
        "outputId": "6fa5f954-189d-418a-de4f-fda633c35524"
      },
      "source": [
        "data.head(15)"
      ],
      "execution_count": 56,
      "outputs": [
        {
          "output_type": "execute_result",
          "data": {
            "text/html": [
              "<div>\n",
              "<style scoped>\n",
              "    .dataframe tbody tr th:only-of-type {\n",
              "        vertical-align: middle;\n",
              "    }\n",
              "\n",
              "    .dataframe tbody tr th {\n",
              "        vertical-align: top;\n",
              "    }\n",
              "\n",
              "    .dataframe thead th {\n",
              "        text-align: right;\n",
              "    }\n",
              "</style>\n",
              "<table border=\"1\" class=\"dataframe\">\n",
              "  <thead>\n",
              "    <tr style=\"text-align: right;\">\n",
              "      <th></th>\n",
              "      <th>Unnamed: 0</th>\n",
              "      <th>Operator</th>\n",
              "      <th>In Out Travelling</th>\n",
              "      <th>Network Type</th>\n",
              "      <th>Rating</th>\n",
              "      <th>Call Drop Category</th>\n",
              "      <th>Latitude</th>\n",
              "      <th>Longitude</th>\n",
              "      <th>State Name</th>\n",
              "      <th>Average Data Speed Download</th>\n",
              "      <th>Average Signal Strength Download</th>\n",
              "      <th>Average Data Speed Upload</th>\n",
              "      <th>Average Signal Strength Upload</th>\n",
              "      <th>Population</th>\n",
              "      <th>Literacy Rate</th>\n",
              "      <th>Rainfall</th>\n",
              "      <th>Area of the state</th>\n",
              "    </tr>\n",
              "  </thead>\n",
              "  <tbody>\n",
              "    <tr>\n",
              "      <th>0</th>\n",
              "      <td>0</td>\n",
              "      <td>Airtel</td>\n",
              "      <td>Indoor</td>\n",
              "      <td>4G</td>\n",
              "      <td>3</td>\n",
              "      <td>Satisfactory</td>\n",
              "      <td>12.998502</td>\n",
              "      <td>77.672437</td>\n",
              "      <td>Karnataka</td>\n",
              "      <td>8807.910</td>\n",
              "      <td>-94.860</td>\n",
              "      <td>2591.08</td>\n",
              "      <td>-94.840</td>\n",
              "      <td>61130704.0</td>\n",
              "      <td>75.36</td>\n",
              "      <td>1248.0</td>\n",
              "      <td>191791.0</td>\n",
              "    </tr>\n",
              "    <tr>\n",
              "      <th>1</th>\n",
              "      <td>1</td>\n",
              "      <td>Vodafone</td>\n",
              "      <td>Indoor</td>\n",
              "      <td>4G</td>\n",
              "      <td>1</td>\n",
              "      <td>Call Dropped</td>\n",
              "      <td>23.554190</td>\n",
              "      <td>72.620110</td>\n",
              "      <td>Gujarat</td>\n",
              "      <td>6862.552</td>\n",
              "      <td>-91.960</td>\n",
              "      <td>4671.48</td>\n",
              "      <td>-91.920</td>\n",
              "      <td>60439692.0</td>\n",
              "      <td>78.03</td>\n",
              "      <td>842.5</td>\n",
              "      <td>196024.0</td>\n",
              "    </tr>\n",
              "    <tr>\n",
              "      <th>2</th>\n",
              "      <td>2</td>\n",
              "      <td>Airtel</td>\n",
              "      <td>Indoor</td>\n",
              "      <td>3G</td>\n",
              "      <td>1</td>\n",
              "      <td>Call Dropped</td>\n",
              "      <td>11.327329</td>\n",
              "      <td>76.749743</td>\n",
              "      <td>Tamil Nadu</td>\n",
              "      <td>1178.410</td>\n",
              "      <td>-85.030</td>\n",
              "      <td>968.58</td>\n",
              "      <td>-85.470</td>\n",
              "      <td>72147030.0</td>\n",
              "      <td>80.33</td>\n",
              "      <td>998.0</td>\n",
              "      <td>130060.0</td>\n",
              "    </tr>\n",
              "    <tr>\n",
              "      <th>3</th>\n",
              "      <td>3</td>\n",
              "      <td>Airtel</td>\n",
              "      <td>Indoor</td>\n",
              "      <td>4G</td>\n",
              "      <td>3</td>\n",
              "      <td>Satisfactory</td>\n",
              "      <td>22.279660</td>\n",
              "      <td>73.149369</td>\n",
              "      <td>Gujarat</td>\n",
              "      <td>5694.480</td>\n",
              "      <td>-89.390</td>\n",
              "      <td>2515.34</td>\n",
              "      <td>-89.515</td>\n",
              "      <td>60439692.0</td>\n",
              "      <td>78.03</td>\n",
              "      <td>842.5</td>\n",
              "      <td>196024.0</td>\n",
              "    </tr>\n",
              "    <tr>\n",
              "      <th>4</th>\n",
              "      <td>4</td>\n",
              "      <td>Airtel</td>\n",
              "      <td>Travelling</td>\n",
              "      <td>4G</td>\n",
              "      <td>3</td>\n",
              "      <td>Satisfactory</td>\n",
              "      <td>18.546344</td>\n",
              "      <td>73.819090</td>\n",
              "      <td>Maharashtra</td>\n",
              "      <td>10804.560</td>\n",
              "      <td>-94.050</td>\n",
              "      <td>4968.27</td>\n",
              "      <td>-94.110</td>\n",
              "      <td>112374333.0</td>\n",
              "      <td>82.34</td>\n",
              "      <td>1455.5</td>\n",
              "      <td>307713.0</td>\n",
              "    </tr>\n",
              "    <tr>\n",
              "      <th>5</th>\n",
              "      <td>5</td>\n",
              "      <td>Airtel</td>\n",
              "      <td>Travelling</td>\n",
              "      <td>4G</td>\n",
              "      <td>3</td>\n",
              "      <td>Satisfactory</td>\n",
              "      <td>18.546627</td>\n",
              "      <td>73.819532</td>\n",
              "      <td>Maharashtra</td>\n",
              "      <td>10804.560</td>\n",
              "      <td>-94.050</td>\n",
              "      <td>4968.27</td>\n",
              "      <td>-94.110</td>\n",
              "      <td>112374333.0</td>\n",
              "      <td>82.34</td>\n",
              "      <td>1455.5</td>\n",
              "      <td>307713.0</td>\n",
              "    </tr>\n",
              "    <tr>\n",
              "      <th>6</th>\n",
              "      <td>6</td>\n",
              "      <td>Airtel</td>\n",
              "      <td>Travelling</td>\n",
              "      <td>4G</td>\n",
              "      <td>5</td>\n",
              "      <td>Satisfactory</td>\n",
              "      <td>18.547528</td>\n",
              "      <td>73.819105</td>\n",
              "      <td>Maharashtra</td>\n",
              "      <td>10804.560</td>\n",
              "      <td>-94.050</td>\n",
              "      <td>4968.27</td>\n",
              "      <td>-94.110</td>\n",
              "      <td>112374333.0</td>\n",
              "      <td>82.34</td>\n",
              "      <td>1455.5</td>\n",
              "      <td>307713.0</td>\n",
              "    </tr>\n",
              "    <tr>\n",
              "      <th>7</th>\n",
              "      <td>7</td>\n",
              "      <td>Airtel</td>\n",
              "      <td>Travelling</td>\n",
              "      <td>4G</td>\n",
              "      <td>4</td>\n",
              "      <td>Satisfactory</td>\n",
              "      <td>18.547528</td>\n",
              "      <td>73.819105</td>\n",
              "      <td>Maharashtra</td>\n",
              "      <td>10804.560</td>\n",
              "      <td>-94.050</td>\n",
              "      <td>4968.27</td>\n",
              "      <td>-94.110</td>\n",
              "      <td>112374333.0</td>\n",
              "      <td>82.34</td>\n",
              "      <td>1455.5</td>\n",
              "      <td>307713.0</td>\n",
              "    </tr>\n",
              "    <tr>\n",
              "      <th>8</th>\n",
              "      <td>8</td>\n",
              "      <td>Airtel</td>\n",
              "      <td>Indoor</td>\n",
              "      <td>4G</td>\n",
              "      <td>5</td>\n",
              "      <td>Satisfactory</td>\n",
              "      <td>10.583104</td>\n",
              "      <td>77.263595</td>\n",
              "      <td>Tamil Nadu</td>\n",
              "      <td>7914.680</td>\n",
              "      <td>-95.011</td>\n",
              "      <td>2788.90</td>\n",
              "      <td>-95.093</td>\n",
              "      <td>72147030.0</td>\n",
              "      <td>80.33</td>\n",
              "      <td>998.0</td>\n",
              "      <td>130060.0</td>\n",
              "    </tr>\n",
              "    <tr>\n",
              "      <th>9</th>\n",
              "      <td>9</td>\n",
              "      <td>RJio</td>\n",
              "      <td>Indoor</td>\n",
              "      <td>4G</td>\n",
              "      <td>5</td>\n",
              "      <td>Satisfactory</td>\n",
              "      <td>29.672815</td>\n",
              "      <td>77.007663</td>\n",
              "      <td>Haryana</td>\n",
              "      <td>7170.630</td>\n",
              "      <td>-94.578</td>\n",
              "      <td>2680.02</td>\n",
              "      <td>-94.650</td>\n",
              "      <td>25351462.0</td>\n",
              "      <td>75.55</td>\n",
              "      <td>617.0</td>\n",
              "      <td>44212.0</td>\n",
              "    </tr>\n",
              "    <tr>\n",
              "      <th>10</th>\n",
              "      <td>10</td>\n",
              "      <td>RJio</td>\n",
              "      <td>Outdoor</td>\n",
              "      <td>4G</td>\n",
              "      <td>5</td>\n",
              "      <td>Satisfactory</td>\n",
              "      <td>31.520162</td>\n",
              "      <td>75.291843</td>\n",
              "      <td>Punjab</td>\n",
              "      <td>14454.450</td>\n",
              "      <td>-90.950</td>\n",
              "      <td>4981.15</td>\n",
              "      <td>-90.990</td>\n",
              "      <td>27704236.0</td>\n",
              "      <td>76.68</td>\n",
              "      <td>649.0</td>\n",
              "      <td>50362.0</td>\n",
              "    </tr>\n",
              "    <tr>\n",
              "      <th>11</th>\n",
              "      <td>11</td>\n",
              "      <td>Airtel</td>\n",
              "      <td>Travelling</td>\n",
              "      <td>3G</td>\n",
              "      <td>5</td>\n",
              "      <td>Satisfactory</td>\n",
              "      <td>10.579928</td>\n",
              "      <td>77.260367</td>\n",
              "      <td>Tamil Nadu</td>\n",
              "      <td>1178.410</td>\n",
              "      <td>-85.030</td>\n",
              "      <td>968.58</td>\n",
              "      <td>-85.470</td>\n",
              "      <td>72147030.0</td>\n",
              "      <td>80.33</td>\n",
              "      <td>998.0</td>\n",
              "      <td>130060.0</td>\n",
              "    </tr>\n",
              "    <tr>\n",
              "      <th>12</th>\n",
              "      <td>12</td>\n",
              "      <td>Airtel</td>\n",
              "      <td>Travelling</td>\n",
              "      <td>4G</td>\n",
              "      <td>4</td>\n",
              "      <td>Satisfactory</td>\n",
              "      <td>18.547528</td>\n",
              "      <td>73.819105</td>\n",
              "      <td>Maharashtra</td>\n",
              "      <td>10804.560</td>\n",
              "      <td>-94.050</td>\n",
              "      <td>4968.27</td>\n",
              "      <td>-94.110</td>\n",
              "      <td>112374333.0</td>\n",
              "      <td>82.34</td>\n",
              "      <td>1455.5</td>\n",
              "      <td>307713.0</td>\n",
              "    </tr>\n",
              "    <tr>\n",
              "      <th>13</th>\n",
              "      <td>13</td>\n",
              "      <td>RJio</td>\n",
              "      <td>Indoor</td>\n",
              "      <td>4G</td>\n",
              "      <td>5</td>\n",
              "      <td>Satisfactory</td>\n",
              "      <td>19.076086</td>\n",
              "      <td>72.865702</td>\n",
              "      <td>Maharashtra</td>\n",
              "      <td>20707.870</td>\n",
              "      <td>-86.800</td>\n",
              "      <td>4130.46</td>\n",
              "      <td>-86.920</td>\n",
              "      <td>112374333.0</td>\n",
              "      <td>82.34</td>\n",
              "      <td>1455.5</td>\n",
              "      <td>307713.0</td>\n",
              "    </tr>\n",
              "    <tr>\n",
              "      <th>14</th>\n",
              "      <td>14</td>\n",
              "      <td>RJio</td>\n",
              "      <td>Outdoor</td>\n",
              "      <td>4G</td>\n",
              "      <td>5</td>\n",
              "      <td>Satisfactory</td>\n",
              "      <td>31.520162</td>\n",
              "      <td>75.291843</td>\n",
              "      <td>Punjab</td>\n",
              "      <td>14454.450</td>\n",
              "      <td>-90.950</td>\n",
              "      <td>4981.15</td>\n",
              "      <td>-90.990</td>\n",
              "      <td>27704236.0</td>\n",
              "      <td>76.68</td>\n",
              "      <td>649.0</td>\n",
              "      <td>50362.0</td>\n",
              "    </tr>\n",
              "  </tbody>\n",
              "</table>\n",
              "</div>"
            ],
            "text/plain": [
              "    Unnamed: 0  Operator  ... Rainfall Area of the state\n",
              "0            0    Airtel  ...   1248.0          191791.0\n",
              "1            1  Vodafone  ...    842.5          196024.0\n",
              "2            2    Airtel  ...    998.0          130060.0\n",
              "3            3    Airtel  ...    842.5          196024.0\n",
              "4            4    Airtel  ...   1455.5          307713.0\n",
              "5            5    Airtel  ...   1455.5          307713.0\n",
              "6            6    Airtel  ...   1455.5          307713.0\n",
              "7            7    Airtel  ...   1455.5          307713.0\n",
              "8            8    Airtel  ...    998.0          130060.0\n",
              "9            9      RJio  ...    617.0           44212.0\n",
              "10          10      RJio  ...    649.0           50362.0\n",
              "11          11    Airtel  ...    998.0          130060.0\n",
              "12          12    Airtel  ...   1455.5          307713.0\n",
              "13          13      RJio  ...   1455.5          307713.0\n",
              "14          14      RJio  ...    649.0           50362.0\n",
              "\n",
              "[15 rows x 17 columns]"
            ]
          },
          "metadata": {},
          "execution_count": 56
        }
      ]
    },
    {
      "cell_type": "code",
      "metadata": {
        "colab": {
          "base_uri": "https://localhost:8080/"
        },
        "id": "1VwrslqNKuZN",
        "outputId": "08e6dbf2-e547-4302-f617-e274b5a6af75"
      },
      "source": [
        "data.nunique()"
      ],
      "execution_count": 57,
      "outputs": [
        {
          "output_type": "execute_result",
          "data": {
            "text/plain": [
              "Unnamed: 0                          30785\n",
              "Operator                                5\n",
              "In Out Travelling                       3\n",
              "Network Type                            2\n",
              "Rating                                  5\n",
              "Call Drop Category                      3\n",
              "Latitude                            16261\n",
              "Longitude                           16054\n",
              "State Name                             15\n",
              "Average Data Speed Download            98\n",
              "Average Signal Strength Download       95\n",
              "Average Data Speed Upload              98\n",
              "Average Signal Strength Upload         95\n",
              "Population                             15\n",
              "Literacy Rate                          15\n",
              "Rainfall                               15\n",
              "Area of the state                      15\n",
              "dtype: int64"
            ]
          },
          "metadata": {},
          "execution_count": 57
        }
      ]
    },
    {
      "cell_type": "code",
      "metadata": {
        "id": "ZwwhTBDhPiwU"
      },
      "source": [
        "data.drop('Unnamed: 0',axis=1,inplace=True)"
      ],
      "execution_count": 58,
      "outputs": []
    },
    {
      "cell_type": "code",
      "metadata": {
        "colab": {
          "base_uri": "https://localhost:8080/",
          "height": 509
        },
        "id": "KWbdcVTEKuL1",
        "outputId": "c00811e6-285b-482a-dde3-ed97f93bf75f"
      },
      "source": [
        "data.corr()"
      ],
      "execution_count": 59,
      "outputs": [
        {
          "output_type": "execute_result",
          "data": {
            "text/html": [
              "<div>\n",
              "<style scoped>\n",
              "    .dataframe tbody tr th:only-of-type {\n",
              "        vertical-align: middle;\n",
              "    }\n",
              "\n",
              "    .dataframe tbody tr th {\n",
              "        vertical-align: top;\n",
              "    }\n",
              "\n",
              "    .dataframe thead th {\n",
              "        text-align: right;\n",
              "    }\n",
              "</style>\n",
              "<table border=\"1\" class=\"dataframe\">\n",
              "  <thead>\n",
              "    <tr style=\"text-align: right;\">\n",
              "      <th></th>\n",
              "      <th>Rating</th>\n",
              "      <th>Latitude</th>\n",
              "      <th>Longitude</th>\n",
              "      <th>Average Data Speed Download</th>\n",
              "      <th>Average Signal Strength Download</th>\n",
              "      <th>Average Data Speed Upload</th>\n",
              "      <th>Average Signal Strength Upload</th>\n",
              "      <th>Population</th>\n",
              "      <th>Literacy Rate</th>\n",
              "      <th>Rainfall</th>\n",
              "      <th>Area of the state</th>\n",
              "    </tr>\n",
              "  </thead>\n",
              "  <tbody>\n",
              "    <tr>\n",
              "      <th>Rating</th>\n",
              "      <td>1.000000</td>\n",
              "      <td>-0.002281</td>\n",
              "      <td>0.128139</td>\n",
              "      <td>0.107355</td>\n",
              "      <td>-0.009265</td>\n",
              "      <td>0.123407</td>\n",
              "      <td>0.037167</td>\n",
              "      <td>-0.075174</td>\n",
              "      <td>-0.024435</td>\n",
              "      <td>0.017366</td>\n",
              "      <td>0.012885</td>\n",
              "    </tr>\n",
              "    <tr>\n",
              "      <th>Latitude</th>\n",
              "      <td>-0.002281</td>\n",
              "      <td>1.000000</td>\n",
              "      <td>0.124229</td>\n",
              "      <td>0.006230</td>\n",
              "      <td>-0.026600</td>\n",
              "      <td>-0.032982</td>\n",
              "      <td>0.027047</td>\n",
              "      <td>0.180954</td>\n",
              "      <td>-0.204830</td>\n",
              "      <td>-0.346943</td>\n",
              "      <td>-0.062440</td>\n",
              "    </tr>\n",
              "    <tr>\n",
              "      <th>Longitude</th>\n",
              "      <td>0.128139</td>\n",
              "      <td>0.124229</td>\n",
              "      <td>1.000000</td>\n",
              "      <td>0.255810</td>\n",
              "      <td>0.013536</td>\n",
              "      <td>0.222827</td>\n",
              "      <td>0.086698</td>\n",
              "      <td>-0.081998</td>\n",
              "      <td>-0.337597</td>\n",
              "      <td>0.372490</td>\n",
              "      <td>-0.656431</td>\n",
              "    </tr>\n",
              "    <tr>\n",
              "      <th>Average Data Speed Download</th>\n",
              "      <td>0.107355</td>\n",
              "      <td>0.006230</td>\n",
              "      <td>0.255810</td>\n",
              "      <td>1.000000</td>\n",
              "      <td>0.035435</td>\n",
              "      <td>0.698465</td>\n",
              "      <td>0.283802</td>\n",
              "      <td>0.039678</td>\n",
              "      <td>-0.287473</td>\n",
              "      <td>0.105436</td>\n",
              "      <td>-0.065393</td>\n",
              "    </tr>\n",
              "    <tr>\n",
              "      <th>Average Signal Strength Download</th>\n",
              "      <td>-0.009265</td>\n",
              "      <td>-0.026600</td>\n",
              "      <td>0.013536</td>\n",
              "      <td>0.035435</td>\n",
              "      <td>1.000000</td>\n",
              "      <td>0.025573</td>\n",
              "      <td>0.014232</td>\n",
              "      <td>0.013990</td>\n",
              "      <td>0.011133</td>\n",
              "      <td>0.053324</td>\n",
              "      <td>-0.029486</td>\n",
              "    </tr>\n",
              "    <tr>\n",
              "      <th>Average Data Speed Upload</th>\n",
              "      <td>0.123407</td>\n",
              "      <td>-0.032982</td>\n",
              "      <td>0.222827</td>\n",
              "      <td>0.698465</td>\n",
              "      <td>0.025573</td>\n",
              "      <td>1.000000</td>\n",
              "      <td>-0.038725</td>\n",
              "      <td>-0.016013</td>\n",
              "      <td>-0.217753</td>\n",
              "      <td>0.049883</td>\n",
              "      <td>-0.080940</td>\n",
              "    </tr>\n",
              "    <tr>\n",
              "      <th>Average Signal Strength Upload</th>\n",
              "      <td>0.037167</td>\n",
              "      <td>0.027047</td>\n",
              "      <td>0.086698</td>\n",
              "      <td>0.283802</td>\n",
              "      <td>0.014232</td>\n",
              "      <td>-0.038725</td>\n",
              "      <td>1.000000</td>\n",
              "      <td>-0.044444</td>\n",
              "      <td>-0.103904</td>\n",
              "      <td>-0.028081</td>\n",
              "      <td>-0.002642</td>\n",
              "    </tr>\n",
              "    <tr>\n",
              "      <th>Population</th>\n",
              "      <td>-0.075174</td>\n",
              "      <td>0.180954</td>\n",
              "      <td>-0.081998</td>\n",
              "      <td>0.039678</td>\n",
              "      <td>0.013990</td>\n",
              "      <td>-0.016013</td>\n",
              "      <td>-0.044444</td>\n",
              "      <td>1.000000</td>\n",
              "      <td>-0.002591</td>\n",
              "      <td>0.280014</td>\n",
              "      <td>0.399032</td>\n",
              "    </tr>\n",
              "    <tr>\n",
              "      <th>Literacy Rate</th>\n",
              "      <td>-0.024435</td>\n",
              "      <td>-0.204830</td>\n",
              "      <td>-0.337597</td>\n",
              "      <td>-0.287473</td>\n",
              "      <td>0.011133</td>\n",
              "      <td>-0.217753</td>\n",
              "      <td>-0.103904</td>\n",
              "      <td>-0.002591</td>\n",
              "      <td>1.000000</td>\n",
              "      <td>0.198137</td>\n",
              "      <td>0.210401</td>\n",
              "    </tr>\n",
              "    <tr>\n",
              "      <th>Rainfall</th>\n",
              "      <td>0.017366</td>\n",
              "      <td>-0.346943</td>\n",
              "      <td>0.372490</td>\n",
              "      <td>0.105436</td>\n",
              "      <td>0.053324</td>\n",
              "      <td>0.049883</td>\n",
              "      <td>-0.028081</td>\n",
              "      <td>0.280014</td>\n",
              "      <td>0.198137</td>\n",
              "      <td>1.000000</td>\n",
              "      <td>-0.135894</td>\n",
              "    </tr>\n",
              "    <tr>\n",
              "      <th>Area of the state</th>\n",
              "      <td>0.012885</td>\n",
              "      <td>-0.062440</td>\n",
              "      <td>-0.656431</td>\n",
              "      <td>-0.065393</td>\n",
              "      <td>-0.029486</td>\n",
              "      <td>-0.080940</td>\n",
              "      <td>-0.002642</td>\n",
              "      <td>0.399032</td>\n",
              "      <td>0.210401</td>\n",
              "      <td>-0.135894</td>\n",
              "      <td>1.000000</td>\n",
              "    </tr>\n",
              "  </tbody>\n",
              "</table>\n",
              "</div>"
            ],
            "text/plain": [
              "                                    Rating  ...  Area of the state\n",
              "Rating                            1.000000  ...           0.012885\n",
              "Latitude                         -0.002281  ...          -0.062440\n",
              "Longitude                         0.128139  ...          -0.656431\n",
              "Average Data Speed Download       0.107355  ...          -0.065393\n",
              "Average Signal Strength Download -0.009265  ...          -0.029486\n",
              "Average Data Speed Upload         0.123407  ...          -0.080940\n",
              "Average Signal Strength Upload    0.037167  ...          -0.002642\n",
              "Population                       -0.075174  ...           0.399032\n",
              "Literacy Rate                    -0.024435  ...           0.210401\n",
              "Rainfall                          0.017366  ...          -0.135894\n",
              "Area of the state                 0.012885  ...           1.000000\n",
              "\n",
              "[11 rows x 11 columns]"
            ]
          },
          "metadata": {},
          "execution_count": 59
        }
      ]
    },
    {
      "cell_type": "code",
      "metadata": {
        "colab": {
          "base_uri": "https://localhost:8080/",
          "height": 348
        },
        "id": "pGfxMNXLOiSW",
        "outputId": "fed7f2a3-bf3e-495d-e69d-cf73354b8fe6"
      },
      "source": [
        " data.describe()"
      ],
      "execution_count": 60,
      "outputs": [
        {
          "output_type": "execute_result",
          "data": {
            "text/html": [
              "<div>\n",
              "<style scoped>\n",
              "    .dataframe tbody tr th:only-of-type {\n",
              "        vertical-align: middle;\n",
              "    }\n",
              "\n",
              "    .dataframe tbody tr th {\n",
              "        vertical-align: top;\n",
              "    }\n",
              "\n",
              "    .dataframe thead th {\n",
              "        text-align: right;\n",
              "    }\n",
              "</style>\n",
              "<table border=\"1\" class=\"dataframe\">\n",
              "  <thead>\n",
              "    <tr style=\"text-align: right;\">\n",
              "      <th></th>\n",
              "      <th>Rating</th>\n",
              "      <th>Latitude</th>\n",
              "      <th>Longitude</th>\n",
              "      <th>Average Data Speed Download</th>\n",
              "      <th>Average Signal Strength Download</th>\n",
              "      <th>Average Data Speed Upload</th>\n",
              "      <th>Average Signal Strength Upload</th>\n",
              "      <th>Population</th>\n",
              "      <th>Literacy Rate</th>\n",
              "      <th>Rainfall</th>\n",
              "      <th>Area of the state</th>\n",
              "    </tr>\n",
              "  </thead>\n",
              "  <tbody>\n",
              "    <tr>\n",
              "      <th>count</th>\n",
              "      <td>30785.000000</td>\n",
              "      <td>30785.000000</td>\n",
              "      <td>30785.000000</td>\n",
              "      <td>30785.000000</td>\n",
              "      <td>30785.000000</td>\n",
              "      <td>30785.000000</td>\n",
              "      <td>30785.000000</td>\n",
              "      <td>3.078500e+04</td>\n",
              "      <td>30785.000000</td>\n",
              "      <td>30785.000000</td>\n",
              "      <td>30785.000000</td>\n",
              "    </tr>\n",
              "    <tr>\n",
              "      <th>mean</th>\n",
              "      <td>3.527075</td>\n",
              "      <td>20.986716</td>\n",
              "      <td>77.624482</td>\n",
              "      <td>13383.178796</td>\n",
              "      <td>-91.940324</td>\n",
              "      <td>3937.800252</td>\n",
              "      <td>-87.654863</td>\n",
              "      <td>9.340490e+07</td>\n",
              "      <td>74.513815</td>\n",
              "      <td>1222.318883</td>\n",
              "      <td>221781.967549</td>\n",
              "    </tr>\n",
              "    <tr>\n",
              "      <th>std</th>\n",
              "      <td>1.480751</td>\n",
              "      <td>4.904788</td>\n",
              "      <td>4.897669</td>\n",
              "      <td>9652.418551</td>\n",
              "      <td>189.709705</td>\n",
              "      <td>2022.009990</td>\n",
              "      <td>7.696626</td>\n",
              "      <td>4.112688e+07</td>\n",
              "      <td>12.449141</td>\n",
              "      <td>463.221742</td>\n",
              "      <td>93044.821822</td>\n",
              "    </tr>\n",
              "    <tr>\n",
              "      <th>min</th>\n",
              "      <td>1.000000</td>\n",
              "      <td>8.255166</td>\n",
              "      <td>69.017391</td>\n",
              "      <td>0.000000</td>\n",
              "      <td>-8407.000000</td>\n",
              "      <td>220.940000</td>\n",
              "      <td>-103.200000</td>\n",
              "      <td>2.535146e+07</td>\n",
              "      <td>10.980000</td>\n",
              "      <td>143.000000</td>\n",
              "      <td>38863.000000</td>\n",
              "    </tr>\n",
              "    <tr>\n",
              "      <th>25%</th>\n",
              "      <td>2.000000</td>\n",
              "      <td>18.547627</td>\n",
              "      <td>73.739626</td>\n",
              "      <td>5191.980000</td>\n",
              "      <td>-92.580000</td>\n",
              "      <td>2680.020000</td>\n",
              "      <td>-93.000000</td>\n",
              "      <td>6.113070e+07</td>\n",
              "      <td>70.600000</td>\n",
              "      <td>998.000000</td>\n",
              "      <td>130060.000000</td>\n",
              "    </tr>\n",
              "    <tr>\n",
              "      <th>50%</th>\n",
              "      <td>4.000000</td>\n",
              "      <td>20.303444</td>\n",
              "      <td>76.945477</td>\n",
              "      <td>10804.560000</td>\n",
              "      <td>-86.800000</td>\n",
              "      <td>4130.460000</td>\n",
              "      <td>-86.920000</td>\n",
              "      <td>9.127612e+07</td>\n",
              "      <td>76.680000</td>\n",
              "      <td>1248.000000</td>\n",
              "      <td>243286.000000</td>\n",
              "    </tr>\n",
              "    <tr>\n",
              "      <th>75%</th>\n",
              "      <td>5.000000</td>\n",
              "      <td>25.263877</td>\n",
              "      <td>80.197102</td>\n",
              "      <td>20707.870000</td>\n",
              "      <td>-84.740000</td>\n",
              "      <td>5107.230000</td>\n",
              "      <td>-84.949000</td>\n",
              "      <td>1.123743e+08</td>\n",
              "      <td>82.340000</td>\n",
              "      <td>1455.500000</td>\n",
              "      <td>307713.000000</td>\n",
              "    </tr>\n",
              "    <tr>\n",
              "      <th>max</th>\n",
              "      <td>5.000000</td>\n",
              "      <td>32.427797</td>\n",
              "      <td>95.619158</td>\n",
              "      <td>32444.069600</td>\n",
              "      <td>-63.000000</td>\n",
              "      <td>12220.910000</td>\n",
              "      <td>76.930000</td>\n",
              "      <td>1.998123e+08</td>\n",
              "      <td>94.000000</td>\n",
              "      <td>3055.000000</td>\n",
              "      <td>342239.000000</td>\n",
              "    </tr>\n",
              "  </tbody>\n",
              "</table>\n",
              "</div>"
            ],
            "text/plain": [
              "             Rating      Latitude  ...      Rainfall  Area of the state\n",
              "count  30785.000000  30785.000000  ...  30785.000000       30785.000000\n",
              "mean       3.527075     20.986716  ...   1222.318883      221781.967549\n",
              "std        1.480751      4.904788  ...    463.221742       93044.821822\n",
              "min        1.000000      8.255166  ...    143.000000       38863.000000\n",
              "25%        2.000000     18.547627  ...    998.000000      130060.000000\n",
              "50%        4.000000     20.303444  ...   1248.000000      243286.000000\n",
              "75%        5.000000     25.263877  ...   1455.500000      307713.000000\n",
              "max        5.000000     32.427797  ...   3055.000000      342239.000000\n",
              "\n",
              "[8 rows x 11 columns]"
            ]
          },
          "metadata": {},
          "execution_count": 60
        }
      ]
    },
    {
      "cell_type": "code",
      "metadata": {
        "id": "rciZe6PBcJTh",
        "colab": {
          "base_uri": "https://localhost:8080/"
        },
        "outputId": "0d0d6fe6-6fa2-467d-9d24-5b20e305f9c7"
      },
      "source": [
        "data.dtypes"
      ],
      "execution_count": null,
      "outputs": [
        {
          "output_type": "execute_result",
          "data": {
            "text/plain": [
              "Operator                             object\n",
              "In Out Travelling                    object\n",
              "Network Type                         object\n",
              "Rating                                int64\n",
              "Call Drop Category                   object\n",
              "Latitude                            float64\n",
              "Longitude                           float64\n",
              "State Name                           object\n",
              "Average Data Speed Download         float64\n",
              "Average Signal Strength Download    float64\n",
              "Average Data Speed Upload           float64\n",
              "Average Signal Strength Upload      float64\n",
              "Population                          float64\n",
              "Literacy Rate                       float64\n",
              "Rainfall                            float64\n",
              "Area of the state                   float64\n",
              "dtype: object"
            ]
          },
          "metadata": {},
          "execution_count": 9
        }
      ]
    },
    {
      "cell_type": "code",
      "metadata": {
        "id": "mtQePnX1Nrha",
        "colab": {
          "base_uri": "https://localhost:8080/",
          "height": 911
        },
        "outputId": "debd99f9-2799-4cee-9945-89094e88b2ba"
      },
      "source": [
        "cols=['Operator','In Out Travelling', 'Network Type','Rating','Call Drop Category','State Name']\n",
        "n_rows=2\n",
        "n_cols=3\n",
        "\n",
        "# The subplot grid and figure size of each graph\n",
        "fig , axs =plt.subplots(n_rows, n_cols,figsize=(n_cols*5 , n_rows*4))\n",
        "\n",
        "for r in range(0,n_rows):\n",
        "  for c in range(0,n_cols):\n",
        "    i = r*n_cols + c # index to go through the columns\n",
        "    ax = axs[r][c] # Show where to position each subplot\n",
        "    sns.countplot(data[cols[i]], ax=ax)\n",
        "    ax.set_title(cols[i])\n",
        "    ax.legend(title='No. of users', loc='upper right')\n",
        "\n",
        "plt.tight_layout()"
      ],
      "execution_count": null,
      "outputs": [
        {
          "output_type": "stream",
          "text": [
            "/usr/local/lib/python3.7/dist-packages/seaborn/_decorators.py:43: FutureWarning: Pass the following variable as a keyword arg: x. From version 0.12, the only valid positional argument will be `data`, and passing other arguments without an explicit keyword will result in an error or misinterpretation.\n",
            "  FutureWarning\n",
            "No handles with labels found to put in legend.\n",
            "/usr/local/lib/python3.7/dist-packages/seaborn/_decorators.py:43: FutureWarning: Pass the following variable as a keyword arg: x. From version 0.12, the only valid positional argument will be `data`, and passing other arguments without an explicit keyword will result in an error or misinterpretation.\n",
            "  FutureWarning\n",
            "No handles with labels found to put in legend.\n",
            "/usr/local/lib/python3.7/dist-packages/seaborn/_decorators.py:43: FutureWarning: Pass the following variable as a keyword arg: x. From version 0.12, the only valid positional argument will be `data`, and passing other arguments without an explicit keyword will result in an error or misinterpretation.\n",
            "  FutureWarning\n",
            "No handles with labels found to put in legend.\n",
            "/usr/local/lib/python3.7/dist-packages/seaborn/_decorators.py:43: FutureWarning: Pass the following variable as a keyword arg: x. From version 0.12, the only valid positional argument will be `data`, and passing other arguments without an explicit keyword will result in an error or misinterpretation.\n",
            "  FutureWarning\n",
            "No handles with labels found to put in legend.\n",
            "/usr/local/lib/python3.7/dist-packages/seaborn/_decorators.py:43: FutureWarning: Pass the following variable as a keyword arg: x. From version 0.12, the only valid positional argument will be `data`, and passing other arguments without an explicit keyword will result in an error or misinterpretation.\n",
            "  FutureWarning\n",
            "No handles with labels found to put in legend.\n",
            "/usr/local/lib/python3.7/dist-packages/seaborn/_decorators.py:43: FutureWarning: Pass the following variable as a keyword arg: x. From version 0.12, the only valid positional argument will be `data`, and passing other arguments without an explicit keyword will result in an error or misinterpretation.\n",
            "  FutureWarning\n",
            "No handles with labels found to put in legend.\n"
          ],
          "name": "stderr"
        },
        {
          "output_type": "display_data",
          "data": {
            "image/png": "[encoded data removed]",
            "text/plain": [
              "<Figure size 1080x576 with 6 Axes>"
            ]
          },
          "metadata": {
            "needs_background": "light"
          }
        }
      ]
    },
    {
      "cell_type": "code",
      "metadata": {
        "id": "ZJV_SqQsQ66i",
        "colab": {
          "base_uri": "https://localhost:8080/",
          "height": 741
        },
        "outputId": "06066681-238b-42e6-b12b-da971ed1cc41"
      },
      "source": [
        "cols=['Average Data Speed Download','Average Data Speed Upload', 'Average Signal Strength Upload','Average Signal Strength Download']\n",
        "n_rows=2\n",
        "n_cols=2\n",
        "\n",
        "# The subplot grid and figure size of each graph\n",
        "fig , axs =plt.subplots(n_rows, n_cols,figsize=(n_cols*5 , n_rows*4))\n",
        "\n",
        "for r in range(0,n_rows):\n",
        "  for c in range(0,n_cols):\n",
        "    i = r*n_cols + c # index to go through the columns\n",
        "    ax = axs[r][c] # Show where to position each subplot\n",
        "    sns.boxplot(data[cols[i]], ax=ax)\n",
        "    ax.set_title(cols[i])\n",
        "    \n",
        "\n",
        "plt.tight_layout()"
      ],
      "execution_count": 61,
      "outputs": [
        {
          "output_type": "stream",
          "text": [
            "/usr/local/lib/python3.7/dist-packages/seaborn/_decorators.py:43: FutureWarning: Pass the following variable as a keyword arg: x. From version 0.12, the only valid positional argument will be `data`, and passing other arguments without an explicit keyword will result in an error or misinterpretation.\n",
            "  FutureWarning\n",
            "/usr/local/lib/python3.7/dist-packages/seaborn/_decorators.py:43: FutureWarning: Pass the following variable as a keyword arg: x. From version 0.12, the only valid positional argument will be `data`, and passing other arguments without an explicit keyword will result in an error or misinterpretation.\n",
            "  FutureWarning\n",
            "/usr/local/lib/python3.7/dist-packages/seaborn/_decorators.py:43: FutureWarning: Pass the following variable as a keyword arg: x. From version 0.12, the only valid positional argument will be `data`, and passing other arguments without an explicit keyword will result in an error or misinterpretation.\n",
            "  FutureWarning\n",
            "/usr/local/lib/python3.7/dist-packages/seaborn/_decorators.py:43: FutureWarning: Pass the following variable as a keyword arg: x. From version 0.12, the only valid positional argument will be `data`, and passing other arguments without an explicit keyword will result in an error or misinterpretation.\n",
            "  FutureWarning\n"
          ],
          "name": "stderr"
        },
        {
          "output_type": "display_data",
          "data": {
            "image/png": "[encoded data removed]",
            "text/plain": [
              "<Figure size 720x576 with 4 Axes>"
            ]
          },
          "metadata": {
            "needs_background": "light"
          }
        }
      ]
    },
    {
      "cell_type": "code",
      "metadata": {
        "id": "UpaBWS7HODBq",
        "outputId": "e9f63875-ef90-4772-9a3c-1cb233b29726",
        "colab": {
          "base_uri": "https://localhost:8080/"
        }
      },
      "source": [
        "# Finding outliers in the dataset\n",
        "from scipy.stats import iqr\n",
        "iqr(data['Average Signal Strength Download'], axis=0)"
      ],
      "execution_count": 62,
      "outputs": [
        {
          "output_type": "execute_result",
          "data": {
            "text/plain": [
              "7.840000000000003"
            ]
          },
          "metadata": {},
          "execution_count": 62
        }
      ]
    },
    {
      "cell_type": "code",
      "metadata": {
        "id": "jacBBwiOV2M7",
        "outputId": "d4d93b4a-79c5-4c0c-fb45-6382b5424894",
        "colab": {
          "base_uri": "https://localhost:8080/"
        }
      },
      "source": [
        "import numpy as np\n",
        "Q1 = np.quantile(data['Average Signal Strength Download'],0.25)\n",
        "Q3 = np.quantile(data['Average Signal Strength Download'],0.75)\n",
        "IQR = Q3 - Q1\n",
        "print(IQR)"
      ],
      "execution_count": 63,
      "outputs": [
        {
          "output_type": "stream",
          "text": [
            "7.840000000000003\n"
          ],
          "name": "stdout"
        }
      ]
    },
    {
      "cell_type": "code",
      "metadata": {
        "id": "t1y-aLkDaDu1",
        "outputId": "95f00083-932e-46d4-eb4e-99d97480c4bd",
        "colab": {
          "base_uri": "https://localhost:8080/"
        }
      },
      "source": [
        "Q1 = data.quantile(0.25)\n",
        "Q3 = data.quantile(0.75)\n",
        "IQR = Q3 - Q1\n",
        "print(IQR)"
      ],
      "execution_count": 48,
      "outputs": [
        {
          "output_type": "stream",
          "text": [
            "Rating                              3.000000e+00\n",
            "Latitude                            6.716250e+00\n",
            "Longitude                           6.457476e+00\n",
            "Average Data Speed Download         1.551589e+04\n",
            "Average Signal Strength Download    7.840000e+00\n",
            "Average Data Speed Upload           2.427210e+03\n",
            "Average Signal Strength Upload      8.051000e+00\n",
            "Population                          5.124363e+07\n",
            "Literacy Rate                       1.174000e+01\n",
            "Rainfall                            4.575000e+02\n",
            "Area of the state                   1.776530e+05\n",
            "dtype: float64\n"
          ],
          "name": "stdout"
        }
      ]
    },
    {
      "cell_type": "code",
      "metadata": {
        "id": "AxuLcGRZaQbB",
        "outputId": "62fb1842-96b1-4c34-ecae-7fc0138e36c8",
        "colab": {
          "base_uri": "https://localhost:8080/",
          "height": 340
        }
      },
      "source": [
        "data_out = data[~((data < (Q1 - 5* IQR)) |(data > (Q3 + 5 * IQR))).any(axis=1)]"
      ],
      "execution_count": 66,
      "outputs": [
        {
          "output_type": "error",
          "ename": "TypeError",
          "evalue": "ignored",
          "traceback": [
            "\u001b[0;31m---------------------------------------------------------------------------\u001b[0m",
            "\u001b[0;31mTypeError\u001b[0m                                 Traceback (most recent call last)",
            "\u001b[0;32m<ipython-input-66-a97450e4a0e7>\u001b[0m in \u001b[0;36m<module>\u001b[0;34m()\u001b[0m\n\u001b[0;32m----> 1\u001b[0;31m \u001b[0mdata_out\u001b[0m \u001b[0;34m=\u001b[0m \u001b[0mdata\u001b[0m\u001b[0;34m[\u001b[0m\u001b[0;34m~\u001b[0m\u001b[0;34m(\u001b[0m\u001b[0;34m(\u001b[0m\u001b[0mdata\u001b[0m \u001b[0;34m<\u001b[0m \u001b[0;34m(\u001b[0m\u001b[0mQ1\u001b[0m \u001b[0;34m-\u001b[0m \u001b[0;36m5\u001b[0m\u001b[0;34m*\u001b[0m \u001b[0mIQR\u001b[0m\u001b[0;34m)\u001b[0m\u001b[0;34m)\u001b[0m \u001b[0;34m|\u001b[0m\u001b[0;34m(\u001b[0m\u001b[0mdata\u001b[0m \u001b[0;34m>\u001b[0m \u001b[0;34m(\u001b[0m\u001b[0mQ3\u001b[0m \u001b[0;34m+\u001b[0m \u001b[0;36m5\u001b[0m \u001b[0;34m*\u001b[0m \u001b[0mIQR\u001b[0m\u001b[0;34m)\u001b[0m\u001b[0;34m)\u001b[0m\u001b[0;34m)\u001b[0m\u001b[0;34m.\u001b[0m\u001b[0many\u001b[0m\u001b[0;34m(\u001b[0m\u001b[0maxis\u001b[0m\u001b[0;34m=\u001b[0m\u001b[0;36m1\u001b[0m\u001b[0;34m)\u001b[0m\u001b[0;34m]\u001b[0m\u001b[0;34m\u001b[0m\u001b[0;34m\u001b[0m\u001b[0m\n\u001b[0m",
            "\u001b[0;32m/usr/local/lib/python3.7/dist-packages/pandas/core/ops/__init__.py\u001b[0m in \u001b[0;36mf\u001b[0;34m(self, other)\u001b[0m\n\u001b[1;32m    706\u001b[0m \u001b[0;34m\u001b[0m\u001b[0m\n\u001b[1;32m    707\u001b[0m         \u001b[0;31m# See GH#4537 for discussion of scalar op behavior\u001b[0m\u001b[0;34m\u001b[0m\u001b[0;34m\u001b[0m\u001b[0;34m\u001b[0m\u001b[0m\n\u001b[0;32m--> 708\u001b[0;31m         \u001b[0mnew_data\u001b[0m \u001b[0;34m=\u001b[0m \u001b[0mdispatch_to_series\u001b[0m\u001b[0;34m(\u001b[0m\u001b[0mself\u001b[0m\u001b[0;34m,\u001b[0m \u001b[0mother\u001b[0m\u001b[0;34m,\u001b[0m \u001b[0mop\u001b[0m\u001b[0;34m,\u001b[0m \u001b[0maxis\u001b[0m\u001b[0;34m=\u001b[0m\u001b[0maxis\u001b[0m\u001b[0;34m)\u001b[0m\u001b[0;34m\u001b[0m\u001b[0;34m\u001b[0m\u001b[0m\n\u001b[0m\u001b[1;32m    709\u001b[0m         \u001b[0;32mreturn\u001b[0m \u001b[0mself\u001b[0m\u001b[0;34m.\u001b[0m\u001b[0m_construct_result\u001b[0m\u001b[0;34m(\u001b[0m\u001b[0mnew_data\u001b[0m\u001b[0;34m)\u001b[0m\u001b[0;34m\u001b[0m\u001b[0;34m\u001b[0m\u001b[0m\n\u001b[1;32m    710\u001b[0m \u001b[0;34m\u001b[0m\u001b[0m\n",
            "\u001b[0;32m/usr/local/lib/python3.7/dist-packages/pandas/core/ops/__init__.py\u001b[0m in \u001b[0;36mdispatch_to_series\u001b[0;34m(left, right, func, axis)\u001b[0m\n\u001b[1;32m    263\u001b[0m     \u001b[0;32mif\u001b[0m \u001b[0;32mnot\u001b[0m \u001b[0mis_list_like\u001b[0m\u001b[0;34m(\u001b[0m\u001b[0mright\u001b[0m\u001b[0;34m)\u001b[0m\u001b[0;34m:\u001b[0m\u001b[0;34m\u001b[0m\u001b[0;34m\u001b[0m\u001b[0m\n\u001b[1;32m    264\u001b[0m         \u001b[0;31m# i.e. scalar, faster than checking np.ndim(right) == 0\u001b[0m\u001b[0;34m\u001b[0m\u001b[0;34m\u001b[0m\u001b[0;34m\u001b[0m\u001b[0m\n\u001b[0;32m--> 265\u001b[0;31m         \u001b[0mbm\u001b[0m \u001b[0;34m=\u001b[0m \u001b[0mleft\u001b[0m\u001b[0;34m.\u001b[0m\u001b[0m_mgr\u001b[0m\u001b[0;34m.\u001b[0m\u001b[0mapply\u001b[0m\u001b[0;34m(\u001b[0m\u001b[0marray_op\u001b[0m\u001b[0;34m,\u001b[0m \u001b[0mright\u001b[0m\u001b[0;34m=\u001b[0m\u001b[0mright\u001b[0m\u001b[0;34m)\u001b[0m\u001b[0;34m\u001b[0m\u001b[0;34m\u001b[0m\u001b[0m\n\u001b[0m\u001b[1;32m    266\u001b[0m         \u001b[0;32mreturn\u001b[0m \u001b[0mtype\u001b[0m\u001b[0;34m(\u001b[0m\u001b[0mleft\u001b[0m\u001b[0;34m)\u001b[0m\u001b[0;34m(\u001b[0m\u001b[0mbm\u001b[0m\u001b[0;34m)\u001b[0m\u001b[0;34m\u001b[0m\u001b[0;34m\u001b[0m\u001b[0m\n\u001b[1;32m    267\u001b[0m \u001b[0;34m\u001b[0m\u001b[0m\n",
            "\u001b[0;32m/usr/local/lib/python3.7/dist-packages/pandas/core/internals/managers.py\u001b[0m in \u001b[0;36mapply\u001b[0;34m(self, f, align_keys, **kwargs)\u001b[0m\n\u001b[1;32m    405\u001b[0m \u001b[0;34m\u001b[0m\u001b[0m\n\u001b[1;32m    406\u001b[0m             \u001b[0;32mif\u001b[0m \u001b[0mcallable\u001b[0m\u001b[0;34m(\u001b[0m\u001b[0mf\u001b[0m\u001b[0;34m)\u001b[0m\u001b[0;34m:\u001b[0m\u001b[0;34m\u001b[0m\u001b[0;34m\u001b[0m\u001b[0m\n\u001b[0;32m--> 407\u001b[0;31m                 \u001b[0mapplied\u001b[0m \u001b[0;34m=\u001b[0m \u001b[0mb\u001b[0m\u001b[0;34m.\u001b[0m\u001b[0mapply\u001b[0m\u001b[0;34m(\u001b[0m\u001b[0mf\u001b[0m\u001b[0;34m,\u001b[0m \u001b[0;34m**\u001b[0m\u001b[0mkwargs\u001b[0m\u001b[0;34m)\u001b[0m\u001b[0;34m\u001b[0m\u001b[0;34m\u001b[0m\u001b[0m\n\u001b[0m\u001b[1;32m    408\u001b[0m             \u001b[0;32melse\u001b[0m\u001b[0;34m:\u001b[0m\u001b[0;34m\u001b[0m\u001b[0;34m\u001b[0m\u001b[0m\n\u001b[1;32m    409\u001b[0m                 \u001b[0mapplied\u001b[0m \u001b[0;34m=\u001b[0m \u001b[0mgetattr\u001b[0m\u001b[0;34m(\u001b[0m\u001b[0mb\u001b[0m\u001b[0;34m,\u001b[0m \u001b[0mf\u001b[0m\u001b[0;34m)\u001b[0m\u001b[0;34m(\u001b[0m\u001b[0;34m**\u001b[0m\u001b[0mkwargs\u001b[0m\u001b[0;34m)\u001b[0m\u001b[0;34m\u001b[0m\u001b[0;34m\u001b[0m\u001b[0m\n",
            "\u001b[0;32m/usr/local/lib/python3.7/dist-packages/pandas/core/internals/blocks.py\u001b[0m in \u001b[0;36mapply\u001b[0;34m(self, func, **kwargs)\u001b[0m\n\u001b[1;32m    344\u001b[0m         \"\"\"\n\u001b[1;32m    345\u001b[0m         \u001b[0;32mwith\u001b[0m \u001b[0mnp\u001b[0m\u001b[0;34m.\u001b[0m\u001b[0merrstate\u001b[0m\u001b[0;34m(\u001b[0m\u001b[0mall\u001b[0m\u001b[0;34m=\u001b[0m\u001b[0;34m\"ignore\"\u001b[0m\u001b[0;34m)\u001b[0m\u001b[0;34m:\u001b[0m\u001b[0;34m\u001b[0m\u001b[0;34m\u001b[0m\u001b[0m\n\u001b[0;32m--> 346\u001b[0;31m             \u001b[0mresult\u001b[0m \u001b[0;34m=\u001b[0m \u001b[0mfunc\u001b[0m\u001b[0;34m(\u001b[0m\u001b[0mself\u001b[0m\u001b[0;34m.\u001b[0m\u001b[0mvalues\u001b[0m\u001b[0;34m,\u001b[0m \u001b[0;34m**\u001b[0m\u001b[0mkwargs\u001b[0m\u001b[0;34m)\u001b[0m\u001b[0;34m\u001b[0m\u001b[0;34m\u001b[0m\u001b[0m\n\u001b[0m\u001b[1;32m    347\u001b[0m \u001b[0;34m\u001b[0m\u001b[0m\n\u001b[1;32m    348\u001b[0m         \u001b[0;32mreturn\u001b[0m \u001b[0mself\u001b[0m\u001b[0;34m.\u001b[0m\u001b[0m_split_op_result\u001b[0m\u001b[0;34m(\u001b[0m\u001b[0mresult\u001b[0m\u001b[0;34m)\u001b[0m\u001b[0;34m\u001b[0m\u001b[0;34m\u001b[0m\u001b[0m\n",
            "\u001b[0;32m/usr/local/lib/python3.7/dist-packages/pandas/core/ops/array_ops.py\u001b[0m in \u001b[0;36mcomparison_op\u001b[0;34m(left, right, op)\u001b[0m\n\u001b[1;32m    242\u001b[0m \u001b[0;34m\u001b[0m\u001b[0m\n\u001b[1;32m    243\u001b[0m     \u001b[0;32melif\u001b[0m \u001b[0mis_object_dtype\u001b[0m\u001b[0;34m(\u001b[0m\u001b[0mlvalues\u001b[0m\u001b[0;34m.\u001b[0m\u001b[0mdtype\u001b[0m\u001b[0;34m)\u001b[0m\u001b[0;34m:\u001b[0m\u001b[0;34m\u001b[0m\u001b[0;34m\u001b[0m\u001b[0m\n\u001b[0;32m--> 244\u001b[0;31m         \u001b[0mres_values\u001b[0m \u001b[0;34m=\u001b[0m \u001b[0mcomp_method_OBJECT_ARRAY\u001b[0m\u001b[0;34m(\u001b[0m\u001b[0mop\u001b[0m\u001b[0;34m,\u001b[0m \u001b[0mlvalues\u001b[0m\u001b[0;34m,\u001b[0m \u001b[0mrvalues\u001b[0m\u001b[0;34m)\u001b[0m\u001b[0;34m\u001b[0m\u001b[0;34m\u001b[0m\u001b[0m\n\u001b[0m\u001b[1;32m    245\u001b[0m \u001b[0;34m\u001b[0m\u001b[0m\n\u001b[1;32m    246\u001b[0m     \u001b[0;32melse\u001b[0m\u001b[0;34m:\u001b[0m\u001b[0;34m\u001b[0m\u001b[0;34m\u001b[0m\u001b[0m\n",
            "\u001b[0;32m/usr/local/lib/python3.7/dist-packages/pandas/core/ops/array_ops.py\u001b[0m in \u001b[0;36mcomp_method_OBJECT_ARRAY\u001b[0;34m(op, x, y)\u001b[0m\n\u001b[1;32m     54\u001b[0m         \u001b[0mresult\u001b[0m \u001b[0;34m=\u001b[0m \u001b[0mlibops\u001b[0m\u001b[0;34m.\u001b[0m\u001b[0mvec_compare\u001b[0m\u001b[0;34m(\u001b[0m\u001b[0mx\u001b[0m\u001b[0;34m.\u001b[0m\u001b[0mravel\u001b[0m\u001b[0;34m(\u001b[0m\u001b[0;34m)\u001b[0m\u001b[0;34m,\u001b[0m \u001b[0my\u001b[0m\u001b[0;34m.\u001b[0m\u001b[0mravel\u001b[0m\u001b[0;34m(\u001b[0m\u001b[0;34m)\u001b[0m\u001b[0;34m,\u001b[0m \u001b[0mop\u001b[0m\u001b[0;34m)\u001b[0m\u001b[0;34m\u001b[0m\u001b[0;34m\u001b[0m\u001b[0m\n\u001b[1;32m     55\u001b[0m     \u001b[0;32melse\u001b[0m\u001b[0;34m:\u001b[0m\u001b[0;34m\u001b[0m\u001b[0;34m\u001b[0m\u001b[0m\n\u001b[0;32m---> 56\u001b[0;31m         \u001b[0mresult\u001b[0m \u001b[0;34m=\u001b[0m \u001b[0mlibops\u001b[0m\u001b[0;34m.\u001b[0m\u001b[0mscalar_compare\u001b[0m\u001b[0;34m(\u001b[0m\u001b[0mx\u001b[0m\u001b[0;34m.\u001b[0m\u001b[0mravel\u001b[0m\u001b[0;34m(\u001b[0m\u001b[0;34m)\u001b[0m\u001b[0;34m,\u001b[0m \u001b[0my\u001b[0m\u001b[0;34m,\u001b[0m \u001b[0mop\u001b[0m\u001b[0;34m)\u001b[0m\u001b[0;34m\u001b[0m\u001b[0;34m\u001b[0m\u001b[0m\n\u001b[0m\u001b[1;32m     57\u001b[0m     \u001b[0;32mreturn\u001b[0m \u001b[0mresult\u001b[0m\u001b[0;34m.\u001b[0m\u001b[0mreshape\u001b[0m\u001b[0;34m(\u001b[0m\u001b[0mx\u001b[0m\u001b[0;34m.\u001b[0m\u001b[0mshape\u001b[0m\u001b[0;34m)\u001b[0m\u001b[0;34m\u001b[0m\u001b[0;34m\u001b[0m\u001b[0m\n\u001b[1;32m     58\u001b[0m \u001b[0;34m\u001b[0m\u001b[0m\n",
            "\u001b[0;32mpandas/_libs/ops.pyx\u001b[0m in \u001b[0;36mpandas._libs.ops.scalar_compare\u001b[0;34m()\u001b[0m\n",
            "\u001b[0;31mTypeError\u001b[0m: '>' not supported between instances of 'numpy.ndarray' and 'str'"
          ]
        }
      ]
    },
    {
      "cell_type": "code",
      "metadata": {
        "id": "PfYQ77UAbxSf",
        "outputId": "047cdb28-71f1-4304-f22b-a4034e27a266",
        "colab": {
          "base_uri": "https://localhost:8080/"
        }
      },
      "source": [
        "data_out.shape"
      ],
      "execution_count": 67,
      "outputs": [
        {
          "output_type": "execute_result",
          "data": {
            "text/plain": [
              "(29930, 16)"
            ]
          },
          "metadata": {},
          "execution_count": 67
        }
      ]
    },
    {
      "cell_type": "code",
      "metadata": {
        "id": "KYD7xg6kbCyM",
        "outputId": "cbf3c3d4-382a-4330-bd5e-8fd40ee4727a",
        "colab": {
          "base_uri": "https://localhost:8080/",
          "height": 309
        }
      },
      "source": [
        "data_out.head()"
      ],
      "execution_count": 68,
      "outputs": [
        {
          "output_type": "execute_result",
          "data": {
            "text/html": [
              "<div>\n",
              "<style scoped>\n",
              "    .dataframe tbody tr th:only-of-type {\n",
              "        vertical-align: middle;\n",
              "    }\n",
              "\n",
              "    .dataframe tbody tr th {\n",
              "        vertical-align: top;\n",
              "    }\n",
              "\n",
              "    .dataframe thead th {\n",
              "        text-align: right;\n",
              "    }\n",
              "</style>\n",
              "<table border=\"1\" class=\"dataframe\">\n",
              "  <thead>\n",
              "    <tr style=\"text-align: right;\">\n",
              "      <th></th>\n",
              "      <th>Operator</th>\n",
              "      <th>In Out Travelling</th>\n",
              "      <th>Network Type</th>\n",
              "      <th>Rating</th>\n",
              "      <th>Call Drop Category</th>\n",
              "      <th>Latitude</th>\n",
              "      <th>Longitude</th>\n",
              "      <th>State Name</th>\n",
              "      <th>Average Data Speed Download</th>\n",
              "      <th>Average Signal Strength Download</th>\n",
              "      <th>Average Data Speed Upload</th>\n",
              "      <th>Average Signal Strength Upload</th>\n",
              "      <th>Population</th>\n",
              "      <th>Literacy Rate</th>\n",
              "      <th>Rainfall</th>\n",
              "      <th>Area of the state</th>\n",
              "    </tr>\n",
              "  </thead>\n",
              "  <tbody>\n",
              "    <tr>\n",
              "      <th>0</th>\n",
              "      <td>Airtel</td>\n",
              "      <td>Indoor</td>\n",
              "      <td>4G</td>\n",
              "      <td>3</td>\n",
              "      <td>Satisfactory</td>\n",
              "      <td>12.998502</td>\n",
              "      <td>77.672437</td>\n",
              "      <td>Karnataka</td>\n",
              "      <td>8807.910</td>\n",
              "      <td>-94.86</td>\n",
              "      <td>2591.08</td>\n",
              "      <td>-94.840</td>\n",
              "      <td>61130704.0</td>\n",
              "      <td>75.36</td>\n",
              "      <td>1248.0</td>\n",
              "      <td>191791.0</td>\n",
              "    </tr>\n",
              "    <tr>\n",
              "      <th>1</th>\n",
              "      <td>Vodafone</td>\n",
              "      <td>Indoor</td>\n",
              "      <td>4G</td>\n",
              "      <td>1</td>\n",
              "      <td>Call Dropped</td>\n",
              "      <td>23.554190</td>\n",
              "      <td>72.620110</td>\n",
              "      <td>Gujarat</td>\n",
              "      <td>6862.552</td>\n",
              "      <td>-91.96</td>\n",
              "      <td>4671.48</td>\n",
              "      <td>-91.920</td>\n",
              "      <td>60439692.0</td>\n",
              "      <td>78.03</td>\n",
              "      <td>842.5</td>\n",
              "      <td>196024.0</td>\n",
              "    </tr>\n",
              "    <tr>\n",
              "      <th>2</th>\n",
              "      <td>Airtel</td>\n",
              "      <td>Indoor</td>\n",
              "      <td>3G</td>\n",
              "      <td>1</td>\n",
              "      <td>Call Dropped</td>\n",
              "      <td>11.327329</td>\n",
              "      <td>76.749743</td>\n",
              "      <td>Tamil Nadu</td>\n",
              "      <td>1178.410</td>\n",
              "      <td>-85.03</td>\n",
              "      <td>968.58</td>\n",
              "      <td>-85.470</td>\n",
              "      <td>72147030.0</td>\n",
              "      <td>80.33</td>\n",
              "      <td>998.0</td>\n",
              "      <td>130060.0</td>\n",
              "    </tr>\n",
              "    <tr>\n",
              "      <th>3</th>\n",
              "      <td>Airtel</td>\n",
              "      <td>Indoor</td>\n",
              "      <td>4G</td>\n",
              "      <td>3</td>\n",
              "      <td>Satisfactory</td>\n",
              "      <td>22.279660</td>\n",
              "      <td>73.149369</td>\n",
              "      <td>Gujarat</td>\n",
              "      <td>5694.480</td>\n",
              "      <td>-89.39</td>\n",
              "      <td>2515.34</td>\n",
              "      <td>-89.515</td>\n",
              "      <td>60439692.0</td>\n",
              "      <td>78.03</td>\n",
              "      <td>842.5</td>\n",
              "      <td>196024.0</td>\n",
              "    </tr>\n",
              "    <tr>\n",
              "      <th>4</th>\n",
              "      <td>Airtel</td>\n",
              "      <td>Travelling</td>\n",
              "      <td>4G</td>\n",
              "      <td>3</td>\n",
              "      <td>Satisfactory</td>\n",
              "      <td>18.546344</td>\n",
              "      <td>73.819090</td>\n",
              "      <td>Maharashtra</td>\n",
              "      <td>10804.560</td>\n",
              "      <td>-94.05</td>\n",
              "      <td>4968.27</td>\n",
              "      <td>-94.110</td>\n",
              "      <td>112374333.0</td>\n",
              "      <td>82.34</td>\n",
              "      <td>1455.5</td>\n",
              "      <td>307713.0</td>\n",
              "    </tr>\n",
              "  </tbody>\n",
              "</table>\n",
              "</div>"
            ],
            "text/plain": [
              "   Operator In Out Travelling  ... Rainfall  Area of the state\n",
              "0    Airtel            Indoor  ...   1248.0           191791.0\n",
              "1  Vodafone            Indoor  ...    842.5           196024.0\n",
              "2    Airtel            Indoor  ...    998.0           130060.0\n",
              "3    Airtel            Indoor  ...    842.5           196024.0\n",
              "4    Airtel        Travelling  ...   1455.5           307713.0\n",
              "\n",
              "[5 rows x 16 columns]"
            ]
          },
          "metadata": {},
          "execution_count": 68
        }
      ]
    },
    {
      "cell_type": "code",
      "metadata": {
        "id": "Ozx07TnSewV9",
        "colab": {
          "base_uri": "https://localhost:8080/",
          "height": 296
        },
        "outputId": "6317d4b2-f874-4c34-fb51-09e3c9e4fd34"
      },
      "source": [
        "sns.scatterplot(x=data['Longitude'],y=data['Latitude'],hue=data['Operator'])"
      ],
      "execution_count": 69,
      "outputs": [
        {
          "output_type": "execute_result",
          "data": {
            "text/plain": [
              "<matplotlib.axes._subplots.AxesSubplot at 0x7f6c9cb7ccd0>"
            ]
          },
          "metadata": {},
          "execution_count": 69
        },
        {
          "output_type": "display_data",
          "data": {
            "image/png": "[encoded data removed]",
            "text/plain": [
              "<Figure size 432x288 with 1 Axes>"
            ]
          },
          "metadata": {
            "needs_background": "light"
          }
        }
      ]
    },
    {
      "cell_type": "code",
      "metadata": {
        "id": "0m5H5d9jhTbx",
        "colab": {
          "base_uri": "https://localhost:8080/",
          "height": 296
        },
        "outputId": "258f19c1-f16f-44e5-9c13-28ebc5504da9"
      },
      "source": [
        "sns.scatterplot(x=data['Average Data Speed Upload'],y=data['Average Data Speed Download'],hue=data['Operator'])"
      ],
      "execution_count": 70,
      "outputs": [
        {
          "output_type": "execute_result",
          "data": {
            "text/plain": [
              "<matplotlib.axes._subplots.AxesSubplot at 0x7f6c9cb7e710>"
            ]
          },
          "metadata": {},
          "execution_count": 70
        },
        {
          "output_type": "display_data",
          "data": {
            "image/png": "[encoded data removed]",
            "text/plain": [
              "<Figure size 432x288 with 1 Axes>"
            ]
          },
          "metadata": {
            "needs_background": "light"
          }
        }
      ]
    },
    {
      "cell_type": "code",
      "metadata": {
        "id": "c9fnMSd9hTPG",
        "colab": {
          "base_uri": "https://localhost:8080/",
          "height": 296
        },
        "outputId": "97b4cf22-da06-4e58-8feb-faddd76e2c39"
      },
      "source": [
        "sns.scatterplot(x=data['Average Signal Strength Upload'],y=data['Average Signal Strength Download'],hue=data['Operator'])"
      ],
      "execution_count": null,
      "outputs": [
        {
          "output_type": "execute_result",
          "data": {
            "text/plain": [
              "<matplotlib.axes._subplots.AxesSubplot at 0x7f332c609490>"
            ]
          },
          "metadata": {
            "tags": []
          },
          "execution_count": 36
        },
        {
          "output_type": "display_data",
          "data": {
            "image/png": "[encoded data removed]",
            "text/plain": [
              "<Figure size 432x288 with 1 Axes>"
            ]
          },
          "metadata": {
            "tags": [],
            "needs_background": "light"
          }
        }
      ]
    },
    {
      "cell_type": "code",
      "metadata": {
        "id": "6x3kotQYOhKP",
        "colab": {
          "base_uri": "https://localhost:8080/",
          "height": 1000
        },
        "outputId": "3d29531b-5402-4d7d-fb07-76eebe1f85a4"
      },
      "source": [
        "cols=['In Out Travelling', 'Network Type', 'Rating', 'Call Drop Category']\n",
        "n_rows=2\n",
        "n_cols=2\n",
        "\n",
        "# The subplot grid and figure size of each graph\n",
        "fig , axs =plt.subplots(n_rows, n_cols,figsize=(n_cols*6 , n_rows*6))\n",
        "\n",
        "for r in range(0,n_rows):\n",
        "  for c in range(0,n_cols):\n",
        "    i = r*n_cols + c # index to go through the columns\n",
        "    ax = axs[r][c] # Show where to position each subplot\n",
        "    sns.countplot(data[cols[i]], hue=data['Operator'], ax=ax)\n",
        "    ax.set_title(cols[i])\n",
        "    ax.legend(title='Operator', loc='upper right')\n",
        "\n",
        "plt.tight_layout()"
      ],
      "execution_count": 71,
      "outputs": [
        {
          "output_type": "stream",
          "text": [
            "/usr/local/lib/python3.7/dist-packages/seaborn/_decorators.py:43: FutureWarning: Pass the following variable as a keyword arg: x. From version 0.12, the only valid positional argument will be `data`, and passing other arguments without an explicit keyword will result in an error or misinterpretation.\n",
            "  FutureWarning\n",
            "/usr/local/lib/python3.7/dist-packages/seaborn/_decorators.py:43: FutureWarning: Pass the following variable as a keyword arg: x. From version 0.12, the only valid positional argument will be `data`, and passing other arguments without an explicit keyword will result in an error or misinterpretation.\n",
            "  FutureWarning\n",
            "/usr/local/lib/python3.7/dist-packages/seaborn/_decorators.py:43: FutureWarning: Pass the following variable as a keyword arg: x. From version 0.12, the only valid positional argument will be `data`, and passing other arguments without an explicit keyword will result in an error or misinterpretation.\n",
            "  FutureWarning\n",
            "/usr/local/lib/python3.7/dist-packages/seaborn/_decorators.py:43: FutureWarning: Pass the following variable as a keyword arg: x. From version 0.12, the only valid positional argument will be `data`, and passing other arguments without an explicit keyword will result in an error or misinterpretation.\n",
            "  FutureWarning\n"
          ],
          "name": "stderr"
        },
        {
          "output_type": "display_data",
          "data": {
            "image/png": "[encoded data removed]",
            "text/plain": [
              "<Figure size 864x864 with 4 Axes>"
            ]
          },
          "metadata": {
            "needs_background": "light"
          }
        }
      ]
    },
    {
      "cell_type": "code",
      "metadata": {
        "id": "vd6MJvTfOg_3"
      },
      "source": [
        "from sklearn.preprocessing import LabelEncoder\n",
        "label_encoder = LabelEncoder()\n",
        "data_out['Network Type'] = label_encoder.fit_transform(data_out['Network Type'])\n",
        "data_out['State Name'] = label_encoder.fit_transform(data_out['State Name'])\n",
        "data_out['Operator'] = label_encoder.fit_transform(data_out['Operator'])\n",
        "data_out['In Out Travelling'] = label_encoder.fit_transform(data_out['In Out Travelling'])\n",
        "data_out['Call Drop Category'] = label_encoder.fit_transform(data_out['Call Drop Category'])\n"
      ],
      "execution_count": 82,
      "outputs": []
    },
    {
      "cell_type": "code",
      "metadata": {
        "colab": {
          "base_uri": "https://localhost:8080/",
          "height": 255
        },
        "id": "OOHVe2pqSwGL",
        "outputId": "814a6ce1-7e73-43cf-b0da-64b621afc3ed"
      },
      "source": [
        "data.head()"
      ],
      "execution_count": 74,
      "outputs": [
        {
          "output_type": "execute_result",
          "data": {
            "text/html": [
              "<div>\n",
              "<style scoped>\n",
              "    .dataframe tbody tr th:only-of-type {\n",
              "        vertical-align: middle;\n",
              "    }\n",
              "\n",
              "    .dataframe tbody tr th {\n",
              "        vertical-align: top;\n",
              "    }\n",
              "\n",
              "    .dataframe thead th {\n",
              "        text-align: right;\n",
              "    }\n",
              "</style>\n",
              "<table border=\"1\" class=\"dataframe\">\n",
              "  <thead>\n",
              "    <tr style=\"text-align: right;\">\n",
              "      <th></th>\n",
              "      <th>Operator</th>\n",
              "      <th>In Out Travelling</th>\n",
              "      <th>Network Type</th>\n",
              "      <th>Rating</th>\n",
              "      <th>Call Drop Category</th>\n",
              "      <th>Latitude</th>\n",
              "      <th>Longitude</th>\n",
              "      <th>State Name</th>\n",
              "      <th>Average Data Speed Download</th>\n",
              "      <th>Average Signal Strength Download</th>\n",
              "      <th>Average Data Speed Upload</th>\n",
              "      <th>Average Signal Strength Upload</th>\n",
              "      <th>Population</th>\n",
              "      <th>Literacy Rate</th>\n",
              "      <th>Rainfall</th>\n",
              "      <th>Area of the state</th>\n",
              "    </tr>\n",
              "  </thead>\n",
              "  <tbody>\n",
              "    <tr>\n",
              "      <th>0</th>\n",
              "      <td>0</td>\n",
              "      <td>0</td>\n",
              "      <td>1</td>\n",
              "      <td>3</td>\n",
              "      <td>2</td>\n",
              "      <td>12.998502</td>\n",
              "      <td>77.672437</td>\n",
              "      <td>5</td>\n",
              "      <td>8807.910</td>\n",
              "      <td>-94.86</td>\n",
              "      <td>2591.08</td>\n",
              "      <td>-94.840</td>\n",
              "      <td>61130704.0</td>\n",
              "      <td>75.36</td>\n",
              "      <td>1248.0</td>\n",
              "      <td>191791.0</td>\n",
              "    </tr>\n",
              "    <tr>\n",
              "      <th>1</th>\n",
              "      <td>4</td>\n",
              "      <td>0</td>\n",
              "      <td>1</td>\n",
              "      <td>1</td>\n",
              "      <td>0</td>\n",
              "      <td>23.554190</td>\n",
              "      <td>72.620110</td>\n",
              "      <td>3</td>\n",
              "      <td>6862.552</td>\n",
              "      <td>-91.96</td>\n",
              "      <td>4671.48</td>\n",
              "      <td>-91.920</td>\n",
              "      <td>60439692.0</td>\n",
              "      <td>78.03</td>\n",
              "      <td>842.5</td>\n",
              "      <td>196024.0</td>\n",
              "    </tr>\n",
              "    <tr>\n",
              "      <th>2</th>\n",
              "      <td>0</td>\n",
              "      <td>0</td>\n",
              "      <td>0</td>\n",
              "      <td>1</td>\n",
              "      <td>0</td>\n",
              "      <td>11.327329</td>\n",
              "      <td>76.749743</td>\n",
              "      <td>12</td>\n",
              "      <td>1178.410</td>\n",
              "      <td>-85.03</td>\n",
              "      <td>968.58</td>\n",
              "      <td>-85.470</td>\n",
              "      <td>72147030.0</td>\n",
              "      <td>80.33</td>\n",
              "      <td>998.0</td>\n",
              "      <td>130060.0</td>\n",
              "    </tr>\n",
              "    <tr>\n",
              "      <th>3</th>\n",
              "      <td>0</td>\n",
              "      <td>0</td>\n",
              "      <td>1</td>\n",
              "      <td>3</td>\n",
              "      <td>2</td>\n",
              "      <td>22.279660</td>\n",
              "      <td>73.149369</td>\n",
              "      <td>3</td>\n",
              "      <td>5694.480</td>\n",
              "      <td>-89.39</td>\n",
              "      <td>2515.34</td>\n",
              "      <td>-89.515</td>\n",
              "      <td>60439692.0</td>\n",
              "      <td>78.03</td>\n",
              "      <td>842.5</td>\n",
              "      <td>196024.0</td>\n",
              "    </tr>\n",
              "    <tr>\n",
              "      <th>4</th>\n",
              "      <td>0</td>\n",
              "      <td>2</td>\n",
              "      <td>1</td>\n",
              "      <td>3</td>\n",
              "      <td>2</td>\n",
              "      <td>18.546344</td>\n",
              "      <td>73.819090</td>\n",
              "      <td>8</td>\n",
              "      <td>10804.560</td>\n",
              "      <td>-94.05</td>\n",
              "      <td>4968.27</td>\n",
              "      <td>-94.110</td>\n",
              "      <td>112374333.0</td>\n",
              "      <td>82.34</td>\n",
              "      <td>1455.5</td>\n",
              "      <td>307713.0</td>\n",
              "    </tr>\n",
              "  </tbody>\n",
              "</table>\n",
              "</div>"
            ],
            "text/plain": [
              "   Operator  In Out Travelling  ...  Rainfall  Area of the state\n",
              "0         0                  0  ...    1248.0           191791.0\n",
              "1         4                  0  ...     842.5           196024.0\n",
              "2         0                  0  ...     998.0           130060.0\n",
              "3         0                  0  ...     842.5           196024.0\n",
              "4         0                  2  ...    1455.5           307713.0\n",
              "\n",
              "[5 rows x 16 columns]"
            ]
          },
          "metadata": {},
          "execution_count": 74
        }
      ]
    },
    {
      "cell_type": "code",
      "metadata": {
        "colab": {
          "base_uri": "https://localhost:8080/"
        },
        "id": "DIU5PtT2ShX2",
        "outputId": "98400162-60ca-4545-fad6-ecc1b158094c"
      },
      "source": [
        "from sklearn.feature_selection import chi2\n",
        "y=data_out['State Name']\n",
        "x=data_out.drop(columns=['State Name','Average Signal Strength Download','Average Signal Strength Upload'],axis=1)\n",
        "chi_scores = chi2(x,y)\n",
        "chi_scores\n"
      ],
      "execution_count": 78,
      "outputs": [
        {
          "output_type": "execute_result",
          "data": {
            "text/plain": [
              "(array([3.32264966e+03, 1.07351359e+03, 3.24814093e+02, 1.56598335e+03,\n",
              "        4.40493045e+02, 3.32719152e+04, 8.79630996e+03, 6.40262623e+07,\n",
              "        7.77491647e+06, 5.54842911e+11, 1.85635481e+04, 5.38638113e+06,\n",
              "        1.17628845e+09]),\n",
              " array([0.00000000e+000, 2.80871530e-221, 1.51876225e-061, 0.00000000e+000,\n",
              "        6.10748875e-086, 0.00000000e+000, 0.00000000e+000, 0.00000000e+000,\n",
              "        0.00000000e+000, 0.00000000e+000, 0.00000000e+000, 0.00000000e+000,\n",
              "        0.00000000e+000]))"
            ]
          },
          "metadata": {},
          "execution_count": 78
        }
      ]
    },
    {
      "cell_type": "code",
      "metadata": {
        "id": "M17JM2quNUl1",
        "colab": {
          "base_uri": "https://localhost:8080/",
          "height": 438
        },
        "outputId": "4949ffb2-9b04-49f6-e10b-51177dcdc13a"
      },
      "source": [
        "p_values = pd.Series(chi_scores[1],index = x.columns)\n",
        "p_values.sort_values(ascending = False , inplace = True)\n",
        "p_values.plot.bar()\n"
      ],
      "execution_count": 79,
      "outputs": [
        {
          "output_type": "execute_result",
          "data": {
            "text/plain": [
              "<matplotlib.axes._subplots.AxesSubplot at 0x7f6c97dc5510>"
            ]
          },
          "metadata": {},
          "execution_count": 79
        },
        {
          "output_type": "display_data",
          "data": {
            "image/png": "[encoded data removed]",
            "text/plain": [
              "<Figure size 432x288 with 1 Axes>"
            ]
          },
          "metadata": {
            "needs_background": "light"
          }
        }
      ]
    },
    {
      "cell_type": "code",
      "metadata": {
        "id": "VXrEmrcFsL4b",
        "colab": {
          "base_uri": "https://localhost:8080/"
        },
        "outputId": "c420736e-d8e4-401e-e050-4c0f50b40c16"
      },
      "source": [
        "from sklearn.feature_selection import chi2\n",
        "y=data_out['Call Drop Category']\n",
        "x=data_out.drop(columns=['Call Drop Category','Average Signal Strength Download','Average Signal Strength Upload'],axis=1)\n",
        "chi_scores = chi2(x,y)\n",
        "chi_scores"
      ],
      "execution_count": 83,
      "outputs": [
        {
          "output_type": "execute_result",
          "data": {
            "text/plain": [
              "(array([8.17168751e+02, 1.27450475e+02, 4.81245687e+01, 1.45484672e+04,\n",
              "        6.77792494e+02, 1.63529037e+01, 4.13018534e+02, 2.90329622e+06,\n",
              "        3.64651569e+05, 4.66689464e+09, 5.87742936e+01, 1.70075859e+04,\n",
              "        8.98229568e+06]),\n",
              " array([3.58146132e-178, 2.11096507e-028, 3.54717560e-011, 0.00000000e+000,\n",
              "        6.59522985e-148, 2.81197908e-004, 2.06141239e-090, 0.00000000e+000,\n",
              "        0.00000000e+000, 0.00000000e+000, 1.72712713e-013, 0.00000000e+000,\n",
              "        0.00000000e+000]))"
            ]
          },
          "metadata": {},
          "execution_count": 83
        }
      ]
    },
    {
      "cell_type": "code",
      "metadata": {
        "id": "RdgFfTW5sLuR",
        "colab": {
          "base_uri": "https://localhost:8080/",
          "height": 427
        },
        "outputId": "5efedf85-b12b-442e-b3c2-62374d6ac329"
      },
      "source": [
        "p_values = pd.Series(chi_scores[1],index = x.columns)\n",
        "p_values.sort_values(ascending = False , inplace = True)\n",
        "p_values.plot.bar()"
      ],
      "execution_count": 84,
      "outputs": [
        {
          "output_type": "execute_result",
          "data": {
            "text/plain": [
              "<matplotlib.axes._subplots.AxesSubplot at 0x7f6c97d58450>"
            ]
          },
          "metadata": {},
          "execution_count": 84
        },
        {
          "output_type": "display_data",
          "data": {
            "image/png": "[encoded data removed]",
            "text/plain": [
              "<Figure size 432x288 with 1 Axes>"
            ]
          },
          "metadata": {
            "needs_background": "light"
          }
        }
      ]
    },
    {
      "cell_type": "code",
      "metadata": {
        "id": "vtnfAAYEsLnA",
        "colab": {
          "base_uri": "https://localhost:8080/"
        },
        "outputId": "d4fe64c6-5fb1-4497-cf3c-2414c54c3d3a"
      },
      "source": [
        "from sklearn.feature_selection import chi2\n",
        "y=data_out['Network Type']\n",
        "x=data_out.drop(columns=['Network Type','Average Signal Strength Download','Average Signal Strength Upload'],axis=1)\n",
        "chi_scores = chi2(x,y)\n",
        "chi_scores"
      ],
      "execution_count": 85,
      "outputs": [
        {
          "output_type": "execute_result",
          "data": {
            "text/plain": [
              "(array([6.69984651e+02, 2.39545296e+01, 1.19113577e+02, 5.82146054e+01,\n",
              "        7.16799118e+00, 1.04156954e+02, 3.61325312e+01, 7.69637412e+07,\n",
              "        1.64692897e+07, 2.01542150e+07, 3.75748556e+01, 2.25709532e+04,\n",
              "        4.16047024e+06]),\n",
              " array([1.00680052e-147, 9.86379483e-007, 9.89013465e-028, 2.35027682e-014,\n",
              "        7.42158355e-003, 1.86907533e-024, 1.84343601e-009, 0.00000000e+000,\n",
              "        0.00000000e+000, 0.00000000e+000, 8.79712286e-010, 0.00000000e+000,\n",
              "        0.00000000e+000]))"
            ]
          },
          "metadata": {},
          "execution_count": 85
        }
      ]
    },
    {
      "cell_type": "code",
      "metadata": {
        "id": "hiBwXnjpsLbO",
        "colab": {
          "base_uri": "https://localhost:8080/",
          "height": 427
        },
        "outputId": "c32154ab-37d7-4b52-9fc0-af05a7526c78"
      },
      "source": [
        "p_values = pd.Series(chi_scores[1],index = x.columns)\n",
        "p_values.sort_values(ascending = False , inplace = True)\n",
        "p_values.plot.bar()"
      ],
      "execution_count": 86,
      "outputs": [
        {
          "output_type": "execute_result",
          "data": {
            "text/plain": [
              "<matplotlib.axes._subplots.AxesSubplot at 0x7f6c97c6cb90>"
            ]
          },
          "metadata": {},
          "execution_count": 86
        },
        {
          "output_type": "display_data",
          "data": {
            "image/png": "[encoded data removed]",
            "text/plain": [
              "<Figure size 432x288 with 1 Axes>"
            ]
          },
          "metadata": {
            "needs_background": "light"
          }
        }
      ]
    },
    {
      "cell_type": "code",
      "metadata": {
        "id": "Is6N09fttT9-",
        "colab": {
          "base_uri": "https://localhost:8080/"
        },
        "outputId": "1b9b3103-e451-4aba-ce22-d41ecd0899cc"
      },
      "source": [
        "# count the empty values in each column\n",
        "data_out.isna().sum()"
      ],
      "execution_count": 87,
      "outputs": [
        {
          "output_type": "execute_result",
          "data": {
            "text/plain": [
              "Operator                            0\n",
              "In Out Travelling                   0\n",
              "Network Type                        0\n",
              "Rating                              0\n",
              "Call Drop Category                  0\n",
              "Latitude                            0\n",
              "Longitude                           0\n",
              "State Name                          0\n",
              "Average Data Speed Download         0\n",
              "Average Signal Strength Download    0\n",
              "Average Data Speed Upload           0\n",
              "Average Signal Strength Upload      0\n",
              "Population                          0\n",
              "Literacy Rate                       0\n",
              "Rainfall                            0\n",
              "Area of the state                   0\n",
              "dtype: int64"
            ]
          },
          "metadata": {},
          "execution_count": 87
        }
      ]
    },
    {
      "cell_type": "code",
      "metadata": {
        "id": "I7Tqk-uNtTrx",
        "colab": {
          "base_uri": "https://localhost:8080/"
        },
        "outputId": "84e8ef2b-c7d8-4840-eb8d-b929e3502230"
      },
      "source": [
        "data_out.isnull().sum()"
      ],
      "execution_count": 88,
      "outputs": [
        {
          "output_type": "execute_result",
          "data": {
            "text/plain": [
              "Operator                            0\n",
              "In Out Travelling                   0\n",
              "Network Type                        0\n",
              "Rating                              0\n",
              "Call Drop Category                  0\n",
              "Latitude                            0\n",
              "Longitude                           0\n",
              "State Name                          0\n",
              "Average Data Speed Download         0\n",
              "Average Signal Strength Download    0\n",
              "Average Data Speed Upload           0\n",
              "Average Signal Strength Upload      0\n",
              "Population                          0\n",
              "Literacy Rate                       0\n",
              "Rainfall                            0\n",
              "Area of the state                   0\n",
              "dtype: int64"
            ]
          },
          "metadata": {},
          "execution_count": 88
        }
      ]
    },
    {
      "cell_type": "code",
      "metadata": {
        "id": "Bujx1mlAtTfG"
      },
      "source": [
        "from sklearn.model_selection import train_test_split\n",
        "from sklearn import svm\n",
        "from sklearn.preprocessing import StandardScaler"
      ],
      "execution_count": 89,
      "outputs": []
    },
    {
      "cell_type": "code",
      "metadata": {
        "id": "GLK4Sq1JlmJA",
        "colab": {
          "base_uri": "https://localhost:8080/",
          "height": 922
        },
        "outputId": "4b31892b-24d5-477d-b8af-32c3fa7e9886"
      },
      "source": [
        "data.corr()"
      ],
      "execution_count": null,
      "outputs": [
        {
          "output_type": "execute_result",
          "data": {
            "text/html": [
              "<div>\n",
              "<style scoped>\n",
              "    .dataframe tbody tr th:only-of-type {\n",
              "        vertical-align: middle;\n",
              "    }\n",
              "\n",
              "    .dataframe tbody tr th {\n",
              "        vertical-align: top;\n",
              "    }\n",
              "\n",
              "    .dataframe thead th {\n",
              "        text-align: right;\n",
              "    }\n",
              "</style>\n",
              "<table border=\"1\" class=\"dataframe\">\n",
              "  <thead>\n",
              "    <tr style=\"text-align: right;\">\n",
              "      <th></th>\n",
              "      <th>Operator</th>\n",
              "      <th>In Out Travelling</th>\n",
              "      <th>Network Type</th>\n",
              "      <th>Rating</th>\n",
              "      <th>Call Drop Category</th>\n",
              "      <th>Latitude</th>\n",
              "      <th>Longitude</th>\n",
              "      <th>State Name</th>\n",
              "      <th>Average Data Speed Download</th>\n",
              "      <th>Average Signal Strength Download</th>\n",
              "      <th>Average Data Speed Upload</th>\n",
              "      <th>Average Signal Strength Upload</th>\n",
              "      <th>Population</th>\n",
              "      <th>Literacy Rate</th>\n",
              "      <th>Rainfall</th>\n",
              "      <th>Area of the state</th>\n",
              "    </tr>\n",
              "  </thead>\n",
              "  <tbody>\n",
              "    <tr>\n",
              "      <th>Operator</th>\n",
              "      <td>1.000000</td>\n",
              "      <td>-0.005031</td>\n",
              "      <td>0.165641</td>\n",
              "      <td>0.171565</td>\n",
              "      <td>0.181597</td>\n",
              "      <td>0.262208</td>\n",
              "      <td>0.030305</td>\n",
              "      <td>0.030033</td>\n",
              "      <td>0.282779</td>\n",
              "      <td>0.012014</td>\n",
              "      <td>0.245736</td>\n",
              "      <td>0.134230</td>\n",
              "      <td>0.058312</td>\n",
              "      <td>-0.057035</td>\n",
              "      <td>0.016385</td>\n",
              "      <td>0.009203</td>\n",
              "    </tr>\n",
              "    <tr>\n",
              "      <th>In Out Travelling</th>\n",
              "      <td>-0.005031</td>\n",
              "      <td>1.000000</td>\n",
              "      <td>0.027022</td>\n",
              "      <td>-0.042101</td>\n",
              "      <td>0.028599</td>\n",
              "      <td>-0.020179</td>\n",
              "      <td>-0.082405</td>\n",
              "      <td>-0.025247</td>\n",
              "      <td>-0.025660</td>\n",
              "      <td>-0.018354</td>\n",
              "      <td>-0.010357</td>\n",
              "      <td>-0.056098</td>\n",
              "      <td>0.097665</td>\n",
              "      <td>0.004796</td>\n",
              "      <td>0.032011</td>\n",
              "      <td>0.122976</td>\n",
              "    </tr>\n",
              "    <tr>\n",
              "      <th>Network Type</th>\n",
              "      <td>0.165641</td>\n",
              "      <td>0.027022</td>\n",
              "      <td>1.000000</td>\n",
              "      <td>0.080369</td>\n",
              "      <td>0.089067</td>\n",
              "      <td>-0.021129</td>\n",
              "      <td>0.111446</td>\n",
              "      <td>-0.051201</td>\n",
              "      <td>0.613154</td>\n",
              "      <td>0.031257</td>\n",
              "      <td>0.727193</td>\n",
              "      <td>-0.304716</td>\n",
              "      <td>0.005292</td>\n",
              "      <td>-0.079024</td>\n",
              "      <td>0.067768</td>\n",
              "      <td>-0.065079</td>\n",
              "    </tr>\n",
              "    <tr>\n",
              "      <th>Rating</th>\n",
              "      <td>0.171565</td>\n",
              "      <td>-0.042101</td>\n",
              "      <td>0.080369</td>\n",
              "      <td>1.000000</td>\n",
              "      <td>0.830767</td>\n",
              "      <td>-0.002281</td>\n",
              "      <td>0.128139</td>\n",
              "      <td>0.112826</td>\n",
              "      <td>0.107355</td>\n",
              "      <td>-0.009265</td>\n",
              "      <td>0.123407</td>\n",
              "      <td>0.037167</td>\n",
              "      <td>-0.075174</td>\n",
              "      <td>-0.024435</td>\n",
              "      <td>0.017366</td>\n",
              "      <td>0.012885</td>\n",
              "    </tr>\n",
              "    <tr>\n",
              "      <th>Call Drop Category</th>\n",
              "      <td>0.181597</td>\n",
              "      <td>0.028599</td>\n",
              "      <td>0.089067</td>\n",
              "      <td>0.830767</td>\n",
              "      <td>1.000000</td>\n",
              "      <td>0.004552</td>\n",
              "      <td>0.032709</td>\n",
              "      <td>0.062239</td>\n",
              "      <td>0.132995</td>\n",
              "      <td>-0.005289</td>\n",
              "      <td>0.113101</td>\n",
              "      <td>0.048431</td>\n",
              "      <td>-0.023263</td>\n",
              "      <td>-0.032211</td>\n",
              "      <td>0.053931</td>\n",
              "      <td>0.080703</td>\n",
              "    </tr>\n",
              "    <tr>\n",
              "      <th>Latitude</th>\n",
              "      <td>0.262208</td>\n",
              "      <td>-0.020179</td>\n",
              "      <td>-0.021129</td>\n",
              "      <td>-0.002281</td>\n",
              "      <td>0.004552</td>\n",
              "      <td>1.000000</td>\n",
              "      <td>0.124229</td>\n",
              "      <td>0.087887</td>\n",
              "      <td>0.006230</td>\n",
              "      <td>-0.026600</td>\n",
              "      <td>-0.032982</td>\n",
              "      <td>0.027047</td>\n",
              "      <td>0.180954</td>\n",
              "      <td>-0.204830</td>\n",
              "      <td>-0.346943</td>\n",
              "      <td>-0.062440</td>\n",
              "    </tr>\n",
              "    <tr>\n",
              "      <th>Longitude</th>\n",
              "      <td>0.030305</td>\n",
              "      <td>-0.082405</td>\n",
              "      <td>0.111446</td>\n",
              "      <td>0.128139</td>\n",
              "      <td>0.032709</td>\n",
              "      <td>0.124229</td>\n",
              "      <td>1.000000</td>\n",
              "      <td>0.279361</td>\n",
              "      <td>0.255810</td>\n",
              "      <td>0.013536</td>\n",
              "      <td>0.222827</td>\n",
              "      <td>0.086698</td>\n",
              "      <td>-0.081998</td>\n",
              "      <td>-0.337597</td>\n",
              "      <td>0.372490</td>\n",
              "      <td>-0.656431</td>\n",
              "    </tr>\n",
              "    <tr>\n",
              "      <th>State Name</th>\n",
              "      <td>0.030033</td>\n",
              "      <td>-0.025247</td>\n",
              "      <td>-0.051201</td>\n",
              "      <td>0.112826</td>\n",
              "      <td>0.062239</td>\n",
              "      <td>0.087887</td>\n",
              "      <td>0.279361</td>\n",
              "      <td>1.000000</td>\n",
              "      <td>-0.161576</td>\n",
              "      <td>-0.019234</td>\n",
              "      <td>-0.140342</td>\n",
              "      <td>-0.028089</td>\n",
              "      <td>0.395599</td>\n",
              "      <td>0.296795</td>\n",
              "      <td>0.215293</td>\n",
              "      <td>0.103231</td>\n",
              "    </tr>\n",
              "    <tr>\n",
              "      <th>Average Data Speed Download</th>\n",
              "      <td>0.282779</td>\n",
              "      <td>-0.025660</td>\n",
              "      <td>0.613154</td>\n",
              "      <td>0.107355</td>\n",
              "      <td>0.132995</td>\n",
              "      <td>0.006230</td>\n",
              "      <td>0.255810</td>\n",
              "      <td>-0.161576</td>\n",
              "      <td>1.000000</td>\n",
              "      <td>0.035435</td>\n",
              "      <td>0.698465</td>\n",
              "      <td>0.283802</td>\n",
              "      <td>0.039678</td>\n",
              "      <td>-0.287473</td>\n",
              "      <td>0.105436</td>\n",
              "      <td>-0.065393</td>\n",
              "    </tr>\n",
              "    <tr>\n",
              "      <th>Average Signal Strength Download</th>\n",
              "      <td>0.012014</td>\n",
              "      <td>-0.018354</td>\n",
              "      <td>0.031257</td>\n",
              "      <td>-0.009265</td>\n",
              "      <td>-0.005289</td>\n",
              "      <td>-0.026600</td>\n",
              "      <td>0.013536</td>\n",
              "      <td>-0.019234</td>\n",
              "      <td>0.035435</td>\n",
              "      <td>1.000000</td>\n",
              "      <td>0.025573</td>\n",
              "      <td>0.014232</td>\n",
              "      <td>0.013990</td>\n",
              "      <td>0.011133</td>\n",
              "      <td>0.053324</td>\n",
              "      <td>-0.029486</td>\n",
              "    </tr>\n",
              "    <tr>\n",
              "      <th>Average Data Speed Upload</th>\n",
              "      <td>0.245736</td>\n",
              "      <td>-0.010357</td>\n",
              "      <td>0.727193</td>\n",
              "      <td>0.123407</td>\n",
              "      <td>0.113101</td>\n",
              "      <td>-0.032982</td>\n",
              "      <td>0.222827</td>\n",
              "      <td>-0.140342</td>\n",
              "      <td>0.698465</td>\n",
              "      <td>0.025573</td>\n",
              "      <td>1.000000</td>\n",
              "      <td>-0.038725</td>\n",
              "      <td>-0.016013</td>\n",
              "      <td>-0.217753</td>\n",
              "      <td>0.049883</td>\n",
              "      <td>-0.080940</td>\n",
              "    </tr>\n",
              "    <tr>\n",
              "      <th>Average Signal Strength Upload</th>\n",
              "      <td>0.134230</td>\n",
              "      <td>-0.056098</td>\n",
              "      <td>-0.304716</td>\n",
              "      <td>0.037167</td>\n",
              "      <td>0.048431</td>\n",
              "      <td>0.027047</td>\n",
              "      <td>0.086698</td>\n",
              "      <td>-0.028089</td>\n",
              "      <td>0.283802</td>\n",
              "      <td>0.014232</td>\n",
              "      <td>-0.038725</td>\n",
              "      <td>1.000000</td>\n",
              "      <td>-0.044444</td>\n",
              "      <td>-0.103904</td>\n",
              "      <td>-0.028081</td>\n",
              "      <td>-0.002642</td>\n",
              "    </tr>\n",
              "    <tr>\n",
              "      <th>Population</th>\n",
              "      <td>0.058312</td>\n",
              "      <td>0.097665</td>\n",
              "      <td>0.005292</td>\n",
              "      <td>-0.075174</td>\n",
              "      <td>-0.023263</td>\n",
              "      <td>0.180954</td>\n",
              "      <td>-0.081998</td>\n",
              "      <td>0.395599</td>\n",
              "      <td>0.039678</td>\n",
              "      <td>0.013990</td>\n",
              "      <td>-0.016013</td>\n",
              "      <td>-0.044444</td>\n",
              "      <td>1.000000</td>\n",
              "      <td>-0.002591</td>\n",
              "      <td>0.280014</td>\n",
              "      <td>0.399032</td>\n",
              "    </tr>\n",
              "    <tr>\n",
              "      <th>Literacy Rate</th>\n",
              "      <td>-0.057035</td>\n",
              "      <td>0.004796</td>\n",
              "      <td>-0.079024</td>\n",
              "      <td>-0.024435</td>\n",
              "      <td>-0.032211</td>\n",
              "      <td>-0.204830</td>\n",
              "      <td>-0.337597</td>\n",
              "      <td>0.296795</td>\n",
              "      <td>-0.287473</td>\n",
              "      <td>0.011133</td>\n",
              "      <td>-0.217753</td>\n",
              "      <td>-0.103904</td>\n",
              "      <td>-0.002591</td>\n",
              "      <td>1.000000</td>\n",
              "      <td>0.198137</td>\n",
              "      <td>0.210401</td>\n",
              "    </tr>\n",
              "    <tr>\n",
              "      <th>Rainfall</th>\n",
              "      <td>0.016385</td>\n",
              "      <td>0.032011</td>\n",
              "      <td>0.067768</td>\n",
              "      <td>0.017366</td>\n",
              "      <td>0.053931</td>\n",
              "      <td>-0.346943</td>\n",
              "      <td>0.372490</td>\n",
              "      <td>0.215293</td>\n",
              "      <td>0.105436</td>\n",
              "      <td>0.053324</td>\n",
              "      <td>0.049883</td>\n",
              "      <td>-0.028081</td>\n",
              "      <td>0.280014</td>\n",
              "      <td>0.198137</td>\n",
              "      <td>1.000000</td>\n",
              "      <td>-0.135894</td>\n",
              "    </tr>\n",
              "    <tr>\n",
              "      <th>Area of the state</th>\n",
              "      <td>0.009203</td>\n",
              "      <td>0.122976</td>\n",
              "      <td>-0.065079</td>\n",
              "      <td>0.012885</td>\n",
              "      <td>0.080703</td>\n",
              "      <td>-0.062440</td>\n",
              "      <td>-0.656431</td>\n",
              "      <td>0.103231</td>\n",
              "      <td>-0.065393</td>\n",
              "      <td>-0.029486</td>\n",
              "      <td>-0.080940</td>\n",
              "      <td>-0.002642</td>\n",
              "      <td>0.399032</td>\n",
              "      <td>0.210401</td>\n",
              "      <td>-0.135894</td>\n",
              "      <td>1.000000</td>\n",
              "    </tr>\n",
              "  </tbody>\n",
              "</table>\n",
              "</div>"
            ],
            "text/plain": [
              "                                  Operator  ...  Area of the state\n",
              "Operator                          1.000000  ...           0.009203\n",
              "In Out Travelling                -0.005031  ...           0.122976\n",
              "Network Type                      0.165641  ...          -0.065079\n",
              "Rating                            0.171565  ...           0.012885\n",
              "Call Drop Category                0.181597  ...           0.080703\n",
              "Latitude                          0.262208  ...          -0.062440\n",
              "Longitude                         0.030305  ...          -0.656431\n",
              "State Name                        0.030033  ...           0.103231\n",
              "Average Data Speed Download       0.282779  ...          -0.065393\n",
              "Average Signal Strength Download  0.012014  ...          -0.029486\n",
              "Average Data Speed Upload         0.245736  ...          -0.080940\n",
              "Average Signal Strength Upload    0.134230  ...          -0.002642\n",
              "Population                        0.058312  ...           0.399032\n",
              "Literacy Rate                    -0.057035  ...           0.210401\n",
              "Rainfall                          0.016385  ...          -0.135894\n",
              "Area of the state                 0.009203  ...           1.000000\n",
              "\n",
              "[16 rows x 16 columns]"
            ]
          },
          "metadata": {
            "tags": []
          },
          "execution_count": 19
        }
      ]
    },
    {
      "cell_type": "code",
      "metadata": {
        "id": "r26KmPpvll7G"
      },
      "source": [
        "y=data_out['Average Data Speed Download']\n",
        "x=data_out[['Operator','Network Type','Latitude','Longitude']]"
      ],
      "execution_count": 90,
      "outputs": []
    },
    {
      "cell_type": "code",
      "metadata": {
        "id": "F91gQ4JsnCnG",
        "colab": {
          "base_uri": "https://localhost:8080/",
          "height": 276
        },
        "outputId": "8ad4c63f-d74f-4630-b355-cc9904c5171f"
      },
      "source": [
        "from sklearn.neighbors import KNeighborsRegressor\n",
        "from sklearn.inspection import permutation_importance\n",
        "\n",
        "model = KNeighborsRegressor()\n",
        "# fit the model\n",
        "model.fit(x, y)\n",
        "# perform permutation importance\n",
        "results = permutation_importance(model, x, y, scoring='neg_mean_squared_error')\n",
        "# get importance\n",
        "importance = results.importances_mean\n",
        "\n",
        "# plot feature importance\n",
        "plt.bar([x for x in range(len(importance))], importance)\n",
        "plt.show()"
      ],
      "execution_count": 91,
      "outputs": [
        {
          "output_type": "display_data",
          "data": {
            "image/png": "[encoded data removed]",
            "text/plain": [
              "<Figure size 432x288 with 1 Axes>"
            ]
          },
          "metadata": {
            "needs_background": "light"
          }
        }
      ]
    },
    {
      "cell_type": "code",
      "metadata": {
        "id": "vlhJaS0inWfp",
        "colab": {
          "base_uri": "https://localhost:8080/"
        },
        "outputId": "1fb3ac9a-aceb-4440-ae87-3b2392cb2482"
      },
      "source": [
        ""
      ],
      "execution_count": null,
      "outputs": [
        {
          "output_type": "execute_result",
          "data": {
            "text/plain": [
              "True"
            ]
          },
          "metadata": {
            "tags": []
          },
          "execution_count": 32
        }
      ]
    },
    {
      "cell_type": "code",
      "metadata": {
        "id": "nGUeYN7NllzF",
        "colab": {
          "base_uri": "https://localhost:8080/"
        },
        "outputId": "6d2c065a-3b71-4196-da05-229f58f9129b"
      },
      "source": [
        "x.shape,y.shape"
      ],
      "execution_count": 92,
      "outputs": [
        {
          "output_type": "execute_result",
          "data": {
            "text/plain": [
              "((29930, 4), (29930,))"
            ]
          },
          "metadata": {},
          "execution_count": 92
        }
      ]
    },
    {
      "cell_type": "code",
      "metadata": {
        "id": "4pP6uRlillnZ"
      },
      "source": [
        "X_train, X_test, y_train, y_test = train_test_split(x, y, test_size=0.3, random_state=0)"
      ],
      "execution_count": 93,
      "outputs": []
    },
    {
      "cell_type": "code",
      "metadata": {
        "id": "H4ffM4NtllgI",
        "colab": {
          "base_uri": "https://localhost:8080/"
        },
        "outputId": "d6297277-be3e-4774-f86d-ef1864d64280"
      },
      "source": [
        "X_train.shape, y_train.shape"
      ],
      "execution_count": 94,
      "outputs": [
        {
          "output_type": "execute_result",
          "data": {
            "text/plain": [
              "((20951, 4), (20951,))"
            ]
          },
          "metadata": {},
          "execution_count": 94
        }
      ]
    },
    {
      "cell_type": "code",
      "metadata": {
        "id": "6vKvDi5PllWT",
        "colab": {
          "base_uri": "https://localhost:8080/"
        },
        "outputId": "5ebb4363-07e6-4404-c568-1d415b7ff9f7"
      },
      "source": [
        "X_test.shape, y_test.shape"
      ],
      "execution_count": 95,
      "outputs": [
        {
          "output_type": "execute_result",
          "data": {
            "text/plain": [
              "((8979, 4), (8979,))"
            ]
          },
          "metadata": {},
          "execution_count": 95
        }
      ]
    },
    {
      "cell_type": "code",
      "metadata": {
        "id": "bXROpcevqz7J"
      },
      "source": [
        "X_train=np.asarray(X_train)\n",
        "X_std=StandardScaler().fit_transform(X_train)"
      ],
      "execution_count": 96,
      "outputs": []
    },
    {
      "cell_type": "code",
      "metadata": {
        "id": "l_E9d6a2rabV",
        "colab": {
          "base_uri": "https://localhost:8080/",
          "height": 296
        },
        "outputId": "801857d9-f1d5-4ec9-bd21-c5a1c8589d4f"
      },
      "source": [
        "from sklearn.decomposition import PCA\n",
        "pca = PCA().fit(X_std)\n",
        "plt.plot(np.cumsum(pca.explained_variance_ratio_))\n",
        "plt.xlim(0,7,1)\n",
        "plt.xlabel('Number of components')\n",
        "plt.ylabel('Cumulative explained variance')"
      ],
      "execution_count": 97,
      "outputs": [
        {
          "output_type": "execute_result",
          "data": {
            "text/plain": [
              "Text(0, 0.5, 'Cumulative explained variance')"
            ]
          },
          "metadata": {},
          "execution_count": 97
        },
        {
          "output_type": "display_data",
          "data": {
            "image/png": "[encoded data removed]",
            "text/plain": [
              "<Figure size 432x288 with 1 Axes>"
            ]
          },
          "metadata": {
            "needs_background": "light"
          }
        }
      ]
    },
    {
      "cell_type": "code",
      "metadata": {
        "id": "p46FKubgruC-"
      },
      "source": [
        "from sklearn.decomposition import PCA\n",
        "sklearn_pca=PCA(n_components=2)\n",
        "X_Train=sklearn_pca.fit_transform(X_std)"
      ],
      "execution_count": 98,
      "outputs": []
    },
    {
      "cell_type": "code",
      "metadata": {
        "id": "d20zDjerr9Fb"
      },
      "source": [
        "from sklearn import neighbors\n",
        "from sklearn import linear_model"
      ],
      "execution_count": 99,
      "outputs": []
    },
    {
      "cell_type": "code",
      "metadata": {
        "id": "ULcqf_NopLNA"
      },
      "source": [
        "model=linear_model.Ridge()\n",
        "model.fit(X_train,y_train)\n",
        "y_predict=model.predict(X_train)"
      ],
      "execution_count": 100,
      "outputs": []
    },
    {
      "cell_type": "code",
      "metadata": {
        "id": "BOhqEhAcpLCf"
      },
      "source": [
        "from sklearn.linear_model import LinearRegression"
      ],
      "execution_count": 101,
      "outputs": []
    },
    {
      "cell_type": "code",
      "metadata": {
        "id": "6IsD_gbu9pmz",
        "colab": {
          "base_uri": "https://localhost:8080/"
        },
        "outputId": "0cc63326-74af-465e-a3bb-4e2764fab465"
      },
      "source": [
        "model = LinearRegression()\n",
        "model.fit(X_train,y_train)"
      ],
      "execution_count": 102,
      "outputs": [
        {
          "output_type": "execute_result",
          "data": {
            "text/plain": [
              "LinearRegression(copy_X=True, fit_intercept=True, n_jobs=None, normalize=False)"
            ]
          },
          "metadata": {},
          "execution_count": 102
        }
      ]
    },
    {
      "cell_type": "code",
      "metadata": {
        "id": "oMMRxszYpK5U",
        "colab": {
          "base_uri": "https://localhost:8080/"
        },
        "outputId": "70ad743c-77f3-4855-9d97-23fc0d5a3106"
      },
      "source": [
        "model.predict(X_test)"
      ],
      "execution_count": 103,
      "outputs": [
        {
          "output_type": "execute_result",
          "data": {
            "text/plain": [
              "array([15911.92964847, 15912.56188269, 14207.03632729, ...,\n",
              "       13836.03660115, 18884.76398062, 15986.78780245])"
            ]
          },
          "metadata": {},
          "execution_count": 103
        }
      ]
    },
    {
      "cell_type": "code",
      "metadata": {
        "id": "Pa3b9bGrjfu7"
      },
      "source": [
        "importance=model.coef_"
      ],
      "execution_count": 104,
      "outputs": []
    },
    {
      "cell_type": "code",
      "metadata": {
        "id": "CAFKdxl0kSpD",
        "colab": {
          "base_uri": "https://localhost:8080/",
          "height": 265
        },
        "outputId": "82830dde-5ab5-4abc-f38b-110f2ddbfbd5"
      },
      "source": [
        "plt.bar(range(len(importance)), importance)\n",
        "plt.show()"
      ],
      "execution_count": 105,
      "outputs": [
        {
          "output_type": "display_data",
          "data": {
            "image/png": "[encoded data removed]",
            "text/plain": [
              "<Figure size 432x288 with 1 Axes>"
            ]
          },
          "metadata": {
            "needs_background": "light"
          }
        }
      ]
    },
    {
      "cell_type": "code",
      "metadata": {
        "id": "rqQf7zHBkxKk",
        "colab": {
          "base_uri": "https://localhost:8080/"
        },
        "outputId": "9c5a4865-006a-4428-8027-8d6a7fe0eba6"
      },
      "source": [
        "importance"
      ],
      "execution_count": 106,
      "outputs": [
        {
          "output_type": "execute_result",
          "data": {
            "text/plain": [
              "array([ 1216.43050814, 12781.57204436,   -51.05705128,   337.65144166])"
            ]
          },
          "metadata": {},
          "execution_count": 106
        }
      ]
    },
    {
      "cell_type": "code",
      "metadata": {
        "id": "a-zFS6VepKux",
        "colab": {
          "base_uri": "https://localhost:8080/"
        },
        "outputId": "d3f3be08-7f3b-478c-8f92-f08c28e5cbb0"
      },
      "source": [
        "from sklearn.metrics import mean_squared_error\n",
        "mean_squared_error(y_test, model.predict(X_test))"
      ],
      "execution_count": 107,
      "outputs": [
        {
          "output_type": "execute_result",
          "data": {
            "text/plain": [
              "49018331.95663475"
            ]
          },
          "metadata": {},
          "execution_count": 107
        }
      ]
    },
    {
      "cell_type": "code",
      "metadata": {
        "id": "dav1JQdOpKlZ",
        "colab": {
          "base_uri": "https://localhost:8080/"
        },
        "outputId": "46ea914e-f397-4b2e-9d25-eae9d79b7a71"
      },
      "source": [
        "print(\"Train R squared\", 1 - mean_squared_error(y_train, model.predict(X_train)) / mean_squared_error(y_train, [y_train.mean()]*y_train.shape[0]))\n",
        "print(\"Test R squared\", 1 - mean_squared_error(y_test, model.predict(X_test)) / mean_squared_error(y_test, [y_test.mean()]*y_test.shape[0]))"
      ],
      "execution_count": 108,
      "outputs": [
        {
          "output_type": "stream",
          "text": [
            "Train R squared 0.44311536795060447\n",
            "Test R squared 0.44855124833024285\n"
          ],
          "name": "stdout"
        }
      ]
    },
    {
      "cell_type": "code",
      "metadata": {
        "id": "HSnWUGonpKfo"
      },
      "source": [
        "y=data['Average Data Speed Download']\n",
        "x=data[['Operator','Network Type','Latitude','Longitude','Literacy Rate']]"
      ],
      "execution_count": 109,
      "outputs": []
    },
    {
      "cell_type": "code",
      "metadata": {
        "id": "_5hWKxxnIjSo"
      },
      "source": [
        "X_train, X_test, y_train, y_test = train_test_split(x, y, test_size=0.3, random_state=0)"
      ],
      "execution_count": 110,
      "outputs": []
    },
    {
      "cell_type": "code",
      "metadata": {
        "id": "mk3Pj93hIjHY",
        "colab": {
          "base_uri": "https://localhost:8080/"
        },
        "outputId": "b1d33c39-4c4d-42ae-9155-af31bbefaacc"
      },
      "source": [
        "model = LinearRegression()\n",
        "model.fit(X_train,y_train)"
      ],
      "execution_count": 111,
      "outputs": [
        {
          "output_type": "execute_result",
          "data": {
            "text/plain": [
              "LinearRegression(copy_X=True, fit_intercept=True, n_jobs=None, normalize=False)"
            ]
          },
          "metadata": {},
          "execution_count": 111
        }
      ]
    },
    {
      "cell_type": "code",
      "metadata": {
        "id": "Egn9E-PYIi-D",
        "colab": {
          "base_uri": "https://localhost:8080/"
        },
        "outputId": "367223fd-7ce7-4b9b-a641-a42fc14bc063"
      },
      "source": [
        "model.predict(X_test)"
      ],
      "execution_count": 112,
      "outputs": [
        {
          "output_type": "execute_result",
          "data": {
            "text/plain": [
              "array([ 2914.36650998, 14240.49216487, 18649.64062579, ...,\n",
              "       14881.85693055,  3221.67468616, 14888.43815022])"
            ]
          },
          "metadata": {},
          "execution_count": 112
        }
      ]
    },
    {
      "cell_type": "code",
      "metadata": {
        "id": "bPmvkqimIi2d",
        "colab": {
          "base_uri": "https://localhost:8080/"
        },
        "outputId": "859a608d-452f-4254-8baf-cb9098195a82"
      },
      "source": [
        "from sklearn.metrics import mean_squared_error\n",
        "mean_squared_error(y_test, model.predict(X_test))"
      ],
      "execution_count": 113,
      "outputs": [
        {
          "output_type": "execute_result",
          "data": {
            "text/plain": [
              "48355208.74083274"
            ]
          },
          "metadata": {},
          "execution_count": 113
        }
      ]
    },
    {
      "cell_type": "code",
      "metadata": {
        "id": "fwO7UYEqIiod",
        "colab": {
          "base_uri": "https://localhost:8080/"
        },
        "outputId": "b2e06619-1f67-4763-cc8e-d965dc8eae64"
      },
      "source": [
        "print(\"Train R squared\", 1 - mean_squared_error(y_train, model.predict(X_train)) / mean_squared_error(y_train, [y_train.mean()]*y_train.shape[0]))\n",
        "print(\"Test R squared\", 1 - mean_squared_error(y_test, model.predict(X_test)) / mean_squared_error(y_test, [y_test.mean()]*y_test.shape[0]))"
      ],
      "execution_count": 114,
      "outputs": [
        {
          "output_type": "stream",
          "text": [
            "Train R squared 0.4846190719940653\n",
            "Test R squared 0.48471208368488816\n"
          ],
          "name": "stdout"
        }
      ]
    },
    {
      "cell_type": "code",
      "metadata": {
        "id": "wFiP8qbWIieI"
      },
      "source": [
        "def models(X_train,y_train):\n",
        "  #use linear regression\n",
        "  from sklearn.linear_model import LinearRegression\n",
        "  lin = LinearRegression()\n",
        "  lin.fit(X_train,y_train)\n",
        "  y_predict=lin.predict(X_test)\n",
        "\n",
        "  # use gradientboosting regressor\n",
        "  from sklearn.ensemble import GradientBoostingRegressor\n",
        "  grad= GradientBoostingRegressor()\n",
        "  grad.fit(X_train, y_train)\n",
        "  y_predict=grad.predict(X_test)\n",
        "\n",
        "  # Use SVC(linear kernel)\n",
        "  from sklearn.svm import SVR\n",
        "  svr_lin=SVR(kernel='linear')\n",
        "  svr_lin.fit(X_train,y_train)\n",
        "  y_predict=svr_lin.predict(X_test)\n",
        "\n",
        " # Use SVC(rbf kernel)\n",
        "  from sklearn.svm import SVR\n",
        "  svr_rbf=SVR(kernel='rbf')\n",
        "  svr_rbf.fit(X_train,y_train)\n",
        "  y_predict=svr_rbf.predict(X_test)\n",
        "\n",
        "  # use decision tree regressor\n",
        "  from sklearn.tree import DecisionTreeRegressor\n",
        "  dtr = DecisionTreeRegressor()\n",
        "  dtr.fit(X_train,y_train)\n",
        "  y_predict=dtr.predict(X_test)\n",
        "\n",
        "  # use random forest regressor\n",
        "  from sklearn.ensemble import RandomForestRegressor\n",
        "  regr = RandomForestRegressor(max_depth=5)\n",
        "  regr.fit(X_train, y_train)\n",
        "  y_predict=regr.predict(X_test)\n",
        "\n",
        "  #Print the training accuracy for each model\n",
        "  print('[0]Linear Regression Training Accuracy:',lin.score(X_train,y_train))\n",
        "  print('[1]gradient boosting Training Accuracy:',grad.score(X_train,y_train))\n",
        "  print('[2]SVC Linear Training Accuracy:',svr_lin.score(X_train,y_train))\n",
        "  print('[3]SVC RBF Training Accuracy:',svr_rbf.score(X_train,y_train))\n",
        "  print('[4]Decision tree Training Accuracy:',dtr.score(X_train,y_train))\n",
        "  print('[5]Random Forest Training Accuracy:',regr.score(X_train,y_train))\n",
        "\n",
        "   #Print the testing accuracy for each model\n",
        "  print('[0]Linear Regression Testing Accuracy:',lin.score(X_test,y_test))\n",
        "  print('[1]gradient boosting Testing Accuracy:',grad.score(X_test,y_test))\n",
        "  print('[2]SVC Linear Testing Accuracy:',svr_lin.score(X_test,y_test))\n",
        "  print('[3]SVC RBF Testing Accuracy:',svr_rbf.score(X_test,y_test))\n",
        "  print('[4]Decision tree Testing Accuracy:',dtr.score(X_test,y_test))\n",
        "  print('[5]Random Forest Testing Accuracy:',regr.score(X_test,y_test))\n",
        "\n",
        "  return lin, grad, svr_lin, svr_rbf,  dtr, regr "
      ],
      "execution_count": 115,
      "outputs": []
    },
    {
      "cell_type": "code",
      "metadata": {
        "id": "wQ3vfkJJIiQr",
        "colab": {
          "base_uri": "https://localhost:8080/"
        },
        "outputId": "d1d81000-a3cf-4b73-f949-09b2a9964017"
      },
      "source": [
        " #Get and train all of the models\n",
        "model = models(X_train,y_train)"
      ],
      "execution_count": null,
      "outputs": [
        {
          "output_type": "stream",
          "text": [
            "[0]Linear Regression Training Accuracy: 0.4846190719940653\n",
            "[1]gradient boosting Training Accuracy: 0.9893085700234453\n",
            "[2]SVC Linear Training Accuracy: 0.3099565346023717\n",
            "[3]SVC RBF Training Accuracy: -0.06258704184091402\n",
            "[4]Decision tree Training Accuracy: 1.0\n",
            "[5]Random Forest Training Accuracy: 0.9607488612345074\n",
            "[0]Linear Regression Testing Accuracy: 0.48471208368488805\n",
            "[1]gradient boosting Testing Accuracy: 0.989525277650029\n",
            "[2]SVC Linear Testing Accuracy: 0.315810633154333\n",
            "[3]SVC RBF Testing Accuracy: -0.059773483669351306\n",
            "[4]Decision tree Testing Accuracy: 0.999914903080144\n",
            "[5]Random Forest Testing Accuracy: 0.9574820467862494\n"
          ],
          "name": "stdout"
        }
      ]
    },
    {
      "cell_type": "code",
      "metadata": {
        "id": "FQkJ-HYKIiFr",
        "colab": {
          "base_uri": "https://localhost:8080/",
          "height": 231
        },
        "outputId": "2486f02b-e5fa-482d-a0a8-669c620fff7d"
      },
      "source": [
        " lin = LinearRegression()\n",
        " \n",
        "\n",
        "#Print the training accuracy for each model\n",
        "print('[1]gradient boosting Training Accuracy:',grad.score(X_test,y_test))\n",
        "print('[2]SVC Linear Training Accuracy:',svr_lin.score(X_test,y_test))\n",
        "print('[3]SVC RBF Training Accuracy:',svr_rbf.score(X_test,y_test))\n",
        "print('[4]Decision tree Training Accuracy:',dtr.score(X_test,y_test))\n",
        "print('[5]Random Forest Training Accuracy:',regr.score(X_test,y_test))"
      ],
      "execution_count": null,
      "outputs": [
        {
          "output_type": "error",
          "ename": "NameError",
          "evalue": "ignored",
          "traceback": [
            "\u001b[0;31m---------------------------------------------------------------------------\u001b[0m",
            "\u001b[0;31mNameError\u001b[0m                                 Traceback (most recent call last)",
            "\u001b[0;32m<ipython-input-61-e116a791a250>\u001b[0m in \u001b[0;36m<module>\u001b[0;34m()\u001b[0m\n\u001b[1;32m      1\u001b[0m \u001b[0;34m\u001b[0m\u001b[0m\n\u001b[1;32m      2\u001b[0m \u001b[0;31m#Print the training accuracy for each model\u001b[0m\u001b[0;34m\u001b[0m\u001b[0;34m\u001b[0m\u001b[0;34m\u001b[0m\u001b[0m\n\u001b[0;32m----> 3\u001b[0;31m \u001b[0mprint\u001b[0m\u001b[0;34m(\u001b[0m\u001b[0;34m'[1]gradient boosting Training Accuracy:'\u001b[0m\u001b[0;34m,\u001b[0m\u001b[0mgrad\u001b[0m\u001b[0;34m.\u001b[0m\u001b[0mscore\u001b[0m\u001b[0;34m(\u001b[0m\u001b[0mX_test\u001b[0m\u001b[0;34m,\u001b[0m\u001b[0my_test\u001b[0m\u001b[0;34m)\u001b[0m\u001b[0;34m)\u001b[0m\u001b[0;34m\u001b[0m\u001b[0;34m\u001b[0m\u001b[0m\n\u001b[0m\u001b[1;32m      4\u001b[0m \u001b[0mprint\u001b[0m\u001b[0;34m(\u001b[0m\u001b[0;34m'[2]SVC Linear Training Accuracy:'\u001b[0m\u001b[0;34m,\u001b[0m\u001b[0msvr_lin\u001b[0m\u001b[0;34m.\u001b[0m\u001b[0mscore\u001b[0m\u001b[0;34m(\u001b[0m\u001b[0mX_test\u001b[0m\u001b[0;34m,\u001b[0m\u001b[0my_test\u001b[0m\u001b[0;34m)\u001b[0m\u001b[0;34m)\u001b[0m\u001b[0;34m\u001b[0m\u001b[0;34m\u001b[0m\u001b[0m\n\u001b[1;32m      5\u001b[0m \u001b[0mprint\u001b[0m\u001b[0;34m(\u001b[0m\u001b[0;34m'[3]SVC RBF Training Accuracy:'\u001b[0m\u001b[0;34m,\u001b[0m\u001b[0msvr_rbf\u001b[0m\u001b[0;34m.\u001b[0m\u001b[0mscore\u001b[0m\u001b[0;34m(\u001b[0m\u001b[0mX_test\u001b[0m\u001b[0;34m,\u001b[0m\u001b[0my_test\u001b[0m\u001b[0;34m)\u001b[0m\u001b[0;34m)\u001b[0m\u001b[0;34m\u001b[0m\u001b[0;34m\u001b[0m\u001b[0m\n",
            "\u001b[0;31mNameError\u001b[0m: name 'grad' is not defined"
          ]
        }
      ]
    },
    {
      "cell_type": "code",
      "metadata": {
        "id": "11melbb6fDuf"
      },
      "source": [
        "from sklearn.preprocessing import LabelEncoder\n",
        "label_encoder = LabelEncoder()\n",
        "data['Network Type'] = label_encoder.fit_transform(data['Network Type'])\n",
        "data['State Name'] = label_encoder.fit_transform(data['State Name'])\n",
        "data['Operator'] = label_encoder.fit_transform(data['Operator'])\n",
        "data['In Out Travelling'] = label_encoder.fit_transform(data['In Out Travelling'])\n",
        "data['Call Drop Category'] = label_encoder.fit_transform(data['Call Drop Category'])"
      ],
      "execution_count": null,
      "outputs": []
    },
    {
      "cell_type": "code",
      "metadata": {
        "id": "nq74VvIqIh6P"
      },
      "source": [
        "y=data['Call Drop Category']\n",
        "x=data.drop(columns='Call Drop Category')"
      ],
      "execution_count": null,
      "outputs": []
    },
    {
      "cell_type": "code",
      "metadata": {
        "id": "BR-RWjDQfCb-"
      },
      "source": [
        ""
      ],
      "execution_count": null,
      "outputs": []
    },
    {
      "cell_type": "code",
      "metadata": {
        "id": "hAbyPPtsIhx7"
      },
      "source": [
        " #split the dataset into 80% training and 20% testing dataset\n",
        "from sklearn.model_selection import train_test_split\n",
        "x_train, x_test, y_train, y_test = train_test_split(x,y,test_size=0.2,random_state=0)"
      ],
      "execution_count": null,
      "outputs": []
    },
    {
      "cell_type": "code",
      "metadata": {
        "id": "JrHSDM82espc"
      },
      "source": [
        "# Scale the data \n",
        "from sklearn.preprocessing import StandardScaler\n",
        "sc = StandardScaler()\n",
        "x_train=sc.fit_transform(x_train)\n",
        "x_test=sc.fit_transform(x_test)"
      ],
      "execution_count": null,
      "outputs": []
    },
    {
      "cell_type": "code",
      "metadata": {
        "id": "ftjzMMbufJMm"
      },
      "source": [
        "# create a function with many machine learning models\n",
        "def models(x_train,y_train):\n",
        "\n",
        "  #Use logistic regression\n",
        "  from sklearn.linear_model import LogisticRegression\n",
        "  log=LogisticRegression(random_state=0)\n",
        "  log.fit(x_train,y_train)\n",
        "\n",
        "  #Use KNeighbors\n",
        "  from sklearn.neighbors import KNeighborsClassifier\n",
        "  knn= KNeighborsClassifier(n_neighbors=5,metric='minkowski',p=2)\n",
        "  knn.fit(x_train,y_train)\n",
        "\n",
        "  # Use SVC(linear kernel)\n",
        "  from sklearn.svm import SVC\n",
        "  svc_lin=SVC(kernel='linear',random_state=0)\n",
        "  svc_lin.fit(x_train,y_train)\n",
        "\n",
        " # Use SVC(rbf kernel)\n",
        "  from sklearn.svm import SVC\n",
        "  svc_rbf=SVC(kernel='rbf',random_state=0)\n",
        "  svc_rbf.fit(x_train,y_train)\n",
        "\n",
        "  # Use GaussianNB\n",
        "  from sklearn.naive_bayes import GaussianNB\n",
        "  gauss=GaussianNB()\n",
        "  gauss.fit(x_train,y_train)\n",
        "\n",
        "  # Use decisiontree classifier\n",
        "  from sklearn.tree import DecisionTreeClassifier\n",
        "  tree = DecisionTreeClassifier(criterion='entropy',random_state=0)\n",
        "  tree.fit(x_train,y_train)\n",
        "\n",
        "  #Use Randomforest Classifier\n",
        "  from sklearn.ensemble import RandomForestClassifier\n",
        "  forest=RandomForestClassifier(n_estimators=10, criterion='entropy',random_state=0)\n",
        "  forest.fit(x_train,y_train)\n",
        "\n",
        "  #Print the training accuracy for each model\n",
        "  print('[0]Logistic Regression Training Accuracy:',log.score(x_train,y_train))\n",
        "  print('[1]K Neighbors Training Accuracy:',knn.score(x_train,y_train))\n",
        "  print('[2]SVC Linear Training Accuracy:',svc_lin.score(x_train,y_train))\n",
        "  print('[3]SVC RBF Training Accuracy:',svc_rbf.score(x_train,y_train))\n",
        "  print('[4]Gaussian NB Training Accuracy:',gauss.score(x_train,y_train))\n",
        "  print('[5]Decision tree Training Accuracy:',tree.score(x_train,y_train))\n",
        "  print('[6]Random Forest Training Accuracy:',forest.score(x_train,y_train))\n",
        "\n",
        "  return log, knn, svc_lin, svc_rbf, gauss, tree, forest \n",
        "  "
      ],
      "execution_count": null,
      "outputs": []
    },
    {
      "cell_type": "code",
      "metadata": {
        "id": "8mrCjeavfYaR",
        "colab": {
          "base_uri": "https://localhost:8080/"
        },
        "outputId": "5ba7d5b2-20d5-4904-987a-9548bbc61c85"
      },
      "source": [
        "# Get and train all of the models\n",
        "model = models(x_train,y_train)"
      ],
      "execution_count": null,
      "outputs": [
        {
          "output_type": "stream",
          "text": [
            "[0]Logistic Regression Training Accuracy: 0.8952411888906935\n",
            "[1]K Neighbors Training Accuracy: 0.9466460938768881\n",
            "[2]SVC Linear Training Accuracy: 0.885414974825402\n",
            "[3]SVC RBF Training Accuracy: 0.9123355530290727\n",
            "[4]Gaussian NB Training Accuracy: 0.8200016241676141\n",
            "[5]Decision tree Training Accuracy: 0.9915543284066916\n",
            "[6]Random Forest Training Accuracy: 0.9868848465161605\n"
          ],
          "name": "stdout"
        }
      ]
    },
    {
      "cell_type": "code",
      "metadata": {
        "id": "dZKYgwrxffDe",
        "colab": {
          "base_uri": "https://localhost:8080/"
        },
        "outputId": "cbb7ba29-007a-47c9-ffe2-3069aee6356a"
      },
      "source": [
        "# Show the confusion matrix and accuracy of the models on the test data\n",
        "from sklearn.metrics import confusion_matrix\n",
        "for i in range(len(model)):\n",
        "  y_pred=model[i].predict(x_test)\n",
        "  cm = confusion_matrix(y_test,y_pred)\n",
        "  print(cm)\n",
        "  print()"
      ],
      "execution_count": null,
      "outputs": [
        {
          "output_type": "stream",
          "text": [
            "[[ 165  384    9]\n",
            " [  70 1125   87]\n",
            " [   0   97 4220]]\n",
            "\n",
            "[[ 313  229   16]\n",
            " [ 148 1082   52]\n",
            " [   5   58 4254]]\n",
            "\n",
            "[[ 143  404   11]\n",
            " [ 107 1071  104]\n",
            " [  18   56 4243]]\n",
            "\n",
            "[[ 189  363    6]\n",
            " [  71 1147   64]\n",
            " [   2   60 4255]]\n",
            "\n",
            "[[   2  555    1]\n",
            " [   8 1268    6]\n",
            " [   0  558 3759]]\n",
            "\n",
            "[[ 326  222   10]\n",
            " [ 240  968   74]\n",
            " [  10   80 4227]]\n",
            "\n",
            "[[ 273  253   32]\n",
            " [ 177 1034   71]\n",
            " [   3   70 4244]]\n",
            "\n"
          ],
          "name": "stdout"
        }
      ]
    },
    {
      "cell_type": "code",
      "metadata": {
        "id": "CR1kFRG7MUf2",
        "colab": {
          "base_uri": "https://localhost:8080/"
        },
        "outputId": "9868f6dc-3436-4ebc-df8c-4b0c9733a960"
      },
      "source": [
        "for i in range(len(model)):\n",
        "  y_pred=model[i].predict(x_test)\n",
        "  print(y_pred)"
      ],
      "execution_count": null,
      "outputs": [
        {
          "output_type": "stream",
          "text": [
            "[1 2 2 ... 2 2 1]\n",
            "[1 2 2 ... 2 2 1]\n",
            "[1 2 2 ... 2 2 1]\n",
            "[0 2 2 ... 2 2 1]\n",
            "[1 2 2 ... 2 2 1]\n",
            "[1 2 2 ... 2 2 1]\n",
            "[0 2 2 ... 2 2 1]\n"
          ],
          "name": "stdout"
        }
      ]
    },
    {
      "cell_type": "code",
      "metadata": {
        "id": "_JpuSQIPfexC",
        "colab": {
          "base_uri": "https://localhost:8080/"
        },
        "outputId": "8da303df-e879-4189-cb27-99aa8e17ce8b"
      },
      "source": [
        "#importing accuracy_score, precision_score, recall_score, f1_score\n",
        "from sklearn.metrics import accuracy_score, precision_score, recall_score, f1_score\n",
        "for i in range(len(model)):\n",
        "  print('\\nAccuracy: {:.2f}\\n'.format(accuracy_score(y_test, y_pred)))\n",
        "  \n",
        "  print('Micro Precision: {:.2f}'.format(precision_score(y_test, y_pred, average='micro')))\n",
        "  print('Micro Recall: {:.2f}'.format(recall_score(y_test, y_pred, average='micro')))\n",
        "  print('Micro F1-score: {:.2f}\\n'.format(f1_score(y_test, y_pred, average='micro')))\n",
        "\n",
        "  print('Weighted Precision: {:.2f}'.format(precision_score(y_test, y_pred, average='weighted')))\n",
        "  print('Weighted Recall: {:.2f}'.format(recall_score(y_test, y_pred, average='weighted')))\n",
        "  print('Weighted F1-score: {:.2f}'.format(f1_score(y_test, y_pred, average='weighted')))\n",
        "\n",
        "from sklearn.metrics import classification_report\n",
        "print('\\nClassification Report\\n')\n",
        "print(classification_report(y_test, y_pred, target_names=['Class 1', 'Class 2', 'Class 3']))"
      ],
      "execution_count": null,
      "outputs": [
        {
          "output_type": "stream",
          "text": [
            "\n",
            "Accuracy: 0.90\n",
            "\n",
            "Micro Precision: 0.90\n",
            "Micro Recall: 0.90\n",
            "Micro F1-score: 0.90\n",
            "\n",
            "Weighted Precision: 0.90\n",
            "Weighted Recall: 0.90\n",
            "Weighted F1-score: 0.90\n",
            "\n",
            "Accuracy: 0.90\n",
            "\n",
            "Micro Precision: 0.90\n",
            "Micro Recall: 0.90\n",
            "Micro F1-score: 0.90\n",
            "\n",
            "Weighted Precision: 0.90\n",
            "Weighted Recall: 0.90\n",
            "Weighted F1-score: 0.90\n",
            "\n",
            "Accuracy: 0.90\n",
            "\n",
            "Micro Precision: 0.90\n",
            "Micro Recall: 0.90\n",
            "Micro F1-score: 0.90\n",
            "\n",
            "Weighted Precision: 0.90\n",
            "Weighted Recall: 0.90\n",
            "Weighted F1-score: 0.90\n",
            "\n",
            "Accuracy: 0.90\n",
            "\n",
            "Micro Precision: 0.90\n",
            "Micro Recall: 0.90\n",
            "Micro F1-score: 0.90\n",
            "\n",
            "Weighted Precision: 0.90\n",
            "Weighted Recall: 0.90\n",
            "Weighted F1-score: 0.90\n",
            "\n",
            "Accuracy: 0.90\n",
            "\n",
            "Micro Precision: 0.90\n",
            "Micro Recall: 0.90\n",
            "Micro F1-score: 0.90\n",
            "\n",
            "Weighted Precision: 0.90\n",
            "Weighted Recall: 0.90\n",
            "Weighted F1-score: 0.90\n",
            "\n",
            "Accuracy: 0.90\n",
            "\n",
            "Micro Precision: 0.90\n",
            "Micro Recall: 0.90\n",
            "Micro F1-score: 0.90\n",
            "\n",
            "Weighted Precision: 0.90\n",
            "Weighted Recall: 0.90\n",
            "Weighted F1-score: 0.90\n",
            "\n",
            "Accuracy: 0.90\n",
            "\n",
            "Micro Precision: 0.90\n",
            "Micro Recall: 0.90\n",
            "Micro F1-score: 0.90\n",
            "\n",
            "Weighted Precision: 0.90\n",
            "Weighted Recall: 0.90\n",
            "Weighted F1-score: 0.90\n",
            "\n",
            "Classification Report\n",
            "\n",
            "              precision    recall  f1-score   support\n",
            "\n",
            "     Class 1       0.60      0.49      0.54       558\n",
            "     Class 2       0.76      0.81      0.78      1282\n",
            "     Class 3       0.98      0.98      0.98      4317\n",
            "\n",
            "    accuracy                           0.90      6157\n",
            "   macro avg       0.78      0.76      0.77      6157\n",
            "weighted avg       0.90      0.90      0.90      6157\n",
            "\n"
          ],
          "name": "stdout"
        }
      ]
    },
    {
      "cell_type": "code",
      "metadata": {
        "id": "rEZKDCf5428m"
      },
      "source": [
        "from sklearn.cluster import KMeans"
      ],
      "execution_count": null,
      "outputs": []
    },
    {
      "cell_type": "code",
      "metadata": {
        "id": "6KD4U8c98qjI"
      },
      "source": [
        "from sklearn.preprocessing import LabelEncoder\n",
        "label_encoder = LabelEncoder()\n",
        "data['Network Type'] = label_encoder.fit_transform(data['Network Type'])\n",
        "data['State Name'] = label_encoder.fit_transform(data['State Name'])\n",
        "data['Operator'] = label_encoder.fit_transform(data['Operator'])\n",
        "data['In Out Travelling'] = label_encoder.fit_transform(data['In Out Travelling'])\n",
        "data['Call Drop Category'] = label_encoder.fit_transform(data['Call Drop Category'])"
      ],
      "execution_count": null,
      "outputs": []
    },
    {
      "cell_type": "code",
      "metadata": {
        "id": "kz0rbTp942fL",
        "colab": {
          "base_uri": "https://localhost:8080/"
        },
        "outputId": "2a2016cc-9e67-4df4-e6d9-bd48d8fd767e"
      },
      "source": [
        "kmeans = KMeans(n_clusters=10, random_state=0)\n",
        "kmeans.fit(data)\n",
        "yhat = kmeans.predict(data)\n",
        "clusters = pd.DataFrame(yhat).nunique()\n",
        "kmeans.cluster_centers_.shape"
      ],
      "execution_count": null,
      "outputs": [
        {
          "output_type": "execute_result",
          "data": {
            "text/plain": [
              "(10, 16)"
            ]
          },
          "metadata": {},
          "execution_count": 12
        }
      ]
    },
    {
      "cell_type": "code",
      "metadata": {
        "id": "LeJuqr1D418a"
      },
      "source": [
        "clusters = np.array(clusters)"
      ],
      "execution_count": null,
      "outputs": []
    },
    {
      "cell_type": "code",
      "metadata": {
        "id": "qOPRDlkETC0E"
      },
      "source": [
        "from scipy.spatial.distance import cdist"
      ],
      "execution_count": null,
      "outputs": []
    },
    {
      "cell_type": "code",
      "metadata": {
        "id": "EfKfAR9S41fi"
      },
      "source": [
        "distortions = []\n",
        "inertias = []\n",
        "mapping1 = {}\n",
        "mapping2 = {}\n",
        "K = range(1, 10)\n",
        " \n",
        "for k in K:\n",
        "    # Building and fitting the model\n",
        "    kmeanModel = KMeans(n_clusters=k).fit(data)\n",
        "    kmeanModel.fit(data)\n",
        " \n",
        "    distortions.append(sum(np.min(cdist(data, kmeanModel.cluster_centers_,\n",
        "                                        'euclidean'), axis=1)) / data.shape[0])\n",
        "    inertias.append(kmeanModel.inertia_)\n",
        " \n",
        "    mapping1[k] = sum(np.min(cdist(data, kmeanModel.cluster_centers_,\n",
        "                                   'euclidean'), axis=1)) / data.shape[0]\n",
        "    mapping2[k] = kmeanModel.inertia_"
      ],
      "execution_count": null,
      "outputs": []
    },
    {
      "cell_type": "code",
      "metadata": {
        "id": "JuE7kr7341NZ",
        "colab": {
          "base_uri": "https://localhost:8080/"
        },
        "outputId": "67fc2269-41bb-4bad-c056-a617f9043f6f"
      },
      "source": [
        "for key, val in mapping1.items():\n",
        "    print(f'{key} : {val}')"
      ],
      "execution_count": null,
      "outputs": [
        {
          "output_type": "stream",
          "text": [
            "1 : 31316507.697238278\n",
            "2 : 22327688.775556397\n",
            "3 : 8599500.62013996\n",
            "4 : 6042939.149773473\n",
            "5 : 3403816.099827883\n",
            "6 : 2417987.0568659315\n",
            "7 : 1497441.8462897134\n",
            "8 : 835004.526499428\n",
            "9 : 424576.2377393679\n"
          ],
          "name": "stdout"
        }
      ]
    },
    {
      "cell_type": "code",
      "metadata": {
        "id": "gKIWp3kGTY70",
        "colab": {
          "base_uri": "https://localhost:8080/",
          "height": 295
        },
        "outputId": "990a2e7a-13a7-4aee-eca4-bd1bf423c5d4"
      },
      "source": [
        "plt.plot(K, distortions, 'bx-')\n",
        "plt.xlabel('Values of K')\n",
        "plt.ylabel('Distortion')\n",
        "plt.title('The Elbow Method using Distortion')\n",
        "plt.show()"
      ],
      "execution_count": null,
      "outputs": [
        {
          "output_type": "display_data",
          "data": {
            "image/png": "[encoded data removed]",
            "text/plain": [
              "<Figure size 432x288 with 1 Axes>"
            ]
          },
          "metadata": {
            "needs_background": "light"
          }
        }
      ]
    },
    {
      "cell_type": "code",
      "metadata": {
        "id": "w1Y5HzxRTZLQ",
        "colab": {
          "base_uri": "https://localhost:8080/"
        },
        "outputId": "500f2c56-6499-48ad-ac94-464b1ba21444"
      },
      "source": [
        "for key, val in mapping2.items():\n",
        "    print(f'{key} : {val}')"
      ],
      "execution_count": null,
      "outputs": [
        {
          "output_type": "stream",
          "text": [
            "1 : 5.206896079101357e+19\n",
            "2 : 2.0844466977756393e+19\n",
            "3 : 4.0572503439129487e+18\n",
            "4 : 1.7424103412849134e+18\n",
            "5 : 6.909274105063374e+17\n",
            "6 : 3.67126088966527e+17\n",
            "7 : 1.548066966283836e+17\n",
            "8 : 7.002652511252778e+16\n",
            "9 : 3.577520792011885e+16\n"
          ],
          "name": "stdout"
        }
      ]
    },
    {
      "cell_type": "code",
      "metadata": {
        "id": "hoBoKRHjTZb2",
        "colab": {
          "base_uri": "https://localhost:8080/",
          "height": 295
        },
        "outputId": "6ccf6527-80d2-4c61-b2ec-d5d3074cbf4d"
      },
      "source": [
        "plt.plot(K, inertias, 'bx-')\n",
        "plt.xlabel('Values of K')\n",
        "plt.ylabel('Inertia')\n",
        "plt.title('The Elbow Method using Inertia')\n",
        "plt.show()"
      ],
      "execution_count": null,
      "outputs": [
        {
          "output_type": "display_data",
          "data": {
            "image/png": "[encoded data removed]",
            "text/plain": [
              "<Figure size 432x288 with 1 Axes>"
            ]
          },
          "metadata": {
            "needs_background": "light"
          }
        }
      ]
    },
    {
      "cell_type": "code",
      "metadata": {
        "id": "HFO-PL0gWbQk"
      },
      "source": [
        "from sklearn.metrics import silhouette_score"
      ],
      "execution_count": null,
      "outputs": []
    },
    {
      "cell_type": "code",
      "metadata": {
        "id": "aC2E88srWa3o",
        "colab": {
          "base_uri": "https://localhost:8080/"
        },
        "outputId": "ebe9cea4-1f22-4d43-a8f6-f12d879b500f"
      },
      "source": [
        " K = range(2,20)\n",
        " for k in K:\n",
        "  \n",
        "    cluster = KMeans(n_clusters = k)\n",
        "    cluster_labels = cluster.fit_predict(data)\n",
        "  \n",
        "    # The silhouette_score gives the \n",
        "    # average value for all the samples.\n",
        "    silhouette_avg = silhouette_score(data, cluster_labels)\n",
        "  \n",
        "    print(\"For no of clusters =\", k,\n",
        "          \" The average silhouette_score is :\", silhouette_avg)"
      ],
      "execution_count": null,
      "outputs": [
        {
          "output_type": "stream",
          "text": [
            "For no of clusters = 2  The average silhouette_score is : 0.7564814704506093\n",
            "For no of clusters = 3  The average silhouette_score is : 0.7673986000529813\n",
            "For no of clusters = 4  The average silhouette_score is : 0.7643494239843408\n",
            "For no of clusters = 5  The average silhouette_score is : 0.8240823688513311\n",
            "For no of clusters = 6  The average silhouette_score is : 0.8383328220766014\n",
            "For no of clusters = 7  The average silhouette_score is : 0.8797531096869866\n",
            "For no of clusters = 8  The average silhouette_score is : 0.9136392878448248\n",
            "For no of clusters = 9  The average silhouette_score is : 0.9589786060599272\n",
            "For no of clusters = 10  The average silhouette_score is : 0.9798341998970483\n",
            "For no of clusters = 11  The average silhouette_score is : 0.9788606024275355\n",
            "For no of clusters = 12  The average silhouette_score is : 0.9840591676700002\n",
            "For no of clusters = 13  The average silhouette_score is : 0.9933853877534218\n",
            "For no of clusters = 14  The average silhouette_score is : 0.9946038233218658\n",
            "For no of clusters = 15  The average silhouette_score is : 0.996207519877898\n",
            "For no of clusters = 16  The average silhouette_score is : 0.9388440140713505\n",
            "For no of clusters = 17  The average silhouette_score is : 0.9323631612566236\n",
            "For no of clusters = 18  The average silhouette_score is : 0.9250439449113546\n",
            "For no of clusters = 19  The average silhouette_score is : 0.9246047261042328\n"
          ],
          "name": "stdout"
        }
      ]
    }
  ]
}